{
 "cells": [
  {
   "cell_type": "markdown",
   "metadata": {},
   "source": [
    "<h1>Citibike Network Assignment</h1>\n",
    "<li>The file, 201809-citibike-tripdata.csv, contains citibike trip data from September 2018 (a reasonable sized file!)\n",
    "<li>The data:<br>\n",
    "\"tripduration\",\"starttime\",\"stoptime\",\"start station id\",\"start station name\",\"start station latitude\",\"start station longitude\",\"end station id\",\"end station name\",\"end station latitude\",\"end station longitude\",\"bikeid\",\"usertype\",\"birth year\",\"gender\"\n",
    "<li>Each record in the data is a trip \n",
    "<li>The data is described at https://www.citibikenyc.com/system-data"
   ]
  },
  {
   "cell_type": "markdown",
   "metadata": {},
   "source": [
    "<h1>STEP 1: Read the data into a dataframe</h1>\n",
    "<li>Convert station ids to str if necessary"
   ]
  },
  {
   "cell_type": "code",
   "execution_count": 51,
   "metadata": {},
   "outputs": [],
   "source": [
    "import pandas as pd\n",
    "import numpy as np\n",
    "import matplotlib.pyplot as plt\n",
    "import os\n",
    "import networkx as nx\n",
    "from tqdm import tqdm\n",
    "import itertools as it\n",
    "\n",
    "#Helper Functions\n",
    "def trim_subs(a, thresh=2):\n",
    "    g = a.copy()\n",
    "    to_remove = []\n",
    "    subs = list(nx.connected_component_subgraphs(g))\n",
    "    for s in subs:\n",
    "        if s.order() < thresh:\n",
    "            for n in s.nodes:\n",
    "                to_remove.append(n)\n",
    "    g.remove_nodes_from(to_remove)\n",
    "    \n",
    "    return g"
   ]
  },
  {
   "cell_type": "code",
   "execution_count": 8,
   "metadata": {},
   "outputs": [],
   "source": [
    "datafile = \"201809-citibike-tripdata.csv\"  \n",
    "df = pd.read_csv(datafile)"
   ]
  },
  {
   "cell_type": "markdown",
   "metadata": {},
   "source": [
    "<h1>STEP 2: Basic cleaning</h1>\n",
    "<li>Remove data that have any nans in any row (none in this file but others do have nans)\n",
    "<li>and convert stationids to str "
   ]
  },
  {
   "cell_type": "code",
   "execution_count": 9,
   "metadata": {},
   "outputs": [
    {
     "name": "stderr",
     "output_type": "stream",
     "text": [
      "100%|██████████| 1877168/1877168 [00:49<00:00, 38003.81it/s]\n"
     ]
    }
   ],
   "source": [
    "#Ran this already.\n",
    "\n",
    "df = df.dropna()\n",
    "\n",
    "df['start_station_id_str'] = df['start station id'].apply(int).apply(str)\n",
    "df['end_station_id_str'] = df['end station id'].apply(int).apply(str)\n",
    "\n",
    "\n",
    "from tqdm import tqdm\n",
    "tqdm.pandas()\n",
    "\n",
    "#Additional preprocessing step to speed up later functions:\n",
    "def get_edges(r):\n",
    "    #Return direction-independent edges.\n",
    "    s = int(r['start_station_id_str'])\n",
    "    e = int(r['end_station_id_str'])\n",
    "    edge = tuple(str(i) for i in sorted((s,e)))\n",
    "    return edge\n",
    "\n",
    "if not 'edges' in df.columns:\n",
    "    df['edges'] = df.progress_apply(get_edges, axis=1)\n",
    "\n",
    "#Remove extreme outliers (> 4 std):\n",
    "df['dur_zscore'] = (df.tripduration - df.tripduration.mean())/df.tripduration.std()\n",
    "df = df[df.dur_zscore < 4]\n",
    "\n",
    "df.to_csv('cleaned_tripdata.csv')\n"
   ]
  },
  {
   "cell_type": "markdown",
   "metadata": {},
   "source": [
    "<h1>STEP 3: Write a function that returns a graph given a citibike data frame</h1> \n",
    "<li>Your function should return two things:\n",
    "<ol>\n",
    "<li>a graph\n",
    "<li>a dictionary with station ids as the key and station name as the value\n",
    "</ol>\n",
    "<li>The graph should contain \n",
    "<ol>\n",
    "<li>nodes (station ids)\n",
    "<li>edges (station id, station id)\n",
    "<li>edge data \n",
    "<ol>\n",
    "<li>count: number of trips on the edge\n",
    "<li>time: average duration - pickup to dropoff - on that edge\n",
    "</ol>\n",
    "</ol>\n",
    "<li><b>Note:</b> the edge (x1,y1) is the same as (y1,x1) even though the start station ids and end station ids are flipped in the dataframe"
   ]
  },
  {
   "cell_type": "code",
   "execution_count": 10,
   "metadata": {},
   "outputs": [],
   "source": [
    "def get_citibike_graph(data):\n",
    "    \n",
    "    def get_edges(r):\n",
    "        #Return direction-independent edges.\n",
    "        s = int(r['start_station_id_str'])\n",
    "        e = int(r['end_station_id_str'])\n",
    "        edge = tuple(str(i) for i in sorted((s,e)))\n",
    "        return edge\n",
    "\n",
    "    G = nx.Graph()\n",
    "    \n",
    "    #Get all node names/nodes\n",
    "    print('Getting Nodes.')\n",
    "    start_map = {k:v for k,v in data[['start_station_id_str','start station name']].values}\n",
    "    end_map = {k:v for k,v in data[['end_station_id_str','end station name']].values}\n",
    "    start_map.update(end_map)\n",
    "    node_names = start_map.copy()\n",
    "    nodes = node_names.keys()\n",
    "    \n",
    "    #Add nodes.\n",
    "    G.add_nodes_from(nodes)\n",
    "    \n",
    "    #Generate (if not already generated) and add edges.\n",
    "    print('Getting Edges.')\n",
    "    if not 'edges' in data.columns:\n",
    "        print('Edges not found - adding edges column.')\n",
    "        data['edges'] = data.progress_apply(get_edges, axis=1)\n",
    "    edge_counts = data.edges.value_counts()\n",
    "    edge_durations = data.groupby('edges').mean()['tripduration']\n",
    "\n",
    "    for e in data.edges.unique():\n",
    "        G.add_edge(e[0], e[1], freq=edge_counts[e], dur=edge_durations[e])\n",
    "    \n",
    "    return G,node_names\n",
    "    "
   ]
  },
  {
   "cell_type": "markdown",
   "metadata": {},
   "source": [
    "<h1>STEP 4: Create the following graphs using the function above</h1>\n",
    "<li>G: A graph of all the data in the dataframe\n",
    "<li>m_G: A graph containing only data from male riders\n",
    "<li>f_G: A graph containing only data from female riders\n",
    "<li>Note: for m_G and f_G you will need to extract data from the dataframe"
   ]
  },
  {
   "cell_type": "code",
   "execution_count": 52,
   "metadata": {
    "collapsed": true
   },
   "outputs": [
    {
     "name": "stdout",
     "output_type": "stream",
     "text": [
      "Getting Nodes.\n",
      "Getting Edges.\n"
     ]
    },
    {
     "data": {
      "text/plain": [
       "781"
      ]
     },
     "execution_count": 52,
     "metadata": {},
     "output_type": "execute_result"
    }
   ],
   "source": [
    "G, G_nodes = get_citibike_graph(df)\n",
    "G = trim_subs(G)\n",
    "G.order()"
   ]
  },
  {
   "cell_type": "code",
   "execution_count": 53,
   "metadata": {},
   "outputs": [
    {
     "name": "stdout",
     "output_type": "stream",
     "text": [
      "Getting Nodes.\n",
      "Getting Edges.\n"
     ]
    },
    {
     "data": {
      "text/plain": [
       "778"
      ]
     },
     "execution_count": 53,
     "metadata": {},
     "output_type": "execute_result"
    }
   ],
   "source": [
    "m_df = df[df['gender'] == 1]\n",
    "m_G,m_Nodes = get_citibike_graph(m_df)\n",
    "m_G = trim_subs(m_G)\n",
    "m_G.order()"
   ]
  },
  {
   "cell_type": "code",
   "execution_count": 54,
   "metadata": {},
   "outputs": [
    {
     "name": "stdout",
     "output_type": "stream",
     "text": [
      "Getting Nodes.\n",
      "Getting Edges.\n"
     ]
    },
    {
     "data": {
      "text/plain": [
       "772"
      ]
     },
     "execution_count": 54,
     "metadata": {},
     "output_type": "execute_result"
    }
   ],
   "source": [
    "f_df = df[df['gender'] == 2]\n",
    "f_G,f_Nodes = get_citibike_graph(f_df)\n",
    "f_G = trim_subs(f_G)\n",
    "f_G.order()"
   ]
  },
  {
   "cell_type": "code",
   "execution_count": 55,
   "metadata": {},
   "outputs": [],
   "source": [
    "nx.write_gpickle(G,'./G')\n",
    "nx.write_gpickle(m_G,'./m_G')\n",
    "nx.write_gpickle(f_G,'./f_G')"
   ]
  },
  {
   "cell_type": "markdown",
   "metadata": {},
   "source": [
    "<h1>STEP 5: Answer the following questions for each of the graphs</h1>\n",
    "<ol>\n",
    "<li>Which station (name) is the best connected (max degree)?\n",
    "<li>Travel between which pair of stations is the longest in terms of average duration between bike pickups and dropoffs. Report both the two stations as well as the time in minutes\n",
    "<li>Which edge is associated with the most number of trips?\n",
    "<li>Which station is the most central?\n",
    "<li>Which node is a bottleneck node?"
   ]
  },
  {
   "cell_type": "markdown",
   "metadata": {},
   "source": [
    "Which station (name) has the greatest number of connections (max degree)?"
   ]
  },
  {
   "cell_type": "code",
   "execution_count": 14,
   "metadata": {},
   "outputs": [
    {
     "data": {
      "text/plain": [
       "('Pershing Square North', 575)"
      ]
     },
     "execution_count": 14,
     "metadata": {},
     "output_type": "execute_result"
    }
   ],
   "source": [
    "'''\n",
    "Full Graph:\n",
    "'''\n",
    "res = sorted(G.degree(), key = lambda x : x[1])[-1]\n",
    "greatest_degree = res[0]\n",
    "G_nodes[greatest_degree], res[1]"
   ]
  },
  {
   "cell_type": "code",
   "execution_count": 15,
   "metadata": {},
   "outputs": [
    {
     "data": {
      "text/plain": [
       "('Pershing Square North', 534)"
      ]
     },
     "execution_count": 15,
     "metadata": {},
     "output_type": "execute_result"
    }
   ],
   "source": [
    "'''\n",
    "Male Graph:\n",
    "'''\n",
    "res = sorted(m_G.degree(), key = lambda x : x[1])[-1]\n",
    "greatest_degree = res[0]\n",
    "m_Nodes[greatest_degree], res[1]"
   ]
  },
  {
   "cell_type": "code",
   "execution_count": 16,
   "metadata": {},
   "outputs": [
    {
     "data": {
      "text/plain": [
       "('Pershing Square North', 393)"
      ]
     },
     "execution_count": 16,
     "metadata": {},
     "output_type": "execute_result"
    }
   ],
   "source": [
    "'''\n",
    "Female Graph:\n",
    "'''\n",
    "res = sorted(f_G.degree(), key = lambda x : x[1])[-1]\n",
    "greatest_degree = res[0]\n",
    "f_Nodes[greatest_degree], res[1]"
   ]
  },
  {
   "cell_type": "markdown",
   "metadata": {},
   "source": [
    "Travel between which pair of stations is the longest in terms of average duration between bike pickups and dropoffs"
   ]
  },
  {
   "cell_type": "code",
   "execution_count": 17,
   "metadata": {},
   "outputs": [],
   "source": [
    "def approx_weighted_diameter(a):\n",
    "    g = a.copy()\n",
    "    print('Calculating periphery of graph - takes a while (~2min).')\n",
    "    peri = nx.periphery(g)\n",
    "    stations = peri\n",
    "\n",
    "    max_distances = dict()\n",
    "    for s1 in tqdm(stations):\n",
    "        distances = dict()\n",
    "        for s2 in stations:\n",
    "            if s1 != s2:\n",
    "                try:\n",
    "                    distances[s2] = nx.dijkstra_path_length(G,s1,s2,weight='dur')\n",
    "                except:\n",
    "                    print('Some error occurred.')\n",
    "                    continue\n",
    "        max_dist_node, max_dist = sorted(distances.items(), key=lambda x: x[1])[-1]\n",
    "        max_distances[s1] = (max_dist_node, max_dist)\n",
    "\n",
    "    #Longest path (approximated via brute force on unweighted periphery)\n",
    "    start,(end,dist) = sorted(max_distances.items(), key=lambda x: x[1][1])[-1]\n",
    "    return (start, end, dist)"
   ]
  },
  {
   "cell_type": "code",
   "execution_count": 86,
   "metadata": {},
   "outputs": [
    {
     "name": "stdout",
     "output_type": "stream",
     "text": [
      "Calculating periphery of graph - takes a while (~2min).\n"
     ]
    },
    {
     "name": "stderr",
     "output_type": "stream",
     "text": [
      "100%|██████████| 12/12 [00:26<00:00,  2.20s/it]"
     ]
    },
    {
     "name": "stdout",
     "output_type": "stream",
     "text": [
      "3638 3270 31609.325767690254\n"
     ]
    },
    {
     "name": "stderr",
     "output_type": "stream",
     "text": [
      "\n"
     ]
    }
   ],
   "source": [
    "s,e,d = approx_weighted_diameter(G)\n",
    "print(f'Graph time-diameter is {G_nodes[s]} to {G_nodes[e]}, time = {round(d,2)}.')"
   ]
  },
  {
   "cell_type": "code",
   "execution_count": 60,
   "metadata": {},
   "outputs": [
    {
     "name": "stdout",
     "output_type": "stream",
     "text": [
      "Calculating periphery of graph - takes a while (~2min).\n"
     ]
    },
    {
     "name": "stderr",
     "output_type": "stream",
     "text": [
      "100%|██████████| 11/11 [00:25<00:00,  2.29s/it]"
     ]
    },
    {
     "name": "stdout",
     "output_type": "stream",
     "text": [
      "Graph time-diameter is Washington St to Union St, time = 30621.32.\n"
     ]
    },
    {
     "name": "stderr",
     "output_type": "stream",
     "text": [
      "\n"
     ]
    }
   ],
   "source": [
    "s,e,d = approx_weighted_diameter(m_G)\n",
    "print(f'Graph time-diameter is {m_Nodes[s]} to {m_Nodes[e]}, time = {round(d,2)}.')"
   ]
  },
  {
   "cell_type": "code",
   "execution_count": 59,
   "metadata": {},
   "outputs": [
    {
     "name": "stdout",
     "output_type": "stream",
     "text": [
      "Calculating periphery of graph - takes a while (~2min).\n"
     ]
    },
    {
     "name": "stderr",
     "output_type": "stream",
     "text": [
      "100%|██████████| 19/19 [00:54<00:00,  2.87s/it]"
     ]
    },
    {
     "name": "stdout",
     "output_type": "stream",
     "text": [
      "Graph time-diameter is Newport Pkwy to Jersey & 6th St, time = 14437.696721311477.\n"
     ]
    },
    {
     "name": "stderr",
     "output_type": "stream",
     "text": [
      "\n"
     ]
    }
   ],
   "source": [
    "s,e,d = approx_weighted_diameter(f_G)\n",
    "print(f'Graph time-diameter is {f_Nodes[s]} to {f_Nodes[e]}, time = {round(d,2)}.')"
   ]
  },
  {
   "cell_type": "code",
   "execution_count": 36,
   "metadata": {},
   "outputs": [
    {
     "name": "stdout",
     "output_type": "stream",
     "text": [
      "('531', '3245') has duration 31216.0\n"
     ]
    }
   ],
   "source": [
    "res = sorted(list(G.edges(data = True)), key=lambda x: x[-1]['dur'])[-1]\n",
    "print(f'{res[0:2]} has duration {res[-1][\"dur\"]}')"
   ]
  },
  {
   "cell_type": "markdown",
   "metadata": {},
   "source": [
    "Which edge is associated with the most number of trips?"
   ]
  },
  {
   "cell_type": "code",
   "execution_count": 45,
   "metadata": {},
   "outputs": [
    {
     "name": "stdout",
     "output_type": "stream",
     "text": [
      "Edge ('460', '3093') was traversed 1164 times!\n"
     ]
    }
   ],
   "source": [
    "res = nx.get_edge_attributes(G,'freq').items()\n",
    "most = sorted(res, key=lambda x: x[1], reverse=True)[0]\n",
    "print(f'Edge {most[0]} was traversed {most[1]} times!')"
   ]
  },
  {
   "cell_type": "markdown",
   "metadata": {},
   "source": [
    "<h2>Centrality</h2>\n",
    "One of the concerns that the citibike system has to deal with is ensuring that no station has empty slots (a bike should always be available) and that no station should have no empty slots (you should be able to return a bike). To do this, it needs to monitor the movement of bikes through the system, ideally using a directed graph. Though our graph is not directed, we can look at some network characteristics that will help us answer these questions. Note that the \"trips\" feature in edge data captures flows.\n",
    "<li>Which node is a possible bottleneck node in terms of bike flows?\n",
    "<li>Which node is the \"nearest\" to all other nodes (irrespective of flows)\n",
    "<li>Which node is the \"nearest\" to all other nodes (in terms of distance = time)\n"
   ]
  },
  {
   "cell_type": "code",
   "execution_count": 56,
   "metadata": {},
   "outputs": [
    {
     "name": "stdout",
     "output_type": "stream",
     "text": [
      "Water - Whitehall Plaza is the biggest bottleneck (bc of 0.01).\n"
     ]
    }
   ],
   "source": [
    "#Full Graph - 1)\n",
    "res = nx.betweenness_centrality(G, weight='freq')\n",
    "a,b = sorted(res.items(), key = lambda x: x[1])[-1]\n",
    "print(f'{G_nodes[a]} is the biggest bottleneck (bc of {round(b,2)}).')"
   ]
  },
  {
   "cell_type": "code",
   "execution_count": 58,
   "metadata": {},
   "outputs": [
    {
     "name": "stdout",
     "output_type": "stream",
     "text": [
      "Pershing Square North is most central (cc of 0.79).\n"
     ]
    }
   ],
   "source": [
    "#Full Graph - 2)\n",
    "res = nx.closeness_centrality(G)\n",
    "a,b = sorted(res.items(), key=lambda x: x[1])[-1]\n",
    "print(f'{G_nodes[a]} is most central (cc of {round(b,2)}).')"
   ]
  },
  {
   "cell_type": "code",
   "execution_count": 59,
   "metadata": {},
   "outputs": [
    {
     "name": "stdout",
     "output_type": "stream",
     "text": [
      "E 4 St & 2 Ave is most (distance-wise) central (cc of 0.0).\n"
     ]
    }
   ],
   "source": [
    "#Full Graph - 3)\n",
    "res = nx.closeness_centrality(G, distance='dur')\n",
    "a,b = sorted(res.items(), key=lambda x:x[1])[-1]\n",
    "print(f'{G_nodes[a]} is most (distance-wise) central (cc of {round(b,2)}).')"
   ]
  },
  {
   "cell_type": "code",
   "execution_count": null,
   "metadata": {},
   "outputs": [],
   "source": []
  },
  {
   "cell_type": "code",
   "execution_count": null,
   "metadata": {},
   "outputs": [],
   "source": []
  },
  {
   "cell_type": "markdown",
   "metadata": {},
   "source": [
    "# Below this is exploratory - not part of assignment"
   ]
  },
  {
   "cell_type": "code",
   "execution_count": 88,
   "metadata": {},
   "outputs": [
    {
     "name": "stdout",
     "output_type": "stream",
     "text": [
      "[('439', 0.0006726858835272946), ('143', 0.0006671455714191553), ('325', 0.0006645045912868735), ('2003', 0.0006638222915225161), ('3695', 0.0006625746877744045)]\n",
      "\n",
      "Most central: E 4 St & 2 Ave\n"
     ]
    }
   ],
   "source": [
    "centralities = sorted(res.items(), key=lambda x:x[1], reverse=True)\n",
    "print(centralities[:5])\n",
    "print()\n",
    "print(f'Most central: {G_nodes[centralities[0][0]]}')"
   ]
  },
  {
   "cell_type": "code",
   "execution_count": 89,
   "metadata": {},
   "outputs": [
    {
     "data": {
      "image/png": "[encoded data removed]",
      "text/plain": [
       "<Figure size 432x288 with 1 Axes>"
      ]
     },
     "metadata": {
      "needs_background": "light"
     },
     "output_type": "display_data"
    }
   ],
   "source": [
    "plt.hist([float(i) for i in np.array(list(res.items()))[:,1]], bins=25)\n",
    "plt.title('Distribution of Centralities in G')\n",
    "plt.show()"
   ]
  },
  {
   "cell_type": "code",
   "execution_count": null,
   "metadata": {},
   "outputs": [],
   "source": []
  }
 ],
 "metadata": {
  "kernelspec": {
   "display_name": "Python 3",
   "language": "python",
   "name": "python3"
  },
  "language_info": {
   "codemirror_mode": {
    "name": "ipython",
    "version": 3
   },
   "file_extension": ".py",
   "mimetype": "text/x-python",
   "name": "python",
   "nbconvert_exporter": "python",
   "pygments_lexer": "ipython3",
   "version": "3.6.7"
  }
 },
 "nbformat": 4,
 "nbformat_minor": 2
}
