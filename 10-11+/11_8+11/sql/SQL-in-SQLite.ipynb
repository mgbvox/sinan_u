{
 "cells": [
  {
   "cell_type": "markdown",
   "metadata": {},
   "source": [
    "https://www.sqlite.org/index.html"
   ]
  },
  {
   "cell_type": "markdown",
   "metadata": {},
   "source": [
    "- Tables\n",
    "    - Users\n",
    "    - Accounts\n",
    "\n",
    "- Relationships\n",
    "    - Each user can have multiple accounts\n",
    "    - Each account can only be associated with one user\n"
   ]
  },
  {
   "cell_type": "markdown",
   "metadata": {},
   "source": [
    "```sql\n",
    "-- Not needed in SQLite. \n",
    "-- Each file is its own database.\n",
    "CREATE DATABASE bank; \n",
    "```"
   ]
  },
  {
   "cell_type": "markdown",
   "metadata": {},
   "source": [
    "```sql\n",
    "CREATE TABLE users (\n",
    "    id integer PRIMARY KEY,\n",
    "    name varchar(255)\n",
    ");\n",
    "\n",
    "CREATE TABLE accounts (\n",
    "    id integer PRIMARY KEY,\n",
    "    user_id integer REFERENCES users (id),\n",
    "    balance integer\n",
    ");\n",
    "```"
   ]
  },
  {
   "cell_type": "markdown",
   "metadata": {},
   "source": [
    "```sql\n",
    "INSERT INTO users VALUES (1, 'Rebecca');\n",
    "```\n",
    "\n",
    "```sql\n",
    "INSERT INTO accounts VALUES (1, 1, 10000);\n",
    "INSERT INTO accounts VALUES (2, 1, 40000);\n",
    "```"
   ]
  },
  {
   "cell_type": "code",
   "execution_count": 1,
   "metadata": {},
   "outputs": [],
   "source": [
    "import sqlite3\n",
    "conn = sqlite3.connect(':memory:')\n",
    "\n",
    "c = conn.cursor()\n",
    "\n",
    "c.executescript(\n",
    "    \"\"\"\n",
    "    CREATE TABLE users (\n",
    "        id integer PRIMARY KEY,\n",
    "        name varchar(255)\n",
    "    );\n",
    "\n",
    "    CREATE TABLE accounts (\n",
    "        id integer PRIMARY KEY,\n",
    "        user_id integer REFERENCES users (id),\n",
    "        balance integer\n",
    "    );\n",
    "\n",
    "    INSERT INTO users VALUES (1, 'Rebecca');\n",
    "    INSERT INTO accounts VALUES (1, 1, 10000);\n",
    "    INSERT INTO accounts VALUES (2, 1, 40000);\n",
    "    \"\"\"\n",
    ")\n",
    "\n",
    "conn.commit()"
   ]
  },
  {
   "cell_type": "code",
   "execution_count": 2,
   "metadata": {},
   "outputs": [
    {
     "data": {
      "text/plain": [
       "[(1, 'Rebecca', 1, 1, 10000), (1, 'Rebecca', 2, 1, 40000)]"
      ]
     },
     "execution_count": 2,
     "metadata": {},
     "output_type": "execute_result"
    }
   ],
   "source": [
    "c.execute(\n",
    "    \"\"\"\n",
    "    SELECT *\n",
    "    FROM users u\n",
    "    LEFT JOIN accounts a ON u.id = a.user_id;\n",
    "    \"\"\"\n",
    ")\n",
    "c.fetchall()"
   ]
  },
  {
   "cell_type": "code",
   "execution_count": null,
   "metadata": {},
   "outputs": [],
   "source": []
  },
  {
   "cell_type": "code",
   "execution_count": null,
   "metadata": {},
   "outputs": [],
   "source": []
  }
 ],
 "metadata": {
  "kernelspec": {
   "display_name": "Python 3",
   "language": "python",
   "name": "python3"
  },
  "language_info": {
   "codemirror_mode": {
    "name": "ipython",
    "version": 3
   },
   "file_extension": ".py",
   "mimetype": "text/x-python",
   "name": "python",
   "nbconvert_exporter": "python",
   "pygments_lexer": "ipython3",
   "version": "3.6.7"
  }
 },
 "nbformat": 4,
 "nbformat_minor": 2
}
