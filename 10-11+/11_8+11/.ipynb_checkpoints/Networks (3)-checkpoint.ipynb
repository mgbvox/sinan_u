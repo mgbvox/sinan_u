{
 "cells": [
  {
   "cell_type": "markdown",
   "metadata": {},
   "source": [
    "<h1>Network Analysis with Python</h1>"
   ]
  },
  {
   "cell_type": "markdown",
   "metadata": {},
   "source": [
    "<li>Networks are connected bi-directional graphs\n",
    "<li>Nodes mark the entities in a network\n",
    "<li>Edges mark the relationships in a network"
   ]
  },
  {
   "cell_type": "markdown",
   "metadata": {},
   "source": [
    "<h2>Examples of networks</h2>\n",
    "<li>Facebook friends\n",
    "<li>Other social networks\n",
    "<li>transportation networks\n",
    "<li>Power grids\n",
    "<li>Internet routers\n",
    "<li>Activity networks\n",
    "<li>Many others"
   ]
  },
  {
   "cell_type": "markdown",
   "metadata": {},
   "source": [
    "<h2>Questions we're interested in</h2>\n",
    "<li>Shortest path between two nodes\n",
    "<li>Connectedness\n",
    "<li>Centrality\n",
    "<li>Clustering\n",
    "<li>Communicability"
   ]
  },
  {
   "cell_type": "markdown",
   "metadata": {},
   "source": [
    "<h1>networkx</h1>\n",
    "<li>Python package for networks \n",
    "<li>Nodes and edges can contain data\n",
    "<li>Nodes can be (hashable!) python objects"
   ]
  },
  {
   "cell_type": "markdown",
   "metadata": {},
   "source": [
    "\n"
   ]
  },
  {
   "cell_type": "markdown",
   "metadata": {},
   "source": [
    "<h3>Constructing a simple network</h3>"
   ]
  },
  {
   "cell_type": "markdown",
   "metadata": {},
   "source": [
    "<b>Necessary imports</b>"
   ]
  },
  {
   "cell_type": "code",
   "execution_count": 1,
   "metadata": {},
   "outputs": [],
   "source": [
    "import networkx as nx\n",
    "%matplotlib inline\n",
    "import numpy as np\n",
    "import matplotlib.pyplot as plt"
   ]
  },
  {
   "cell_type": "code",
   "execution_count": 2,
   "metadata": {},
   "outputs": [
    {
     "name": "stderr",
     "output_type": "stream",
     "text": [
      "/Users/mgb/anaconda3/envs/keras/lib/python3.6/site-packages/networkx/drawing/nx_pylab.py:579: MatplotlibDeprecationWarning: \n",
      "The iterable function was deprecated in Matplotlib 3.1 and will be removed in 3.3. Use np.iterable instead.\n",
      "  if not cb.iterable(width):\n"
     ]
    },
    {
     "data": {
      "image/png": "[encoded data removed]",
      "text/plain": [
       "<Figure size 432x288 with 1 Axes>"
      ]
     },
     "metadata": {},
     "output_type": "display_data"
    }
   ],
   "source": [
    "simple_network = nx.Graph()\n",
    "nodes = [1,2,3,4,5,6,7,8]\n",
    "edges = [(1,2),(2,3),(1,3),(4,5),(2,7),(1,9),(3,4),(4,5),(4,9),(5,6),(7,8),(8,9)]\n",
    "simple_network.add_nodes_from(nodes)\n",
    "simple_network.add_edges_from(edges)\n",
    "nx.draw(simple_network)"
   ]
  },
  {
   "cell_type": "markdown",
   "metadata": {},
   "source": [
    "<h1>Add labels to the nodes</h1>"
   ]
  },
  {
   "cell_type": "code",
   "execution_count": null,
   "metadata": {},
   "outputs": [],
   "source": [
    "pos=nx.spring_layout(simple_network) # positions for all nodes\n",
    "\n",
    "# nodes\n",
    "nx.draw_networkx_nodes(simple_network,pos,\n",
    "                       node_color='r',\n",
    "                       node_size=500,\n",
    "                      alpha=0.8)\n",
    "\n",
    "# edges\n",
    "#nx.draw_networkx_edges(sub_graph,pos,width=1.0,alpha=0.5)\n",
    "nx.draw_networkx_edges(simple_network,pos,\n",
    "                       edgelist=edges,\n",
    "                       width=8,alpha=0.5,edge_color='b')\n",
    "\n",
    "\n",
    "node_name={}\n",
    "for node in simple_network.nodes():\n",
    "    node_name[node]=str(node)\n",
    "\n",
    "\n",
    "nx.draw_networkx_labels(simple_network,pos,node_name,font_size=16)\n",
    "\n",
    "plt.axis('off')\n",
    "plt.show() # display"
   ]
  },
  {
   "cell_type": "code",
   "execution_count": null,
   "metadata": {},
   "outputs": [],
   "source": [
    "for item in simple_network.adjacency():\n",
    "    print(item)"
   ]
  },
  {
   "cell_type": "code",
   "execution_count": null,
   "metadata": {},
   "outputs": [],
   "source": [
    "simple_network.degree()\n",
    "# max(list(simple_network.degree()),key=lambda x : x[1])"
   ]
  },
  {
   "cell_type": "code",
   "execution_count": null,
   "metadata": {},
   "outputs": [],
   "source": [
    "max(list(simple_network.degree()),key=lambda x : x[1])"
   ]
  },
  {
   "cell_type": "code",
   "execution_count": null,
   "metadata": {},
   "outputs": [],
   "source": [
    "from networkx.algorithms.clique import find_cliques\n",
    "# find_cliques(simple_network)\n",
    "i=0\n",
    "for clique in find_cliques(simple_network):\n",
    "    print(clique)\n",
    "    i+=1\n",
    "    if i > 20: #Too many cliques. Will crash the notebook if we don't stop it\n",
    "        break"
   ]
  },
  {
   "cell_type": "code",
   "execution_count": null,
   "metadata": {},
   "outputs": [],
   "source": [
    "# list(simple_network.adjacency())"
   ]
  },
  {
   "cell_type": "markdown",
   "metadata": {},
   "source": [
    "<h4>Simple queries on the network</h4>"
   ]
  },
  {
   "cell_type": "code",
   "execution_count": null,
   "metadata": {},
   "outputs": [],
   "source": [
    "print(simple_network.has_edge(2,9))\n",
    "print(simple_network.has_node(2))\n",
    "print(simple_network.number_of_edges())\n",
    "print(simple_network.number_of_nodes())\n",
    "print(simple_network.order())\n",
    "print(len(simple_network))"
   ]
  },
  {
   "cell_type": "markdown",
   "metadata": {},
   "source": [
    "<h3>Iterating over a network</h3>"
   ]
  },
  {
   "cell_type": "markdown",
   "metadata": {},
   "source": [
    "<h4>Iterate over the nodes</h4>"
   ]
  },
  {
   "cell_type": "code",
   "execution_count": null,
   "metadata": {},
   "outputs": [],
   "source": [
    "for n in simple_network.nodes():\n",
    "    print(n)"
   ]
  },
  {
   "cell_type": "markdown",
   "metadata": {},
   "source": [
    "<h4>Iterate over the edges</h4>"
   ]
  },
  {
   "cell_type": "code",
   "execution_count": null,
   "metadata": {},
   "outputs": [],
   "source": [
    "for e in simple_network.edges():\n",
    "    print(e)"
   ]
  },
  {
   "cell_type": "markdown",
   "metadata": {},
   "source": [
    "<h4>Iterate over nodes and degrees</h4>"
   ]
  },
  {
   "cell_type": "code",
   "execution_count": null,
   "metadata": {},
   "outputs": [],
   "source": [
    "for d in simple_network.degree():\n",
    "    print(d)"
   ]
  },
  {
   "cell_type": "markdown",
   "metadata": {},
   "source": [
    "<h3>Types of graph</h3>\n"
   ]
  },
  {
   "cell_type": "code",
   "execution_count": null,
   "metadata": {},
   "outputs": [],
   "source": [
    "G = nx.Graph() #Undirected simple graph\n",
    "d = nx . DiGraph () #directed simple graph\n",
    "m = nx . MultiGraph () #undirected with parallel edges\n",
    "h = nx . MultiDiGraph () #directed with parallel edges"
   ]
  },
  {
   "cell_type": "markdown",
   "metadata": {},
   "source": [
    "<h4>Shortest path</h4>"
   ]
  },
  {
   "cell_type": "code",
   "execution_count": null,
   "metadata": {},
   "outputs": [],
   "source": [
    "print(nx.shortest_path(simple_network,6,8))\n",
    "print(nx.shortest_path_length(simple_network,6,8))"
   ]
  },
  {
   "cell_type": "markdown",
   "metadata": {},
   "source": [
    "<h2>Weighted Edges</h2>\n",
    "<li>Example: A network of travel times between locations"
   ]
  },
  {
   "cell_type": "markdown",
   "metadata": {},
   "source": [
    "<h4>We will construct a simple graph with distances between nearby locations</h4>\n"
   ]
  },
  {
   "cell_type": "code",
   "execution_count": null,
   "metadata": {},
   "outputs": [],
   "source": [
    "\n",
    "address_list = [\n",
    "    ('A',\"Columbia University, New York, NY\"),\n",
    "    ('B',\"Arco Cafe, Amsterdam Avenue, New York, NY\"),\n",
    "    ('C',\"Riverside Church, New York, NY\"),\n",
    "    ('D',\"Columbia Presbytarian Medical Center, New York, NY\"),\n",
    "    ('E',\"Amity Hall Uptown, Amsterdam Avenue, New York, NY\"),\n",
    "    ('F',\"Ellington in the Park, Riverside Drive, New York, NY\"),\n",
    "    ('G','Nicholas Roerich Museum, West 107th Street, New York, NY'),\n",
    "    ('H','Audubon Terrace, Broadway, New York, NY'),\n",
    "]"
   ]
  },
  {
   "cell_type": "code",
   "execution_count": null,
   "metadata": {},
   "outputs": [],
   "source": [
    "distances = [\n",
    "    ['A','B',10],\n",
    "    ['A','C',5],\n",
    "    ['A','D',25],\n",
    "    ['A','E',7],\n",
    "    ['A','G',12],\n",
    "    ['B','E',3],\n",
    "    ['B','G',4],\n",
    "    ['D','H',5],\n",
    "    ['D','C',22],\n",
    "    ['D','E',21],\n",
    "    ['H','E',35]\n",
    "]"
   ]
  },
  {
   "cell_type": "markdown",
   "metadata": {},
   "source": [
    "<h3>Construct a graph with node labels and edge weights</h3>"
   ]
  },
  {
   "cell_type": "code",
   "execution_count": null,
   "metadata": {},
   "outputs": [],
   "source": [
    "import networkx as nxt\n",
    "%matplotlib inline\n",
    "G_C=nx.Graph()\n",
    "node_labels=dict()\n",
    "nodes = list()\n",
    "\n",
    "for n in address_list:\n",
    "    nodes.append(n[0])\n",
    "    node_labels[n[0]] = n[1] \n",
    "for e in distances:\n",
    "    G_C.add_edge(e[0],e[1],distance=e[2])\n",
    "nx.draw(G_C)"
   ]
  },
  {
   "cell_type": "markdown",
   "metadata": {},
   "source": [
    "<h3>Add labels to the graph</h3>"
   ]
  },
  {
   "cell_type": "code",
   "execution_count": null,
   "metadata": {},
   "outputs": [],
   "source": [
    "pos=nx.spring_layout(G_C) # positions for all nodes\n",
    "\n",
    "# nodes\n",
    "nx.draw_networkx_nodes(G_C,pos,\n",
    "                       node_color='r',\n",
    "                       node_size=500,\n",
    "                      alpha=0.8)\n",
    "\n",
    "# edges\n",
    "#nx.draw_networkx_edges(sub_graph,pos,width=1.0,alpha=0.5)\n",
    "nx.draw_networkx_edges(G_C,pos,\n",
    "                       edgelist=G_C.edges(),\n",
    "                       width=8,alpha=0.5,edge_color='b')\n",
    "\n",
    "\n",
    "node_name={}\n",
    "for node in G_C.nodes():\n",
    "    node_name[node]=str(node)\n",
    "\n",
    "nx.draw_networkx_edge_labels(G_C,pos,font_size=10)\n",
    "node_name={}\n",
    "for node in G_C.nodes():\n",
    "    node_name[node]=str(node)\n",
    "\n",
    "nx.draw_networkx_labels(G_C,pos,node_name,font_size=16)\n",
    "\n",
    "plt.axis('off')\n",
    "plt.show() # display"
   ]
  },
  {
   "cell_type": "markdown",
   "metadata": {},
   "source": [
    "<h4>Shortest path and shortest duration</h4>"
   ]
  },
  {
   "cell_type": "code",
   "execution_count": null,
   "metadata": {},
   "outputs": [],
   "source": [
    "node1 = 'H'\n",
    "node2 = 'E'\n",
    "print(nx.shortest_path(G_C,node1,node2))\n",
    "print(nx.shortest_path_length(G_C,node1,node2))\n",
    "print(nx.dijkstra_path(G_C,node1,node2,weight='distance'))\n",
    "print(nx.dijkstra_path_length(G_C,node1,node2,weight='distance'))"
   ]
  },
  {
   "cell_type": "code",
   "execution_count": null,
   "metadata": {},
   "outputs": [],
   "source": [
    "nx.has_path(G_C,'A','B')"
   ]
  },
  {
   "cell_type": "code",
   "execution_count": null,
   "metadata": {},
   "outputs": [],
   "source": [
    "[print(n1,n2,\n",
    "       nx.shortest_path_length(G_C,n1,n2),\n",
    "       nx.shortest_path(G_C,n1,n2),\n",
    "       nx.dijkstra_path_length(G_C,n1,n2,weight='distance'),\n",
    "       nx.dijkstra_path(G_C,n1,n2,'distance')\n",
    "      ) for n1 in G_C.nodes() for n2 in G_C.nodes() if not n1 == n2 and nx.has_path(G_C,n1,n2)]"
   ]
  },
  {
   "cell_type": "code",
   "execution_count": null,
   "metadata": {},
   "outputs": [],
   "source": [
    "for edge in G_C.edges():\n",
    "    print(edge,G_C.get_edge_data(*edge))"
   ]
  },
  {
   "cell_type": "code",
   "execution_count": null,
   "metadata": {},
   "outputs": [],
   "source": [
    "# G_C.edges(data=True)"
   ]
  },
  {
   "cell_type": "code",
   "execution_count": null,
   "metadata": {},
   "outputs": [],
   "source": [
    "# G_C.get_edge_data('A','B')\n",
    "# G_C.edges()\n",
    "# G_C.edges(data=True)\n",
    "# G_C.nodes()\n",
    "# nx.edges(G_C)\n",
    "origin = 'B'\n",
    "destination = 'H'\n",
    "nx.dijkstra_path(G_C,origin,destination,weight='distance')"
   ]
  },
  {
   "cell_type": "markdown",
   "metadata": {},
   "source": [
    "<h2>Graph drawing options</h2>\n",
    "<li>nltk uses matplotlib to draw graphs\n",
    "<li>limited, but useful, functionalities\n",
    "<h3>Let's take a look!</h3>"
   ]
  },
  {
   "cell_type": "markdown",
   "metadata": {},
   "source": [
    "<b>Differnetiating edges by weight</b>"
   ]
  },
  {
   "cell_type": "code",
   "execution_count": null,
   "metadata": {},
   "outputs": [],
   "source": [
    "#Divide edges into two groups based on weight\n",
    "#Easily extendable to n-groups\n",
    "\n",
    "\n",
    "elarge=[(u,v) for (u,v,d) in G_C.edges(data=True) if d['distance'] >15]\n",
    "esmall=[(u,v) for (u,v,d) in G_C.edges(data=True) if d['distance'] <=15]\n",
    "\n",
    "pos=nx.spring_layout(G_C) # positions for all nodes\n",
    "plt.figure(1,figsize=(12,12)) #Let's draw a big graph so that it is clearer\n",
    "\n",
    "# nodes\n",
    "nx.draw_networkx_nodes(G_C,pos,node_size=700)\n",
    "\n",
    "# edges. draw the larger weight edges in solid lines and smaller weight edges in dashed lines\n",
    "nx.draw_networkx_edges(G_C,pos,edgelist=elarge,\n",
    "                    width=6)\n",
    "nx.draw_networkx_edges(G_C,pos,edgelist=esmall,\n",
    "                    width=6,alpha=0.5,edge_color='b',style='dashed')\n",
    "\n",
    "# labels\n",
    "nx.draw_networkx_labels(G_C,pos,font_size=20,font_family='sans-serif')\n",
    "\n",
    "nx.draw_networkx_edge_labels(G_C,pos,font_size=7)\n",
    "\n",
    "plt.axis('off')\n",
    "#plt.savefig(\"address_graph.png\") # save as png if you need to use it in a report or web app\n",
    "plt.show() # display\n",
    "\n"
   ]
  },
  {
   "cell_type": "code",
   "execution_count": null,
   "metadata": {},
   "outputs": [],
   "source": [
    "nx.clustering(G_C)"
   ]
  },
  {
   "cell_type": "markdown",
   "metadata": {},
   "source": [
    "<h4>highlight the shortest path</h4>\n"
   ]
  },
  {
   "cell_type": "code",
   "execution_count": null,
   "metadata": {},
   "outputs": [],
   "source": [
    "origin = 'B'\n",
    "destination = 'H'\n",
    "shortest_path = nx.dijkstra_path(G_C,origin,destination,weight='distance')\n",
    "shortest_path_edges = list()\n",
    "for i in range(len(shortest_path)-1):\n",
    "    shortest_path_edges.append((shortest_path[i],shortest_path[i+1]))\n",
    "    shortest_path_edges.append((shortest_path[i+1],shortest_path[i]))\n",
    "    \n",
    "path_edges=list()\n",
    "other_edges=list()\n",
    "node_label_list = dict()\n",
    "node_label_list = {n:'' for n in G_C.nodes()}\n",
    "for edge in G_C.edges():\n",
    "    if edge in shortest_path_edges:\n",
    "        path_edges.append(edge)\n",
    "        node_label_list[edge[0]] = edge[0]\n",
    "        node_label_list[edge[1]] = edge[1]\n",
    "    else:\n",
    "        other_edges.append(edge)\n",
    "\n",
    "pos=nx.spring_layout(G_C) # positions for all nodes\n",
    "fig=plt.figure(1,figsize=(12,12))\n",
    "# nodes\n",
    "nx.draw_networkx_nodes(G_C,pos,node_size=700)\n",
    "\n",
    "# edges. draw the larger weight edges in solid lines and smaller weight edges in dashed lines\n",
    "nx.draw_networkx_edges(G_C,pos,edgelist=path_edges,\n",
    "                    width=6)\n",
    "nx.draw_networkx_edges(G_C,pos,edgelist=other_edges,\n",
    "                    width=6,alpha=0.5,edge_color='b',style='dashed')\n",
    "\n",
    "# labels\n",
    "\n",
    "nx.draw_networkx_labels(G_C,pos,font_size=20,font_family='sans-serif',labels=node_label_list)\n",
    "nx.draw_networkx_edge_labels(G_C,pos,font_size=7)\n",
    "\n",
    "plt.axis('off')\n",
    "#plt.savefig(\"address_graph.png\") # save as png if you need to use it in a report or web app\n",
    "plt.show() # display\n"
   ]
  },
  {
   "cell_type": "markdown",
   "metadata": {},
   "source": [
    "<b>Question</b> How would you remove edge labels from all but the shortest path?"
   ]
  },
  {
   "cell_type": "markdown",
   "metadata": {},
   "source": [
    "<h4>Working with a network</h4>\n"
   ]
  },
  {
   "cell_type": "markdown",
   "metadata": {},
   "source": [
    "<b>Given an address, generate a <i>sorted by distance</i> list of all other addresses"
   ]
  },
  {
   "cell_type": "code",
   "execution_count": null,
   "metadata": {},
   "outputs": [],
   "source": [
    "location = 'G'\n",
    "distance_list = list()\n",
    "for node in G_C.nodes():\n",
    "    if node == location:\n",
    "        continue\n",
    "    if not nx.has_path(G_C,location,node):\n",
    "        continue\n",
    "    distance = nx.dijkstra_path_length(G_C,location,node,weight='distance')\n",
    "    distance_list.append((node,distance))\n",
    "from operator import itemgetter\n",
    "print(sorted(distance_list,key=itemgetter(1)))"
   ]
  },
  {
   "cell_type": "markdown",
   "metadata": {},
   "source": [
    "<b>Get all paths from one location  to another</b>"
   ]
  },
  {
   "cell_type": "code",
   "execution_count": null,
   "metadata": {},
   "outputs": [],
   "source": [
    "list(nx.all_simple_paths(G_C,'A','C'))"
   ]
  },
  {
   "cell_type": "markdown",
   "metadata": {},
   "source": [
    "<h2>Social networks</h2><br>\n",
    "A simple example from yelp user data<br>\n",
    "Yelp has data on:<br>\n",
    "    users,<br>\n",
    "    businesses,<br>\n",
    "    reviews,<br>\n",
    "    tips (try the mushroom burger!),<br>\n",
    "    check-in (special offers from yelp)<br>\n",
    "We'll focus on the social network of users"
   ]
  },
  {
   "cell_type": "markdown",
   "metadata": {},
   "source": [
    "<h3>A sample of the network, in graph form, is saved in \"friends.pickle\"</h3>"
   ]
  },
  {
   "cell_type": "raw",
   "metadata": {},
   "source": [
    "{\n",
    "    'type': 'user',\n",
    "    'user_id': (encrypted user id),\n",
    "    'name': (first name),\n",
    "    'review_count': (review count),\n",
    "    'average_stars': (floating point average, like 4.31),\n",
    "    'votes': {(vote type): (count)},\n",
    "    'friends': [(friend user_ids)],\n",
    "    'elite': [(years_elite)],\n",
    "    'yelping_since': (date, formatted like '2012-03'),\n",
    "    'compliments': {\n",
    "        (compliment_type): (num_compliments_of_this_type),\n",
    "        ...\n",
    "    },\n",
    "    'fans': (num_fans),\n",
    "}"
   ]
  },
  {
   "cell_type": "code",
   "execution_count": null,
   "metadata": {},
   "outputs": [],
   "source": [
    "G = nx.read_gpickle('friend_graph')\n",
    "len(G.nodes())"
   ]
  },
  {
   "cell_type": "markdown",
   "metadata": {},
   "source": [
    "<h4>Neighbors of a node</h4>"
   ]
  },
  {
   "cell_type": "code",
   "execution_count": null,
   "metadata": {},
   "outputs": [],
   "source": [
    "# G[1]\n",
    "G.degree(1)"
   ]
  },
  {
   "cell_type": "code",
   "execution_count": null,
   "metadata": {},
   "outputs": [],
   "source": [
    "%matplotlib inline\n",
    "nx.draw(G)"
   ]
  },
  {
   "cell_type": "markdown",
   "metadata": {},
   "source": [
    "<h4>Let's remove disconnected nodes</h4>\n"
   ]
  },
  {
   "cell_type": "code",
   "execution_count": null,
   "metadata": {},
   "outputs": [],
   "source": [
    "count = 0\n",
    "for n in G.nodes():\n",
    "    if G.degree(n) == 0:\n",
    "        print(n)"
   ]
  },
  {
   "cell_type": "code",
   "execution_count": null,
   "metadata": {},
   "outputs": [],
   "source": [
    "nodes_for_removal = [ n for n in G.nodes() if G.degree(n)==0]\n",
    "nodes_for_removal"
   ]
  },
  {
   "cell_type": "code",
   "execution_count": null,
   "metadata": {},
   "outputs": [],
   "source": [
    "for node in nodes_for_removal:\n",
    "    G.remove_node(node)"
   ]
  },
  {
   "cell_type": "code",
   "execution_count": null,
   "metadata": {},
   "outputs": [],
   "source": [
    "pos=nx.spring_layout(G) # positions for all nodes\n",
    "import matplotlib.pyplot as plt\n",
    "fig = plt.figure(1,figsize=(12,12))\n",
    "#pos\n",
    "# nodes\n",
    "nx.draw_networkx_nodes(G,pos,\n",
    "                       node_color='r',\n",
    "                       node_size=500,\n",
    "                       alpha=0.8)\n",
    "\n",
    "# edges\n",
    "nx.draw_networkx_edges(G,pos,width=1.0,alpha=0.5)\n",
    "nx.draw_networkx_edges(G,pos,\n",
    "                       width=8,alpha=0.5,edge_color='b')\n",
    "\n",
    "node_name={}\n",
    "for node in G.nodes():\n",
    "    node_name[node]=str(node)\n",
    "\n",
    "nx.draw_networkx_labels(G,pos,node_name,font_size=16)\n",
    "\n",
    "fig.show()"
   ]
  },
  {
   "cell_type": "markdown",
   "metadata": {},
   "source": [
    "<h3>Start looking at different aspects of the graph</h3>"
   ]
  },
  {
   "cell_type": "code",
   "execution_count": null,
   "metadata": {},
   "outputs": [],
   "source": [
    "nx.shortest_path(G,927972,5)\n"
   ]
  },
  {
   "cell_type": "code",
   "execution_count": null,
   "metadata": {},
   "outputs": [],
   "source": [
    "nx.shortest_path_length(G,927972,5)\n"
   ]
  },
  {
   "cell_type": "markdown",
   "metadata": {},
   "source": [
    "<h3>Graph components</h3>"
   ]
  },
  {
   "cell_type": "markdown",
   "metadata": {},
   "source": [
    "<li>Let's see the number of connected components\n",
    "<li>And then each connected component"
   ]
  },
  {
   "cell_type": "code",
   "execution_count": null,
   "metadata": {},
   "outputs": [],
   "source": [
    "print(len(list(nx.connected_components(G))))"
   ]
  },
  {
   "cell_type": "code",
   "execution_count": null,
   "metadata": {},
   "outputs": [],
   "source": [
    "for comp in nx.connected_components(G):\n",
    "    print(comp)"
   ]
  },
  {
   "cell_type": "markdown",
   "metadata": {},
   "source": [
    "<h4>Largest connected component subgraph</h4>"
   ]
  },
  {
   "cell_type": "code",
   "execution_count": null,
   "metadata": {},
   "outputs": [],
   "source": [
    "largest_size=0\n",
    "largest_graph = None\n",
    "for g in nx.connected_component_subgraphs(G):\n",
    "    if len(g) > largest_size:\n",
    "        largest_size = len(g)\n",
    "        largest_graph = g\n",
    "nx.draw(largest_graph)"
   ]
  },
  {
   "cell_type": "markdown",
   "metadata": {},
   "source": [
    "<h4>Smallest connected component</h4>"
   ]
  },
  {
   "cell_type": "code",
   "execution_count": null,
   "metadata": {},
   "outputs": [],
   "source": [
    "smallest_size=100000\n",
    "smallest_graph = None\n",
    "for g in nx.connected_component_subgraphs(G):\n",
    "    if len(g) < smallest_size:\n",
    "        smallest_size = len(g)\n",
    "        smallest_graph = g\n",
    "nx.draw(smallest_graph)"
   ]
  },
  {
   "cell_type": "code",
   "execution_count": null,
   "metadata": {},
   "outputs": [],
   "source": [
    "#Find out node degrees in the graph\n",
    "# nx.degree(G)"
   ]
  },
  {
   "cell_type": "markdown",
   "metadata": {},
   "source": [
    "<h4>Max degree. The yelp user with the most friends</h4>"
   ]
  },
  {
   "cell_type": "code",
   "execution_count": null,
   "metadata": {},
   "outputs": [],
   "source": [
    "d=nx.degree(G)\n",
    "l=list(d)\n",
    "max(l,key=lambda x: x[1])"
   ]
  },
  {
   "cell_type": "markdown",
   "metadata": {},
   "source": [
    "<h2>Network analysis algorithms</h2>\n",
    "https://networkx.github.io/documentation/stable/reference/algorithms/index.html"
   ]
  },
  {
   "cell_type": "markdown",
   "metadata": {},
   "source": [
    "<h3>Clustering</h3>\n",
    "Clustering is a measure of how closely knit the nodes in a graph are. We can measure the degree to which a node belongs to a cluster and the degree to which the graph is clustered\n",
    "- Node clustering coefficient: A measure that shows the degree to which a node belongs to a cluster\n",
    "- Graph clustering coefficient: A measure that shows the degree to which a graph is clustered"
   ]
  },
  {
   "cell_type": "code",
   "execution_count": null,
   "metadata": {},
   "outputs": [],
   "source": []
  },
  {
   "cell_type": "code",
   "execution_count": null,
   "metadata": {},
   "outputs": [],
   "source": [
    "pos=nx.spring_layout(G) # positions for all nodes\n",
    "fig = plt.figure(1,figsize=(12,12))\n",
    "#pos\n",
    "# nodes\n",
    "nx.draw_networkx_nodes(G,pos,\n",
    "                       node_color='r',\n",
    "                       node_size=500,\n",
    "                       alpha=0.8)\n",
    "\n",
    "# edges\n",
    "nx.draw_networkx_edges(G,pos,width=1.0,alpha=0.5)\n",
    "nx.draw_networkx_edges(G,pos,\n",
    "                       edgelist=G.edges(),\n",
    "                       width=8,alpha=0.5,edge_color='b')\n",
    "\n",
    "node_name={}\n",
    "for node in G.nodes():\n",
    "    node_name[node]=str(node)\n",
    "\n",
    "nx.draw_networkx_labels(G,pos,node_name,font_size=16)\n",
    "\n",
    "fig.show()"
   ]
  },
  {
   "cell_type": "code",
   "execution_count": null,
   "metadata": {},
   "outputs": [],
   "source": [
    "# nx.clustering(G)"
   ]
  },
  {
   "cell_type": "code",
   "execution_count": null,
   "metadata": {},
   "outputs": [],
   "source": [
    "nx.average_clustering(G)"
   ]
  },
  {
   "cell_type": "code",
   "execution_count": null,
   "metadata": {},
   "outputs": [],
   "source": [
    "G1=nx.complete_graph(4)\n",
    "nx.draw(G1)\n"
   ]
  },
  {
   "cell_type": "code",
   "execution_count": null,
   "metadata": {},
   "outputs": [],
   "source": [
    "nx.clustering(G1)"
   ]
  },
  {
   "cell_type": "code",
   "execution_count": null,
   "metadata": {},
   "outputs": [],
   "source": [
    "G1.remove_edge(1,2)"
   ]
  },
  {
   "cell_type": "code",
   "execution_count": null,
   "metadata": {},
   "outputs": [],
   "source": [
    "pos=nx.spring_layout(G1) # positions for all nodes\n",
    "\n",
    "# nodes\n",
    "nx.draw_networkx_nodes(G1,pos,\n",
    "                       node_color='r',\n",
    "                       node_size=500,\n",
    "                      alpha=0.8)\n",
    "\n",
    "# edges\n",
    "#nx.draw_networkx_edges(sub_graph,pos,width=1.0,alpha=0.5)\n",
    "nx.draw_networkx_edges(G1,pos,\n",
    "                       edgelist=G1.edges(),\n",
    "                       width=8,alpha=0.5,edge_color='b')\n",
    "\n",
    "\n",
    "node_name={}\n",
    "for node in G1.nodes():\n",
    "    node_name[node]=str(node)\n",
    "\n",
    "\n",
    "nx.draw_networkx_labels(G1,pos,node_name,font_size=16)\n",
    "\n",
    "plt.axis('off')\n",
    "plt.show() # display"
   ]
  },
  {
   "cell_type": "code",
   "execution_count": null,
   "metadata": {},
   "outputs": [],
   "source": [
    "nx.clustering(G1)"
   ]
  },
  {
   "cell_type": "markdown",
   "metadata": {},
   "source": [
    "## <h4>node 0</h4>\n",
    "<li>possible triangles through node 0: \n",
    "<ol>\n",
    "<li>(0,1,3)\n",
    "<li>(0,3,2)\n",
    "<li>(0,1,2)\n",
    "</ol>\n",
    "<li>Since only 2 of the 3 exist, the clustering coefficient is 2/3 or 0.67"
   ]
  },
  {
   "cell_type": "code",
   "execution_count": null,
   "metadata": {},
   "outputs": [],
   "source": [
    "nx.average_clustering(G1)"
   ]
  },
  {
   "cell_type": "markdown",
   "metadata": {},
   "source": [
    "<h3>Clustering in weighted graphs</h3>\n",
    "<li>geometric average of each subgraph centered at a node"
   ]
  },
  {
   "cell_type": "code",
   "execution_count": null,
   "metadata": {},
   "outputs": [],
   "source": [
    "nx.average_clustering(G_C)\n",
    "nx.average_clustering(G_C,weight='distance')\n",
    "#nx.clustering(G_C,weight='distance')"
   ]
  },
  {
   "cell_type": "code",
   "execution_count": null,
   "metadata": {},
   "outputs": [],
   "source": [
    "nx.clustering(G_C)"
   ]
  },
  {
   "cell_type": "markdown",
   "metadata": {},
   "source": [
    "<h2>Centrality and communicability</h2>\n",
    "<b>Centrality</b> deals with identifying the most important nodes in a graph<p>\n",
    "<b>Communicability</b> measures how easy it is to send a message from node i to node j\n",
    "<li>closeness_centrality: (n-1)/sum(shortest path to all other nodes)\n",
    "<li>betweenness_centrality: fraction of pair shortest paths that pass through node n\n",
    "<li>degree centrality: fraction of nodes that n is connected to\n",
    "<li>communicability: the sum of all walks from one node to every other node"
   ]
  },
  {
   "cell_type": "code",
   "execution_count": null,
   "metadata": {},
   "outputs": [],
   "source": [
    "from networkx.algorithms import closeness_centrality\n",
    "from networkx.algorithms import communicability"
   ]
  },
  {
   "cell_type": "markdown",
   "metadata": {},
   "source": [
    "<h3>Closeness centrality is a measure of how near a node is to every other node in a network</h3>\n",
    "<h3>The higher the closeness centrality, the more central a node is</h3>\n",
    "<h3>Roughly, because it can get to more nodes in shorter jumps</h3>"
   ]
  },
  {
   "cell_type": "code",
   "execution_count": null,
   "metadata": {},
   "outputs": [],
   "source": [
    "c_c = closeness_centrality(G)"
   ]
  },
  {
   "cell_type": "code",
   "execution_count": null,
   "metadata": {},
   "outputs": [],
   "source": [
    "from collections import OrderedDict\n",
    "cc = OrderedDict(sorted(\n",
    "                    c_c.items(),\n",
    "                    key = lambda x: x[1],\n",
    "                    reverse = True))\n",
    "# cc"
   ]
  },
  {
   "cell_type": "markdown",
   "metadata": {},
   "source": [
    "<h3>Understanding closeness centrality</h3>"
   ]
  },
  {
   "cell_type": "code",
   "execution_count": null,
   "metadata": {},
   "outputs": [],
   "source": [
    "G1=nx.complete_graph(4)\n",
    "nx.closeness_centrality(G1)"
   ]
  },
  {
   "cell_type": "code",
   "execution_count": null,
   "metadata": {},
   "outputs": [],
   "source": [
    "G1.remove_edge(1,2)\n"
   ]
  },
  {
   "cell_type": "code",
   "execution_count": null,
   "metadata": {},
   "outputs": [],
   "source": [
    "pos=nx.spring_layout(G1) # positions for all nodes\n",
    "\n",
    "# nodes\n",
    "nx.draw_networkx_nodes(G1,pos,\n",
    "                       node_color='r',\n",
    "                       node_size=500,\n",
    "                      alpha=0.8)\n",
    "\n",
    "# edges\n",
    "#nx.draw_networkx_edges(sub_graph,pos,width=1.0,alpha=0.5)\n",
    "nx.draw_networkx_edges(G1,pos,\n",
    "                       edgelist=G1.edges(),\n",
    "                       width=8,alpha=0.5,edge_color='b')\n",
    "\n",
    "\n",
    "node_name={}\n",
    "for node in G1.nodes():\n",
    "    node_name[node]=str(node)\n",
    "\n",
    "\n",
    "nx.draw_networkx_labels(G1,pos,node_name,font_size=16)\n",
    "\n",
    "plt.axis('off')\n",
    "plt.show() # display"
   ]
  },
  {
   "cell_type": "code",
   "execution_count": null,
   "metadata": {},
   "outputs": [],
   "source": [
    "nx.closeness_centrality(G1)"
   ]
  },
  {
   "cell_type": "markdown",
   "metadata": {},
   "source": [
    "<li>n=4\n",
    "<li>shortest paths from 2 (2-0:1, 2-3:1, 2-1:2) \n",
    "<li> (n-1)/sum = 3/4 = 0.75"
   ]
  },
  {
   "cell_type": "markdown",
   "metadata": {},
   "source": [
    "<h3>Weighted graphs</h3>"
   ]
  },
  {
   "cell_type": "code",
   "execution_count": null,
   "metadata": {},
   "outputs": [],
   "source": [
    "nx.closeness_centrality(G_C,distance='distance')"
   ]
  },
  {
   "cell_type": "code",
   "execution_count": null,
   "metadata": {},
   "outputs": [],
   "source": [
    "nx.closeness_centrality(G_C)"
   ]
  },
  {
   "cell_type": "markdown",
   "metadata": {},
   "source": [
    "<h2>Communicability</h2>\n",
    "A measure of the degree to which one node can communicate with another<p>\n",
    "Takes into account all paths between pairs of nodes<p>\n",
    "The more paths, the higher the communicability"
   ]
  },
  {
   "cell_type": "code",
   "execution_count": null,
   "metadata": {},
   "outputs": [],
   "source": [
    "G1 = nx.Graph([(0,1),(1,2),(1,5),(5,4),(2,4),(2,3),(4,3),(3,6)])\n",
    "# nx.communicability(G1)"
   ]
  },
  {
   "cell_type": "code",
   "execution_count": null,
   "metadata": {},
   "outputs": [],
   "source": [
    "# G1 = nx.Graph()\n",
    "# nodes = [0,1,2,3,4,5,6]\n",
    "# edges = [(0,1),(1,2),(1,5),(5,4),(2,4),(2,3),(4,3),(3,6)]\n",
    "# # simple_network.add_nodes_from(nodes)\n",
    "# G1.add_edges_from(edges)\n",
    "\n",
    "# pos=nx.spring_layout(G1) # positions for all nodes\n",
    "\n",
    "# # nodes\n",
    "# nx.draw_networkx_nodes(G1,pos,\n",
    "#                        node_color='r',\n",
    "#                        node_size=500,\n",
    "#                       alpha=0.8)\n",
    "\n",
    "# # edges\n",
    "# #nx.draw_networkx_edges(sub_graph,pos,width=1.0,alpha=0.5)\n",
    "# nx.draw_networkx_edges(G1,pos,\n",
    "#                        edgelist=edges,\n",
    "#                        width=8,alpha=0.5,edge_color='b')\n",
    "\n",
    "\n",
    "# node_name={}\n",
    "# for node in G1.nodes():\n",
    "#     node_name[node]=str(node)\n",
    "\n",
    "\n",
    "# nx.draw_networkx_labels(G1,pos,node_name,font_size=16)\n",
    "\n",
    "# plt.axis('off')\n",
    "# plt.show() # display"
   ]
  },
  {
   "cell_type": "code",
   "execution_count": null,
   "metadata": {},
   "outputs": [],
   "source": [
    "#Define a layout for the graph\n",
    "pos=nx.spring_layout(G1) # positions for all nodes\n",
    "\n",
    "# draw the nodes: red, sized, transperancy\n",
    "nx.draw_networkx_nodes(G1,pos,\n",
    "                       node_color='r',\n",
    "                       node_size=500,\n",
    "                      alpha=1)\n",
    "\n",
    "# draw the edges\n",
    "nx.draw_networkx_edges(G1,pos,\n",
    "                       width=8,alpha=0.5,edge_color='b')\n",
    "\n",
    "\n",
    "node_name={}\n",
    "for node in G1.nodes():\n",
    "    node_name[node]=str(node)\n",
    "\n",
    "\n",
    "nx.draw_networkx_labels(G1,pos,node_name,font_size=16)\n",
    "\n",
    "plt.axis('off')\n",
    "plt.show() # display"
   ]
  },
  {
   "cell_type": "code",
   "execution_count": null,
   "metadata": {},
   "outputs": [],
   "source": [
    "nx.clustering(G1)"
   ]
  },
  {
   "cell_type": "code",
   "execution_count": null,
   "metadata": {},
   "outputs": [],
   "source": [
    "# communicability is the sum of closed walks of different lengths between nodes.\n",
    "#communicability(G) #Costly operation, we won't do this. Try it at home!\n",
    "nx.communicability(G1)"
   ]
  },
  {
   "cell_type": "markdown",
   "metadata": {},
   "source": [
    "<h2>Betweenness centrality</h2>\n",
    "<h3>measures of the extent to which a node is connected to other nodes that are not connected to each other. </h3> \n",
    "<h3>It’s a measure of the degree to which a node serves as a connector</h3>\n",
    "<h3>Example: a traffic bottleneck</h3>\n",
    "\n",
    "\n",
    "<h4>The number of shortest paths that go through node n/total number of shortest paths</h4>"
   ]
  },
  {
   "cell_type": "code",
   "execution_count": null,
   "metadata": {},
   "outputs": [],
   "source": [
    "G1=nx.complete_graph(4)\n",
    "nx.betweenness_centrality(G1)"
   ]
  },
  {
   "cell_type": "markdown",
   "metadata": {},
   "source": [
    "<h3>When the graph is fully connected, no shortest paths go through the node. So the numerator is zero</h3>"
   ]
  },
  {
   "cell_type": "code",
   "execution_count": null,
   "metadata": {},
   "outputs": [],
   "source": [
    "G1.remove_edge(1,2)\n",
    "nx.betweenness_centrality(G1)"
   ]
  },
  {
   "cell_type": "code",
   "execution_count": null,
   "metadata": {},
   "outputs": [],
   "source": [
    "#Define a layout for the graph\n",
    "pos=nx.spring_layout(G1) # positions for all nodes\n",
    "\n",
    "# draw the nodes: red, sized, transperancy\n",
    "nx.draw_networkx_nodes(G1,pos,\n",
    "                       node_color='r',\n",
    "                       node_size=500,\n",
    "                      alpha=1)\n",
    "\n",
    "# draw the edges\n",
    "nx.draw_networkx_edges(G1,pos,\n",
    "                       width=8,alpha=0.5,edge_color='b')\n",
    "\n",
    "\n",
    "node_name={}\n",
    "for node in G1.nodes():\n",
    "    node_name[node]=str(node)\n",
    "\n",
    "\n",
    "nx.draw_networkx_labels(G1,pos,node_name,font_size=16)\n",
    "\n",
    "plt.axis('off')\n",
    "plt.show() # display"
   ]
  },
  {
   "cell_type": "code",
   "execution_count": null,
   "metadata": {},
   "outputs": [],
   "source": [
    "list(nx.all_pairs_shortest_path(G1))"
   ]
  },
  {
   "cell_type": "markdown",
   "metadata": {},
   "source": [
    "<li>There are 12 shortest paths in total\n",
    "<li>Two go through 0 (1, 0, 2) and (2, 0, 1)\n",
    "<li> Betweeness centrality: 2/12"
   ]
  },
  {
   "cell_type": "code",
   "execution_count": null,
   "metadata": {},
   "outputs": [],
   "source": [
    "nx.betweenness_centrality(G1)"
   ]
  },
  {
   "cell_type": "markdown",
   "metadata": {},
   "source": [
    "<h3>Betweenness centrality in weighted graphs</h3>"
   ]
  },
  {
   "cell_type": "code",
   "execution_count": null,
   "metadata": {},
   "outputs": [],
   "source": [
    "nx.betweenness_centrality(G_C)"
   ]
  },
  {
   "cell_type": "code",
   "execution_count": null,
   "metadata": {},
   "outputs": [],
   "source": [
    "nx.betweenness_centrality(G_C,weight='distance')"
   ]
  },
  {
   "cell_type": "markdown",
   "metadata": {},
   "source": [
    "<h3>Dispersion in fully connected graphs</h3>\n",
    "<li>Eccentricity: the max distance from one node to all other nodes (least eccentric is more central)\n",
    "<li>diameter: the max eccentricity of all nodes in a graph (the longest shortest path)\n",
    "<li>periphery: the set of nodes with eccentricity = diameter"
   ]
  },
  {
   "cell_type": "code",
   "execution_count": null,
   "metadata": {},
   "outputs": [],
   "source": [
    "G1 = nx.complete_graph(4)\n",
    "nx.eccentricity(G1)"
   ]
  },
  {
   "cell_type": "code",
   "execution_count": null,
   "metadata": {},
   "outputs": [],
   "source": [
    "G1.remove_edge(1,2)\n",
    "nx.eccentricity(G1)"
   ]
  },
  {
   "cell_type": "markdown",
   "metadata": {},
   "source": [
    "<h2>Diameter</h2>\n",
    "The longest shortest path in the graph\n",
    "<h2>Periphery</h2>\n",
    "The nodes with the longest shortest paths (the peripheral nodes)"
   ]
  },
  {
   "cell_type": "code",
   "execution_count": null,
   "metadata": {},
   "outputs": [],
   "source": [
    "nx.diameter(G1)"
   ]
  },
  {
   "cell_type": "code",
   "execution_count": null,
   "metadata": {},
   "outputs": [],
   "source": [
    "nx.periphery(G1)\n",
    "G1.nodes()"
   ]
  },
  {
   "cell_type": "code",
   "execution_count": null,
   "metadata": {},
   "outputs": [],
   "source": [
    "nx.diameter(G1)"
   ]
  },
  {
   "cell_type": "code",
   "execution_count": null,
   "metadata": {},
   "outputs": [],
   "source": [
    "nx.periphery(G1)"
   ]
  },
  {
   "cell_type": "code",
   "execution_count": null,
   "metadata": {},
   "outputs": [],
   "source": [
    "G = nx.complete_graph(4)\n",
    "print(nx.diameter(G))\n",
    "print(nx.periphery(G))"
   ]
  },
  {
   "cell_type": "code",
   "execution_count": null,
   "metadata": {},
   "outputs": [],
   "source": [
    "G.add_edge(0,5)"
   ]
  },
  {
   "cell_type": "code",
   "execution_count": null,
   "metadata": {},
   "outputs": [],
   "source": [
    "G.remove_edge(1,2)\n",
    "print(nx.diameter(G))\n",
    "print(nx.periphery(G))"
   ]
  },
  {
   "cell_type": "code",
   "execution_count": null,
   "metadata": {},
   "outputs": [],
   "source": [
    "print(nx.eccentricity(G))\n",
    "print(nx.diameter(G))\n",
    "print(nx.periphery(G))\n",
    "print(nx.radius(G))\n",
    "print(nx.center(G))"
   ]
  },
  {
   "cell_type": "markdown",
   "metadata": {},
   "source": [
    "<h3>Cliques</h3>\n",
    "A clique is a subgraph in which every node is connected to every other node"
   ]
  },
  {
   "cell_type": "code",
   "execution_count": null,
   "metadata": {},
   "outputs": [],
   "source": [
    "from networkx.algorithms.clique import find_cliques, cliques_containing_node"
   ]
  },
  {
   "cell_type": "code",
   "execution_count": null,
   "metadata": {
    "code_folding": [
     0
    ]
   },
   "outputs": [],
   "source": [
    "#We won't run this because it is too slow!\n",
    "i=0\n",
    "for clique in find_cliques(G):\n",
    "    print(clique)\n",
    "    i+=1\n",
    "    if i > 10: #Too many cliques. Will crash the notebook if we don't stop it\n",
    "        break\n",
    "        "
   ]
  },
  {
   "cell_type": "code",
   "execution_count": null,
   "metadata": {},
   "outputs": [],
   "source": [
    "list(find_cliques(G_C))"
   ]
  },
  {
   "cell_type": "markdown",
   "metadata": {},
   "source": [
    "<h3>Center: The set of nodes that are the most central (they have the smallest distance to any other node)</h3>\n",
    "Graph must be fully connected"
   ]
  },
  {
   "cell_type": "code",
   "execution_count": null,
   "metadata": {},
   "outputs": [],
   "source": [
    "\n",
    "from networkx.algorithms.distance_measures import center\n",
    "center(G_C)"
   ]
  },
  {
   "cell_type": "code",
   "execution_count": null,
   "metadata": {},
   "outputs": [],
   "source": [
    "print(dir(nx))"
   ]
  },
  {
   "cell_type": "code",
   "execution_count": null,
   "metadata": {},
   "outputs": [],
   "source": [
    "help(nx.adjacency_matrix)"
   ]
  },
  {
   "cell_type": "code",
   "execution_count": null,
   "metadata": {},
   "outputs": [],
   "source": []
  }
 ],
 "metadata": {
  "anaconda-cloud": {},
  "kernelspec": {
   "display_name": "Python 3",
   "language": "python",
   "name": "python3"
  },
  "language_info": {
   "codemirror_mode": {
    "name": "ipython",
    "version": 3
   },
   "file_extension": ".py",
   "mimetype": "text/x-python",
   "name": "python",
   "nbconvert_exporter": "python",
   "pygments_lexer": "ipython3",
   "version": "3.6.7"
  }
 },
 "nbformat": 4,
 "nbformat_minor": 4
}
