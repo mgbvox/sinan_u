{
 "cells": [
  {
   "cell_type": "markdown",
   "metadata": {},
   "source": [
    "<subject>\n",
    "Assignment How-To\n",
    "</subject>\n",
    "\n",
    "<details>\n",
    "    \n",
    "**Do Not Talk During Quizzes or Exams**\n",
    "\n",
    "Do not talk at all once an exam has begun. You may talk again once you leave the room after the quiz or exam. The one exception to this rule is if you need to ask the exam proctor a question. Any talking during a quiz or exam qualifies the student for disciplinary action.\n",
    "\n",
    "**Naming Conventions**\n",
    "\n",
    "When naming your files for upload, you must follow the format below:\n",
    "\n",
    "    <uni>_<assignment>_<details [optional]>.<extension>\n",
    "\n",
    "For example, if I needed to hand in HW 0, any of the below formats would be sufficient for a file name:\n",
    "\n",
    "- pl2648_hw0.ipynb\n",
    "- pl2648_hw0.txt\n",
    "- pl2648_hw0.sh\n",
    "- pl2648_hw0_all_in_one.txt\n",
    "- Pl2648_hw0_bash_program.sh\n",
    "- Pl2648_quiz1.ipynb\n",
    "\n",
    "This naming format allows for autograding of all assignments. If your files are not named with this format, you should expect a grade of zero for the assignment.\n",
    "\n",
    "Courseworks may rename your file to something like `pl2648_hw0-1.ipynb` if you resubmit your assignment. This is perfectly fine.\n",
    "\n",
    "**What Format To Submit In**\n",
    "\n",
    "Most homework and quizzes are in Jupyter notebooks. Unless specified otherwise, please download your work as an `.ipynb` file from your local machine and upload it to courseworks.\n",
    "\n",
    "\n",
    "**Grading**\n",
    "\n",
    "Possible points on late assignments are deducted by 50% for each day they are late. For example, if you get 80% of the total possible credits on a homework but hand in that homework a day late, you would get 40%. Assignments two days late get zero points.\n",
    "\n",
    "Once solutions are posted and graded assignments are handed back, students have 1 week to bring their grading discrepancies to a CA for consideration of possible grading errors. \n",
    "\n",
    "Because grading is automated, please delete (or comment out) the `raise NotImplmeneted` code before attempting a problem. \n",
    "\n",
    "Empty un-editable cells in an assignment are there for a purpose. They will be filled with tests by the automatic grader. Please do not attempt to remove them.\n",
    "\n",
    "**Getting Help**\n",
    "\n",
    "Asking for help is a great way to increase your chance of success. However there are some rules. When asking for help (especially from a fellow student), *you can show your helper your code but you can not view theirs*. You work needs to be your own. You can not post screenshots of your current work to Piazza or other tools used for getting help.\n",
    "\n",
    "If you need to reach out to a CA for help, please do so via Piazza and not via email. Answers given via Piazza will help you as well as other students. Thus, emails will always have a lower priority for response than Piazza questions. If you do email the CA, please make a note of what section you are in. This helps us identify you in courseworks faster. \n",
    "\n",
    "Finally, if you do not get a repsonse from a CA within 48 hours, you may email the professor.\n",
    "\n",
    "**Multiple Choice**\n",
    "\n",
    "If the question is multiple choice, you will be given several options to choose from and your function will need to return **one** of those options **verbatim** as a string.\n",
    "\n",
    "For example: \n",
    "\n",
    "Which of the following animals bark?\n",
    "\n",
    "- dogs\n",
    "- cats\n",
    "- fish\n",
    "- trees\n",
    "\n",
    "A correct answer would be structured in the following way:\n",
    "\n",
    "```python\n",
    "def question_animals():\n",
    "    return 'dogs'\n",
    "```\n",
    "\n",
    "You answer will be stripped of left and right white space and lowercased before comparison to the correct answer during grading.\n",
    "</details>"
   ]
  },
  {
   "cell_type": "markdown",
   "metadata": {
    "deletable": false,
    "editable": false,
    "nbgrader": {
     "cell_type": "markdown",
     "checksum": "127348f3d7628b937dd7e1939a128ba1",
     "grade": false,
     "grade_id": "cell-c29a49c8bd0a8187",
     "locked": true,
     "schema_version": 3,
     "solution": false
    }
   },
   "source": [
    "**Q**: Linked lists are a collection of nodes connect by a pointer. Each node holds a value and a pointer to the next node or to some unique value like `None` which indidcates the end of the list.\n",
    "\n",
    "Create a class `Node` that is instantiated with a value and a reference to the next node in the linked list. The value of the node should be accessible via an attribute named `value` on the node. A reference to the next node in the list should be accessible via an attribute named `next` on the node. If the node is the last node in a linked list, the node's `next` value should be `None`.\n",
    "\n",
    "Create a function `insert` that takes a reference to the first node in a linked list, a new `value`, and a position and inserts the a new node with the given value at the given position in the list. The first node of the updated list should be returned. If the position is farther than the length of the list, an index error should be raised.\n",
    "\n",
    "Create a function `pop` that takes a reference to the first node in a linked list and a position and removes the node at that position in the linked list. This function should return the popped node and the head of the linked list in a tuple.\n",
    "\n",
    "Create a function `stringify_linked_list` that takes a reference to the first node of a linked list and returns a printable string of all nodes in the linked list."
   ]
  },
  {
   "cell_type": "code",
   "execution_count": null,
   "metadata": {
    "deletable": false,
    "nbgrader": {
     "cell_type": "code",
     "checksum": "bb4736ba8f4029d1a44cf2ec7617cd80",
     "grade": false,
     "grade_id": "cell-51d435e052861ff4",
     "locked": false,
     "schema_version": 3,
     "solution": true
    }
   },
   "outputs": [],
   "source": [
    "class Node:\n",
    "    # YOUR CODE HERE\n",
    "    raise NotImplementedError()\n",
    "\n",
    "def insert(head, value, position):\n",
    "    # YOUR CODE HERE\n",
    "    raise NotImplementedError()\n",
    "\n",
    "def pop(head, position):\n",
    "    # YOUR CODE HERE\n",
    "    raise NotImplementedError()\n",
    "    \n",
    "def stringify_linked_list(head):\n",
    "    # YOUR CODE HERE\n",
    "    raise NotImplementedError()"
   ]
  },
  {
   "cell_type": "code",
   "execution_count": null,
   "metadata": {
    "deletable": false,
    "editable": false,
    "nbgrader": {
     "cell_type": "code",
     "checksum": "12381ea83d1e0b3feebdb4c66ed0d388",
     "grade": true,
     "grade_id": "cell-e77e77f179e986b7",
     "locked": true,
     "points": 0.25,
     "schema_version": 3,
     "solution": false
    }
   },
   "outputs": [],
   "source": [
    "### BEGIN TESTS\n",
    "assert repr(Node(-1, None)) == '<Node (-1)>'\n",
    "### END TESTS"
   ]
  },
  {
   "cell_type": "code",
   "execution_count": null,
   "metadata": {
    "deletable": false,
    "editable": false,
    "nbgrader": {
     "cell_type": "code",
     "checksum": "5ccabdebdf1145f1eb6ad8ac7cee9a26",
     "grade": true,
     "grade_id": "cell-f50f4e026cc40093",
     "locked": true,
     "points": 0.25,
     "schema_version": 3,
     "solution": false
    }
   },
   "outputs": [],
   "source": [
    "### BEGIN TESTS\n",
    "n1 = Node(4, None)\n",
    "assert n1.value == 4\n",
    "assert n1.next is None\n",
    "### END TESTS"
   ]
  },
  {
   "cell_type": "code",
   "execution_count": null,
   "metadata": {
    "deletable": false,
    "editable": false,
    "nbgrader": {
     "cell_type": "code",
     "checksum": "e65bc573693b9507cd44cc2308b78757",
     "grade": true,
     "grade_id": "cell-3f9743f8fea1118f",
     "locked": true,
     "points": 0.5,
     "schema_version": 3,
     "solution": false
    }
   },
   "outputs": [],
   "source": [
    "### BEGIN TESTS\n",
    "n2 = Node(8, n1)\n",
    "assert n2.value == 8\n",
    "assert n2.next is n1\n",
    "### END TESTS"
   ]
  },
  {
   "cell_type": "code",
   "execution_count": null,
   "metadata": {
    "deletable": false,
    "editable": false,
    "nbgrader": {
     "cell_type": "code",
     "checksum": "6fe39fe1b0e1449b883e478efccff527",
     "grade": true,
     "grade_id": "cell-296cc7b3a3806097",
     "locked": true,
     "points": 1,
     "schema_version": 3,
     "solution": false
    }
   },
   "outputs": [],
   "source": [
    "### BEGIN TESTS\n",
    "head = None\n",
    "for i in range(3):\n",
    "    head = Node(i, head)\n",
    "\n",
    "assert stringify_linked_list(head) == '<Node (2)> -> <Node (1)> -> <Node (0)> -> None'\n",
    "### END TESTS"
   ]
  },
  {
   "cell_type": "code",
   "execution_count": null,
   "metadata": {
    "deletable": false,
    "editable": false,
    "nbgrader": {
     "cell_type": "code",
     "checksum": "90bef31c46c26ed7fe6d9ef7d070d2ed",
     "grade": true,
     "grade_id": "cell-0074e7e672639a97",
     "locked": true,
     "points": 0.5,
     "schema_version": 3,
     "solution": false
    }
   },
   "outputs": [],
   "source": [
    "### BEGIN TESTS\n",
    "head = None\n",
    "for i in range(3):\n",
    "    head = Node(i, head)\n",
    "head = insert(head, 0, 0)\n",
    "assert stringify_linked_list(head) == '<Node (0)> -> <Node (2)> -> <Node (1)> -> <Node (0)> -> None'\n",
    "### END TESTS"
   ]
  },
  {
   "cell_type": "code",
   "execution_count": null,
   "metadata": {
    "deletable": false,
    "editable": false,
    "nbgrader": {
     "cell_type": "code",
     "checksum": "bb80d907a51ff08a82125ae6b9f85db3",
     "grade": true,
     "grade_id": "cell-f4837da8886b212e",
     "locked": true,
     "points": 0.5,
     "schema_version": 3,
     "solution": false
    }
   },
   "outputs": [],
   "source": [
    "### BEGIN TESTS\n",
    "head = None\n",
    "for i in range(3):\n",
    "    head = Node(i, head)\n",
    "head = insert(head, 0, 1)\n",
    "assert stringify_linked_list(head) == '<Node (2)> -> <Node (0)> -> <Node (1)> -> <Node (0)> -> None'\n",
    "### END TESTS"
   ]
  },
  {
   "cell_type": "code",
   "execution_count": null,
   "metadata": {
    "deletable": false,
    "editable": false,
    "nbgrader": {
     "cell_type": "code",
     "checksum": "04de9f86912dbeb76888ee9bed65da5a",
     "grade": true,
     "grade_id": "cell-aa3cec04c37b6cdb",
     "locked": true,
     "points": 0.5,
     "schema_version": 3,
     "solution": false
    }
   },
   "outputs": [],
   "source": [
    "### BEGIN TESTS\n",
    "head = None\n",
    "for i in range(3):\n",
    "    head = Node(i, head)\n",
    "head = insert(head, -1, 3)\n",
    "assert stringify_linked_list(head) == '<Node (2)> -> <Node (1)> -> <Node (0)> -> <Node (-1)> -> None'\n",
    "### END TESTS"
   ]
  },
  {
   "cell_type": "code",
   "execution_count": null,
   "metadata": {
    "deletable": false,
    "editable": false,
    "nbgrader": {
     "cell_type": "code",
     "checksum": "7efbbe478943908789c4d01fb31a5d99",
     "grade": true,
     "grade_id": "cell-d85a2d4fe1bd703b",
     "locked": true,
     "points": 0.5,
     "schema_version": 3,
     "solution": false
    }
   },
   "outputs": [],
   "source": [
    "### BEGIN TESTS\n",
    "head = None\n",
    "for i in range(3):\n",
    "    head = Node(i, head)\n",
    "\n",
    "try:\n",
    "    insert(head, 0, 4)\n",
    "    assert False, 'Should have failed with an IndexError'\n",
    "except IndexError:\n",
    "    pass\n",
    "### END TESTS"
   ]
  },
  {
   "cell_type": "code",
   "execution_count": null,
   "metadata": {
    "deletable": false,
    "editable": false,
    "nbgrader": {
     "cell_type": "code",
     "checksum": "da7f9b8d03e7b592844cf3a2b0b13183",
     "grade": true,
     "grade_id": "cell-4d78987fc54626cc",
     "locked": true,
     "points": 0.5,
     "schema_version": 3,
     "solution": false
    }
   },
   "outputs": [],
   "source": [
    "### BEGIN TESTS\n",
    "head = None\n",
    "for i in range(3):\n",
    "    head = Node(i, head)\n",
    "    \n",
    "popped_node, head = pop(head, 1)\n",
    "assert popped_node.value == 1, popped_node.value\n",
    "assert stringify_linked_list(head) == '<Node (2)> -> <Node (0)> -> None'\n",
    "### END TESTS"
   ]
  },
  {
   "cell_type": "code",
   "execution_count": null,
   "metadata": {
    "deletable": false,
    "editable": false,
    "nbgrader": {
     "cell_type": "code",
     "checksum": "062015db59458cdade49c6e51625eb37",
     "grade": true,
     "grade_id": "cell-de257ee5e26a9c30",
     "locked": true,
     "points": 0.5,
     "schema_version": 3,
     "solution": false
    }
   },
   "outputs": [],
   "source": [
    "### BEGIN TESTS\n",
    "head = None\n",
    "for i in range(3):\n",
    "    head = Node(i, head)\n",
    "    \n",
    "popped_node, head = pop(head, 0)\n",
    "assert popped_node.value == 2, popped_node.value\n",
    "assert stringify_linked_list(head) == '<Node (1)> -> <Node (0)> -> None'\n",
    "### END TESTS"
   ]
  },
  {
   "cell_type": "code",
   "execution_count": null,
   "metadata": {
    "deletable": false,
    "editable": false,
    "nbgrader": {
     "cell_type": "code",
     "checksum": "48834a5af7f8bab0126ed72b015a8838",
     "grade": true,
     "grade_id": "cell-39321aa68593ea72",
     "locked": true,
     "points": 0.5,
     "schema_version": 3,
     "solution": false
    }
   },
   "outputs": [],
   "source": [
    "### BEGIN TESTS\n",
    "head = None\n",
    "for i in range(3):\n",
    "    head = Node(i, head)\n",
    "    \n",
    "popped_node, head = pop(head, 2)\n",
    "assert popped_node.value == 0\n",
    "assert stringify_linked_list(head) == '<Node (2)> -> <Node (1)> -> None'\n",
    "### END TESTS"
   ]
  },
  {
   "cell_type": "code",
   "execution_count": null,
   "metadata": {
    "deletable": false,
    "editable": false,
    "nbgrader": {
     "cell_type": "code",
     "checksum": "2de7f8c87ef8e4ca2a579aa9a71454ca",
     "grade": true,
     "grade_id": "cell-bfeec49aa3cc0244",
     "locked": true,
     "points": 0.5,
     "schema_version": 3,
     "solution": false
    }
   },
   "outputs": [],
   "source": [
    "### BEGIN TESTS\n",
    "head = None\n",
    "for i in range(3):\n",
    "    head = Node(i, head)\n",
    "\n",
    "try:\n",
    "    pop(head, 3)\n",
    "    assert False, 'Should have failed with an IndexError'\n",
    "except IndexError:\n",
    "    pass\n",
    "### END TESTS"
   ]
  }
 ],
 "metadata": {
  "kernelspec": {
   "display_name": "Python 3",
   "language": "python",
   "name": "python3"
  },
  "language_info": {
   "codemirror_mode": {
    "name": "ipython",
    "version": 3
   },
   "file_extension": ".py",
   "mimetype": "text/x-python",
   "name": "python",
   "nbconvert_exporter": "python",
   "pygments_lexer": "ipython3",
   "version": "3.7.3"
  }
 },
 "nbformat": 4,
 "nbformat_minor": 2
}
