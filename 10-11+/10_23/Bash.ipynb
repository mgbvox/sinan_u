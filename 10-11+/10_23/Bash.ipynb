{
 "cells": [
  {
   "cell_type": "markdown",
   "metadata": {},
   "source": [
    "<subject>\n",
    "Assignment How-To\n",
    "</subject>\n",
    "\n",
    "<details>\n",
    "    \n",
    "**Do Not Talk During Quizzes or Exams**\n",
    "\n",
    "Do not talk at all once an exam has begun. You may talk again once you leave the room after the quiz or exam. The one exception to this rule is if you need to ask the exam proctor a question. Any talking during a quiz or exam qualifies the student for disciplinary action.\n",
    "\n",
    "**Naming Conventions**\n",
    "\n",
    "When naming your files for upload, you must follow the format below:\n",
    "\n",
    "    <uni>_<assignment>_<details [optional]>.<extension>\n",
    "\n",
    "For example, if I needed to hand in HW 0, any of the below formats would be sufficient for a file name:\n",
    "\n",
    "- pl2648_hw0.ipynb\n",
    "- pl2648_hw0.txt\n",
    "- pl2648_hw0.sh\n",
    "- pl2648_hw0_all_in_one.txt\n",
    "- Pl2648_hw0_bash_program.sh\n",
    "- Pl2648_quiz1.ipynb\n",
    "\n",
    "This naming format allows for autograding of all assignments. If your files are not named with this format, you should expect a grade of zero for the assignment.\n",
    "\n",
    "Courseworks may rename your file to something like `pl2648_hw0-1.ipynb` if you resubmit your assignment. This is perfectly fine.\n",
    "\n",
    "**What Format To Submit In**\n",
    "\n",
    "Most homework and quizzes are in Jupyter notebooks. Unless specified otherwise, please download your work as an `.ipynb` file from your local machine and upload it to courseworks.\n",
    "\n",
    "\n",
    "**Grading**\n",
    "\n",
    "Possible points on late assignments are deducted by 50% for each day they are late. For example, if you get 80% of the total possible credits on a homework but hand in that homework a day late, you would get 40%. Assignments two days late get zero points.\n",
    "\n",
    "Once solutions are posted and graded assignments are handed back, students have 1 week to bring their grading discrepancies to a CA for consideration of possible grading errors. \n",
    "\n",
    "Because grading is automated, please delete (or comment out) the `raise NotImplmeneted` code before attempting a problem. \n",
    "\n",
    "Empty un-editable cells in an assignment are there for a purpose. They will be filled with tests by the automatic grader. Please do not attempt to remove them.\n",
    "\n",
    "**Getting Help**\n",
    "\n",
    "Asking for help is a great way to increase your chance of success. However there are some rules. When asking for help (especially from a fellow student), *you can show your helper your code but you can not view theirs*. You work needs to be your own. You can not post screenshots of your current work to Piazza or other tools used for getting help.\n",
    "\n",
    "If you need to reach out to a CA for help, please do so via Piazza and not via email. Answers given via Piazza will help you as well as other students. Thus, emails will always have a lower priority for response than Piazza questions. If you do email the CA, please make a note of what section you are in. This helps us identify you in courseworks faster. \n",
    "\n",
    "Finally, if you do not get a repsonse from a CA within 48 hours, you may email the professor.\n",
    "\n",
    "**Multiple Choice**\n",
    "\n",
    "If the question is multiple choice, you will be given several options to choose from and your function will need to return **one** of those options **verbatim** as a string.\n",
    "\n",
    "For example: \n",
    "\n",
    "Which of the following animals bark?\n",
    "\n",
    "- dogs\n",
    "- cats\n",
    "- fish\n",
    "- trees\n",
    "\n",
    "A correct answer would be structured in the following way:\n",
    "\n",
    "```python\n",
    "def question_animals():\n",
    "    return 'dogs'\n",
    "```\n",
    "\n",
    "You answer will be stripped of left and right white space and lowercased before comparison to the correct answer during grading.\n",
    "</details>"
   ]
  },
  {
   "cell_type": "code",
   "execution_count": 1,
   "metadata": {
    "deletable": false,
    "editable": false,
    "nbgrader": {
     "cell_type": "code",
     "checksum": "464f2e4caf203b3cb70cdc317810dd02",
     "grade": true,
     "grade_id": "cell-e5713946811b5d52",
     "locked": true,
     "points": 0,
     "schema_version": 3,
     "solution": false
    }
   },
   "outputs": [],
   "source": [
    "### BEGIN TESTS\n",
    "import subprocess\n",
    "import tempfile\n",
    "import os\n",
    "\n",
    "\n",
    "def clean_bash_function(text):\n",
    "    if 'rm' in text:\n",
    "        raise ValueError('rm found in text of script. No points.')\n",
    "    \n",
    "    text = text.strip()\n",
    "    # Get first \\n\n",
    "    lines = text.split('\\n')\n",
    "\n",
    "    return '\\n'.join(line.lstrip() for line in lines)\n",
    "\n",
    "\n",
    "def run_script(text, args=None, timeout=None):\n",
    "    args = args or []\n",
    "    text = clean_bash_function(text)\n",
    "    with tempfile.NamedTemporaryFile() as file:\n",
    "        file.write(text.encode())\n",
    "        file.flush()\n",
    "        os.chmod(file.name, 0o777)    \n",
    "        response = subprocess.run(\n",
    "            ['/bin/bash', file.name] + args, \n",
    "            timeout=timeout, \n",
    "            stdout=subprocess.PIPE, \n",
    "            stderr=subprocess.PIPE,\n",
    "        )\n",
    "        return response\n",
    "### END TESTS"
   ]
  },
  {
   "cell_type": "markdown",
   "metadata": {
    "deletable": false,
    "editable": false,
    "nbgrader": {
     "cell_type": "markdown",
     "checksum": "e14d10dc28af25f598644de554083565",
     "grade": false,
     "grade_id": "cell-14716c2194da273a",
     "locked": true,
     "schema_version": 3,
     "solution": false
    }
   },
   "source": [
    "**DO NOT INCLUDE THE STRING  `rm`  ANYWHERE IN YOUR SCRIPTS OR YOU COULD GET ZERO POINTS FOR THE QUESTION.**"
   ]
  },
  {
   "cell_type": "markdown",
   "metadata": {
    "deletable": false,
    "editable": false,
    "nbgrader": {
     "cell_type": "markdown",
     "checksum": "31f4a156abaa0501f2c621556ca6288f",
     "grade": false,
     "grade_id": "cell-632af559db1440e2",
     "locked": true,
     "schema_version": 3,
     "solution": false
    }
   },
   "source": [
    "**Q**: Write a function `get_bash_function` that returns the text of a bash script. For example:\n",
    "\n",
    "```python\n",
    "def get_bash_function():\n",
    "    return \"\"\"\n",
    "    #!/bin/bash\n",
    "    echo Hello!\n",
    "    \"\"\"\n",
    "```\n",
    "\n",
    "The bash script should not return \"hello\" but should count down from 5 to 1 (inclusive), printing each number as it goes and should print \"GO!\" after printing 1. All values should be printed to their own line. All values should be printed to standard out. The script should pause for one second in between printing each line. A `for` loop should be used in the count down. If you script were run at the command line, output would be this:\n",
    "\n",
    "```bash\n",
    "$ /bin/bash your-script.sh\n",
    "5\n",
    "4\n",
    "3\n",
    "2\n",
    "1\n",
    "GO!\n",
    "```\n",
    "\n",
    "[2 points]"
   ]
  },
  {
   "cell_type": "code",
   "execution_count": 7,
   "metadata": {},
   "outputs": [
    {
     "name": "stdout",
     "output_type": "stream",
     "text": [
      "/bin/bash: for: No such file or directory\n"
     ]
    }
   ],
   "source": []
  },
  {
   "cell_type": "code",
   "execution_count": 34,
   "metadata": {
    "deletable": false,
    "nbgrader": {
     "cell_type": "code",
     "checksum": "2839bd20ed6c93cc75f15a43ad6c8bc5",
     "grade": false,
     "grade_id": "cell-40a07e3e81c26639",
     "locked": false,
     "schema_version": 3,
     "solution": true
    }
   },
   "outputs": [],
   "source": [
    "def get_bash_function():\n",
    "    return '''\n",
    "    #!/bin/bash \n",
    "    for i in {5..1} \n",
    "    do \n",
    "        sleep 1\n",
    "        echo \"$i\" \n",
    "    done \n",
    "    sleep 1\n",
    "    echo \"GO!\"\n",
    "    '''"
   ]
  },
  {
   "cell_type": "code",
   "execution_count": 35,
   "metadata": {
    "deletable": false,
    "editable": false,
    "nbgrader": {
     "cell_type": "code",
     "checksum": "86cfc0830436a216f8703ac24cc5f604",
     "grade": true,
     "grade_id": "cell-ae95381e40692307",
     "locked": true,
     "points": 0.5,
     "schema_version": 3,
     "solution": false
    }
   },
   "outputs": [],
   "source": [
    "### BEGIN TESTS\n",
    "text = get_bash_function()\n",
    "response = run_script(text, timeout=10)\n",
    "assert response.stdout.decode().strip().split() == ['5', '4', '3', '2', '1', 'GO!']\n",
    "### END TESTS"
   ]
  },
  {
   "cell_type": "code",
   "execution_count": 24,
   "metadata": {},
   "outputs": [
    {
     "data": {
      "text/plain": [
       "['5', '4', '3', '2', '1', 'GO!']"
      ]
     },
     "execution_count": 24,
     "metadata": {},
     "output_type": "execute_result"
    }
   ],
   "source": [
    "run_script(get_bash_function(), timeout=10).stdout.decode().strip().split()"
   ]
  },
  {
   "cell_type": "code",
   "execution_count": null,
   "metadata": {
    "deletable": false,
    "editable": false,
    "nbgrader": {
     "cell_type": "code",
     "checksum": "f2faef631a4ab4030a153b024d18bff4",
     "grade": true,
     "grade_id": "cell-de51c6a3de2b41e7",
     "locked": true,
     "points": 0.5,
     "schema_version": 3,
     "solution": false
    }
   },
   "outputs": [],
   "source": []
  },
  {
   "cell_type": "code",
   "execution_count": null,
   "metadata": {
    "deletable": false,
    "editable": false,
    "nbgrader": {
     "cell_type": "code",
     "checksum": "b9d36c9e270db7e17f243739581ba559",
     "grade": true,
     "grade_id": "cell-396d56170dc6809e",
     "locked": true,
     "points": 0.5,
     "schema_version": 3,
     "solution": false
    }
   },
   "outputs": [],
   "source": []
  },
  {
   "cell_type": "code",
   "execution_count": null,
   "metadata": {
    "deletable": false,
    "editable": false,
    "nbgrader": {
     "cell_type": "code",
     "checksum": "bd4cc50d10aa2558a6ee2f7df3270c97",
     "grade": true,
     "grade_id": "cell-e562b568261ce8ae",
     "locked": true,
     "points": 0.5,
     "schema_version": 3,
     "solution": false
    }
   },
   "outputs": [],
   "source": []
  },
  {
   "cell_type": "markdown",
   "metadata": {
    "deletable": false,
    "editable": false,
    "nbgrader": {
     "cell_type": "markdown",
     "checksum": "0775aa3c37e109a463634280d3e1c415",
     "grade": false,
     "grade_id": "cell-482a616719935dff",
     "locked": true,
     "schema_version": 3,
     "solution": false
    }
   },
   "source": [
    "**Q**: Write a function `get_bash_function` that returns the text of a bash script. For example:\n",
    "\n",
    "```python\n",
    "def get_bash_function():\n",
    "    return \"\"\"\n",
    "    #!/bin/bash\n",
    "    echo Hello!\n",
    "    \"\"\"\n",
    "```\n",
    "\n",
    "The bash script should not return \"hello\" but should take one argument and use it within a greeting. Please use the greeting seen in the example. All output should be printed to standard out. If you script were run at the command line, output would be this:\n",
    "\n",
    "```bash\n",
    "$ /bin/bash your-script.sh Paul\n",
    "Well, hello Paul! Nice to meet you today :)\n",
    "```\n",
    "\n",
    "This is a simple problem. It's designed to ensure you know how to write a bash script that takes command line arguments.\n",
    "\n",
    "[1 point]"
   ]
  },
  {
   "cell_type": "code",
   "execution_count": 26,
   "metadata": {
    "deletable": false,
    "nbgrader": {
     "cell_type": "code",
     "checksum": "123d03295ca028a0564029653c0cd9d5",
     "grade": false,
     "grade_id": "cell-0ae8eeb9e364516c",
     "locked": false,
     "schema_version": 3,
     "solution": true
    }
   },
   "outputs": [],
   "source": [
    "def get_bash_function():\n",
    "    return \"\"\"\n",
    "    #!/bin/bash\n",
    "    echo \"Hello $1!\"\n",
    "    \"\"\""
   ]
  },
  {
   "cell_type": "code",
   "execution_count": null,
   "metadata": {
    "deletable": false,
    "editable": false,
    "nbgrader": {
     "cell_type": "code",
     "checksum": "0b652b4091dab8f8b172d1b5434fcd00",
     "grade": true,
     "grade_id": "cell-2af32a0dc3f329d1",
     "locked": true,
     "points": 1,
     "schema_version": 3,
     "solution": false
    }
   },
   "outputs": [],
   "source": []
  },
  {
   "cell_type": "markdown",
   "metadata": {
    "deletable": false,
    "editable": false,
    "nbgrader": {
     "cell_type": "markdown",
     "checksum": "4026fcf65cca604385f5df8ac7107b07",
     "grade": false,
     "grade_id": "cell-d9884d01552597bc",
     "locked": true,
     "schema_version": 3,
     "solution": false
    }
   },
   "source": [
    "**Q**: Write a function `get_bash_function` that returns the text of a bash script. For example:\n",
    "\n",
    "```python\n",
    "def get_bash_function():\n",
    "    return \"\"\"\n",
    "    #!/bin/bash\n",
    "    echo Hello!\n",
    "    \"\"\"\n",
    "```\n",
    "\n",
    "The bash script should not return \"hello\" but should take one argument and find that argument's factorial. All output should be printed to standard out. If you script were run at the command line, output would be this:\n",
    "\n",
    "```bash\n",
    "$ /bin/bash your-script.sh 5\n",
    "120\n",
    "```\n",
    "[2 points]"
   ]
  },
  {
   "cell_type": "code",
   "execution_count": null,
   "metadata": {},
   "outputs": [],
   "source": []
  },
  {
   "cell_type": "code",
   "execution_count": 33,
   "metadata": {},
   "outputs": [
    {
     "data": {
      "text/plain": [
       "120"
      ]
     },
     "execution_count": 33,
     "metadata": {},
     "output_type": "execute_result"
    }
   ],
   "source": [
    "def py_fact(n):\n",
    "    if n <= 1:\n",
    "        return 1\n",
    "    else:\n",
    "        return py_fact(n-1)*n\n",
    "py_fact(5)"
   ]
  },
  {
   "cell_type": "code",
   "execution_count": 32,
   "metadata": {
    "deletable": false,
    "nbgrader": {
     "cell_type": "code",
     "checksum": "60b936af1b84526eb16fe56f9016f497",
     "grade": false,
     "grade_id": "cell-fd417f3e5c08b2a1",
     "locked": false,
     "schema_version": 3,
     "solution": true
    }
   },
   "outputs": [],
   "source": [
    "def get_bash_function():\n",
    "    # YOUR CODE HERE\n",
    "    raise NotImplementedError()"
   ]
  },
  {
   "cell_type": "code",
   "execution_count": null,
   "metadata": {
    "deletable": false,
    "editable": false,
    "nbgrader": {
     "cell_type": "code",
     "checksum": "aa406083d2529fa6bac6b2ddbf8b3937",
     "grade": true,
     "grade_id": "cell-3b22872326e5c128",
     "locked": true,
     "points": 1,
     "schema_version": 3,
     "solution": false
    }
   },
   "outputs": [],
   "source": [
    "### BEGIN TESTS\n",
    "text = get_bash_function()\n",
    "\n",
    "response = run_script(text, args=['5'], timeout=2)\n",
    "\n",
    "assert response.stdout.decode().strip() == '120'\n",
    "### END TESTS"
   ]
  },
  {
   "cell_type": "code",
   "execution_count": null,
   "metadata": {
    "deletable": false,
    "editable": false,
    "nbgrader": {
     "cell_type": "code",
     "checksum": "5ece23018c4803ff76593d88b3df7616",
     "grade": true,
     "grade_id": "cell-7528b05a98e71db9",
     "locked": true,
     "points": 1,
     "schema_version": 3,
     "solution": false
    }
   },
   "outputs": [],
   "source": []
  }
 ],
 "metadata": {
  "kernelspec": {
   "display_name": "Python 3",
   "language": "python",
   "name": "python3"
  },
  "language_info": {
   "codemirror_mode": {
    "name": "ipython",
    "version": 3
   },
   "file_extension": ".py",
   "mimetype": "text/x-python",
   "name": "python",
   "nbconvert_exporter": "python",
   "pygments_lexer": "ipython3",
   "version": "3.6.7"
  }
 },
 "nbformat": 4,
 "nbformat_minor": 2
}
