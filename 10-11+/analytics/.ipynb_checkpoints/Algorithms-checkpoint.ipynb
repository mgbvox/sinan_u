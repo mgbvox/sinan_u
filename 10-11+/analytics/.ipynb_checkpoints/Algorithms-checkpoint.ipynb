{
 "cells": [
  {
   "cell_type": "markdown",
   "metadata": {},
   "source": [
    "# Sorting"
   ]
  },
  {
   "cell_type": "markdown",
   "metadata": {},
   "source": [
    "## Bubble Sort"
   ]
  },
  {
   "cell_type": "markdown",
   "metadata": {},
   "source": [
    "pseudo code\n",
    "\n",
    "```\n",
    "repeat until no swaps:\n",
    "    for i in range(n - 2):\n",
    "        if i'th and (i + 1)'th item need re-ordering:\n",
    "            swap 'em \n",
    "```"
   ]
  },
  {
   "cell_type": "markdown",
   "metadata": {},
   "source": [
    "####### Strip for lecture\n",
    "\n",
    "- Worst case performance: O(n2)\n",
    "- Best case performance: Ω(n)"
   ]
  },
  {
   "cell_type": "markdown",
   "metadata": {},
   "source": [
    "## Selection Sort"
   ]
  },
  {
   "cell_type": "markdown",
   "metadata": {},
   "source": [
    "Given a list, take the current element and exchange it with the smallest element on the right hand side of the current element.\n",
    "\n",
    "pseudo code:\n",
    "```\n",
    "for i in range(n - 1):\n",
    "    find smallest item between i and n - 1:\n",
    "        swap smallest item with item at the beginning of unsorted portion of list\n",
    "```"
   ]
  },
  {
   "cell_type": "markdown",
   "metadata": {},
   "source": [
    "####### Strip for lecture\n",
    "\n",
    "- Worst case performance: O(n2)\n",
    "- Best case performance: Ω(n2)"
   ]
  },
  {
   "cell_type": "markdown",
   "metadata": {},
   "source": [
    "## Insertion Sort"
   ]
  },
  {
   "cell_type": "markdown",
   "metadata": {},
   "source": [
    "pseudo code:\n",
    "```\n",
    "Set a flag to keep track of the \"sorted\" section\n",
    "for i in range(n - 1):\n",
    "    grab the first unsorted element\n",
    "    look to the left and slide things to the right unitl items are in position.\n",
    "    move the flag for the \"sorted\" section forward\n",
    "```"
   ]
  },
  {
   "cell_type": "markdown",
   "metadata": {},
   "source": [
    "####### Strip for lecture\n",
    "\n",
    "- Worst case performance: O(n2)\n",
    "- Best case performance: Ω(n)"
   ]
  },
  {
   "cell_type": "markdown",
   "metadata": {},
   "source": [
    "## Merge Sort"
   ]
  },
  {
   "cell_type": "markdown",
   "metadata": {},
   "source": [
    "pseudo code:\n",
    "```\n",
    "Break array down by halves until there are N-one item sub-arrays rather than one N-item array.\n",
    "Merge sibling sub-array halves until there are no more halves to merge:\n",
    "    pull smallest item from front of each sub-array \n",
    "    placing item in new \"merged\" array\n",
    "```"
   ]
  },
  {
   "cell_type": "markdown",
   "metadata": {},
   "source": [
    "####### Strip for lecture\n",
    "\n",
    "- Worst case performance: O(n log n)\n",
    "- Best case performance: Ω(n log n)"
   ]
  },
  {
   "cell_type": "markdown",
   "metadata": {},
   "source": [
    "#### Videos\n",
    "\n",
    "- https://www.youtube.com/watch?v=kPRA0W1kECg (15 Sorting Algorithms in 6 Minutes, NB! Warning - Flashing lights !)\n",
    "- https://www.youtube.com/watch?v=ZZuD6iUe3Pc (Comparison of sorts)\n",
    "- https://www.youtube.com/watch?v=lyZQPjUT5B4 (Hungarian Sort)"
   ]
  },
  {
   "cell_type": "markdown",
   "metadata": {},
   "source": [
    "# Search"
   ]
  },
  {
   "cell_type": "markdown",
   "metadata": {},
   "source": [
    "## Linear Search"
   ]
  },
  {
   "cell_type": "markdown",
   "metadata": {},
   "source": [
    "pseudo code:\n",
    "```\n",
    "For each item in list:\n",
    "   is item the item we are looking for?\n",
    "       return True\n",
    "return False\n",
    "```"
   ]
  },
  {
   "cell_type": "markdown",
   "metadata": {},
   "source": [
    "####### Strip for lecture\n",
    "\n",
    "- Worst case performance: O(n)\n",
    "- Best case performance: Ω(1)"
   ]
  },
  {
   "cell_type": "markdown",
   "metadata": {},
   "source": [
    "## Binary Search"
   ]
  },
  {
   "cell_type": "markdown",
   "metadata": {},
   "source": [
    "pseudo code:\n",
    "```\n",
    "Assume list is sorted\n",
    "\n",
    "while there is something in the list:\n",
    "    Pick the item in the middle\n",
    "    Is the item the item we are looking for?\n",
    "        return True\n",
    "    Is the item greater than what we are looking for? \n",
    "        throw every thing in the list at and after the item we chose away\n",
    "        assume what is left is now the entire list\n",
    "    Is the item less than what we are looking for?\n",
    "        throw every thing in the list at and before the item we chose away\n",
    "        assume what is left is now the entire list\n",
    "\n",
    "return False\n",
    "```"
   ]
  },
  {
   "cell_type": "markdown",
   "metadata": {},
   "source": [
    "####### Strip for lecture\n",
    "\n",
    "- Worst case performance: O(log n)\n",
    "- Best case performance: Ω(1)"
   ]
  },
  {
   "cell_type": "markdown",
   "metadata": {},
   "source": [
    "## Depth First Search (DFS)"
   ]
  },
  {
   "cell_type": "markdown",
   "metadata": {},
   "source": [
    "pseudo code:\n",
    "```\n",
    "  graph is a graph of nodes and vertices\n",
    "  start_node is the place to start in the graph\n",
    "\n",
    "  DFS:\n",
    "      marke start_node as visited\n",
    "\n",
    "      for all neighbors of the start_node node:\n",
    "          if neighbor has not been visited:\n",
    "              recursively pass graph and neighbor to DFS\n",
    "```"
   ]
  },
  {
   "cell_type": "markdown",
   "metadata": {},
   "source": [
    "####### Strip for lecture\n",
    "\n",
    "- Worst case performance: O(|Verticies|+|Edges|), since every node and edge has to be visited\n",
    "- Best case performance: Ω(1)"
   ]
  },
  {
   "cell_type": "code",
   "execution_count": 2,
   "metadata": {},
   "outputs": [],
   "source": [
    "class Node:\n",
    "    def __init__(self, value, child1=None, child2=None):\n",
    "        self.value = value\n",
    "        self.child1 = child1\n",
    "        self.child2 = child2\n",
    "    \n",
    "    def __repr__(self):\n",
    "        return f'<Node {self.value} ({self.child1}, {self.child2})>'\n",
    "\n",
    "z = Node('z')\n",
    "x = Node('x')\n",
    "\n",
    "y = Node('y', x, z)\n",
    "\n",
    "u = Node('u')\n",
    "w = Node('w', u, y)"
   ]
  },
  {
   "cell_type": "code",
   "execution_count": 3,
   "metadata": {},
   "outputs": [],
   "source": [
    "def dfs(val, node, depth=1):\n",
    "    print('  ' * depth, node.value)\n",
    "    if node.value == val:\n",
    "        print('YEAH!!!!! FOUND IT')\n",
    "        raise ValueError(val)\n",
    "    if node.child1:\n",
    "        dfs(val, node.child1, depth=depth + 1)\n",
    "    if node.child2:\n",
    "        dfs(val, node.child2, depth=depth + 1)"
   ]
  },
  {
   "cell_type": "code",
   "execution_count": 4,
   "metadata": {},
   "outputs": [
    {
     "name": "stdout",
     "output_type": "stream",
     "text": [
      "   w\n",
      "     u\n",
      "     y\n",
      "       x\n",
      "       z\n"
     ]
    }
   ],
   "source": [
    "dfs('j', w)"
   ]
  },
  {
   "cell_type": "markdown",
   "metadata": {},
   "source": [
    "## Breadth-first search (BFS)"
   ]
  },
  {
   "cell_type": "markdown",
   "metadata": {},
   "source": [
    "pseudo code:\n",
    "```\n",
    "  graph is a graph of nodes and vertices\n",
    "  start_node is the place to start in the graph\n",
    "  let the queue be a FIFO queue\n",
    "\n",
    "  enqueue the start_node\n",
    "\n",
    "  mark start_node as visited\n",
    "\n",
    "  while there is something in queue\n",
    "      dequeue a node from the queue\n",
    "\n",
    "      for all neighbors of the dequeued node:\n",
    "           if neighbor has not been visited\n",
    "               put neighbor in queue\n",
    "               mark neighbor as visited\n",
    "```"
   ]
  },
  {
   "cell_type": "markdown",
   "metadata": {},
   "source": [
    "####### Strip for lecture\n",
    "\n",
    "- Worst case performance: O(|Verticies|+|Edges|), since every node and edge has to be visited\n",
    "- Best case performance: Ω(1)"
   ]
  },
  {
   "cell_type": "code",
   "execution_count": null,
   "metadata": {},
   "outputs": [],
   "source": [
    "def bfs(val, node, depth=1):\n",
    "    queue = []\n",
    "    "
   ]
  },
  {
   "cell_type": "markdown",
   "metadata": {},
   "source": [
    "NB. Many parts of this lecture were inspired by my time in David J Malan's (et al.) CS50 course offered at Harvard."
   ]
  }
 ],
 "metadata": {
  "kernelspec": {
   "display_name": "Python 3",
   "language": "python",
   "name": "python3"
  },
  "language_info": {
   "codemirror_mode": {
    "name": "ipython",
    "version": 3
   },
   "file_extension": ".py",
   "mimetype": "text/x-python",
   "name": "python",
   "nbconvert_exporter": "python",
   "pygments_lexer": "ipython3",
   "version": "3.7.3"
  }
 },
 "nbformat": 4,
 "nbformat_minor": 2
}
