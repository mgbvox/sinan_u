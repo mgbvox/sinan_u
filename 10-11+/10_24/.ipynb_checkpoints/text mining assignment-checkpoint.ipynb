{
 "cells": [
  {
   "cell_type": "markdown",
   "metadata": {},
   "source": [
    "<h1>Document Similarity using LSI</h1>"
   ]
  },
  {
   "cell_type": "markdown",
   "metadata": {},
   "source": [
    "<h4>In this assignment we’re going to practice document similarity. Here’s\n",
    "what you need to do:</h4>\n",
    "<ol>\n",
    "<li>From Wikipedia’s List of musicians page (https://en.wikipedia.org/wiki/Lists_of_musicians), pick five lists of\n",
    "musicians (e.g., List of big band musicians). You can pick any five\n",
    "you like but make sure that the list has the words “musicians” in\n",
    "it and that the list has at least 30 musicians listed\n",
    "<li>Collect the urls of all the musicians on those five pages and place them in a list\n",
    "<li>Grab the content of each musician in the list and place them in a list (of documents)\n",
    "<li>Build an LSI model using this data. This is your \"reference\" data set\n",
    "<li>Now grab another list of musicians from wikipedia and create a new list of documents using the detail from each musicians page. This is your \"musician\" data set\n",
    "<li>For each musician in the new list, find the musician in the reference data set that is the closest in similarity. \n",
    "<li>Print a table that contains each musician from the musician data set and the most similar musician from the reference data set\n",
    "</ol>\n",
    "<h4>Use the code below to build your solution"
   ]
  },
  {
   "cell_type": "markdown",
   "metadata": {},
   "source": [
    "<p><span style=\"color:blue\">get_musicians</span>: A function that, given a \"list of musicians\" url, returns a list containing the names of the musicians and the urls for their wikipedia pages\n",
    "<p>non_musician_finder tries its best to remove links that are not musician links from the page (not perfect, but good enough!)"
   ]
  },
  {
   "cell_type": "code",
   "execution_count": 1,
   "metadata": {
    "collapsed": true
   },
   "outputs": [],
   "source": [
    "%pylab inline\n",
    "\n",
    "def get_musicians(url):\n",
    "    from bs4 import BeautifulSoup\n",
    "    import requests\n",
    "    page_soup = BeautifulSoup(requests.get(url).content,'lxml')\n",
    "    li_tags = page_soup.find_all('li')\n",
    "    all_musicians = list()\n",
    "    for tag in li_tags:\n",
    "        if tag.get('id'):\n",
    "            continue\n",
    "\n",
    "        try:\n",
    "            tag.find('sup',class_=\"reference\")\n",
    "            link = tag.find('a').get('href')\n",
    "            name = tag.find('a').get_text()\n",
    "            if \"/wiki/\" in link and non_musician_finder(link):\n",
    "                all_musicians.append((name,\"https://en.wikipedia.org\" + link))\n",
    "        except:\n",
    "            pass\n",
    "    return all_musicians\n",
    "\n",
    "def non_musician_finder(link):\n",
    "    non_musician_words = ['Category','Template','Portal','List','File','Template','Special','Main','Help','User']\n",
    "    for word in non_musician_words:\n",
    "        if word in link:\n",
    "            return False\n",
    "    return True"
   ]
  },
  {
   "cell_type": "markdown",
   "metadata": {},
   "source": [
    "<h4>testing the function</h4>\n",
    "<li>Note that Wikipedia does not have a standard for its page design so this code may not work with every list"
   ]
  },
  {
   "cell_type": "code",
   "execution_count": 126,
   "metadata": {
    "collapsed": true
   },
   "outputs": [],
   "source": [
    "url = \"https://en.wikipedia.org/wiki/List_of_alternative_country_musicians\"\n",
    "musicians = get_musicians(url)"
   ]
  },
  {
   "cell_type": "markdown",
   "metadata": {},
   "source": [
    "<h4>get_musician_text(url): returns the page text of the wikipedia page associated with a musician</h4>\n",
    "<li>Since we're not sure if this will always work, we use a try ... except to catch exceptions\n",
    "<li>If it doesn't work, the function returns None\n",
    "<li>We will need to delete this (musician, url) pair from our musicians list"
   ]
  },
  {
   "cell_type": "code",
   "execution_count": 5,
   "metadata": {
    "collapsed": true
   },
   "outputs": [],
   "source": [
    "def get_musician_text(url):\n",
    "    from bs4 import BeautifulSoup\n",
    "    import requests\n",
    "    all_text = ''\n",
    "    try:\n",
    "        page_soup = BeautifulSoup(requests.get(url).content,'lxml')\n",
    "        for p_tag in page_soup.find_all('p'):\n",
    "            all_text += p_tag.get_text()\n",
    "    except:\n",
    "        return None\n",
    "    return all_text\n"
   ]
  },
  {
   "cell_type": "markdown",
   "metadata": {},
   "source": [
    "<h4>testing get_musician_text</h4>"
   ]
  },
  {
   "cell_type": "code",
   "execution_count": 6,
   "metadata": {
    "collapsed": true
   },
   "outputs": [
    {
     "data": {
      "text/plain": [
       "'\\nJames Douglas Morrison (December 8, 1943 – July 3, 1971) was an American singer, songwriter and poet, who served as the lead vocalist of the rock band the Doors. Due to his poetic lyrics, distinctive voice, wild personality, unpredictable and erratic performances, and the dramatic circumstances surrounding his life and early death, Morrison is regarded by music critics and fans as one of the most iconic and influential frontmen in rock history. Since his death, his fame has endured as one of popular culture\\'s most rebellious and oft-displayed icons, representing the generation gap and youth counterculture.[1]\\nTogether with Ray Manzarek, Morrison co-founded the Doors during the summer of 1965 in Venice, California. The band spent two years in obscurity until shooting to prominence with their number-one single in the United States, \"Light My Fire,\" taken from their self-titled debut album. Morrison wrote or co-wrote many of the Doors\\' songs, including \"Light My Fire\", \"Break On Through (To the Other Side)\", \"The End\", \"Moonlight Drive\", \"People Are Strange\", \"Hello, I Love You\", \"Roadhouse Blues\", \"L.A. Woman\", and \"Riders on the Storm\". He recorded a total of six studio albums with the Doors, all of which sold well and received critical acclaim. Though the Doors recorded two more albums after Morrison died, his death severely affected the band\\'s fortunes, and they split up in 1973. In 1993, Morrison was inducted into the Rock and Roll Hall of Fame as a member of the Doors.\\nMorrison was also well known for improvising spoken word poetry passages while the band played live. Morrison was ranked number 47 on Rolling Stone\\'s list of the \"100 Greatest Singers of All Time\",[2] and number 22 on Classic Rock magazine\\'s \"50 Greatest Singers in Rock\".[3] Manzarek said Morrison \"embodied hippie counterculture rebellion\".[4]\\nMorrison developed an alcohol dependency during the 1960s, which at times affected his performances on stage.[5][6][7] He died unexpectedly at the age of 27 in Paris. As no autopsy was performed, the cause of Morrison\\'s death remains unknown.[8]\\nJames Douglas Morrison was born on December 8, 1943 in Melbourne, Florida, to Clara Virginia (née Clarke) and Rear Admiral George Stephen Morrison, USN.[9] His ancestors were Scottish, Irish, and English.[10][11] Admiral Morrison commanded United States naval forces during the Gulf of Tonkin incident, which provided the pretext for the US involvement in the Vietnam War in 1965. Morrison had a younger sister, Anne Robin, who was born in 1947 in Albuquerque, New Mexico, and a younger brother, Andrew Lee Morrison, who was born in 1948 in Los Altos, California.\\nIn 1947, when he was four years old, Morrison allegedly witnessed a car accident in the desert, during which a truck overturned and some Native Americans were lying injured at the side of the road. He referred to this incident in the Doors\\' song \"Peace Frog\" on their 1970 album Morrison Hotel, as well as in the spoken word performances \"Dawn\\'s Highway\" and \"Ghost Song\" on the posthumous 1978 album An American Prayer. Morrison believed this incident to be the most formative event of his life,[12] and made repeated references to it in the imagery in his songs, poems, and interviews.\\nHis family does not recall this traffic incident happening in the way he told it. According to the Morrison biography No One Here Gets Out Alive, Morrison\\'s family did drive past a car accident on an Indian reservation when he was a child, and he was very upset by it. The book The Doors, written by the surviving members of the Doors, explains how different Morrison\\'s account of the incident was from that of his father. This book quotes his father as saying, \"We went by several Indians. It did make an impression on him [the young James]. He always thought about that crying Indian.\" This is contrasted sharply with Morrison\\'s tale of \"Indians scattered all over the highway, bleeding to death.\" In the same book, his sister is quoted as saying, \"He enjoyed telling that story and exaggerating it. He said he saw a dead Indian by the side of the road, and I don\\'t even know if that\\'s true.\"[13]\\nRaised a military brat, Morrison spent part of his childhood in San Diego, completed third grade at Fairfax County Elementary School Fairfax County, Virginia, and attended Charles H. Flato Elementary School in Kingsville, Texas, while his father was stationed at NAS Kingsville in 1952. He continued at St. John\\'s Methodist School in Albuquerque, New Mexico, and then Longfellow School Sixth Grade Graduation Program from San Diego, California.[14]\\nIn 1957, Morrison attended Alameda High School in Alameda, California, for his freshman and first semester of his sophomore year.[15][self-published source] He finished high school in Alexandria, Virginia, graduating from George Washington High School (now George Washington Middle School) in June 1961.[14] Cass Elliot also attended the school several years earlier.\\nA voracious reader from an early age, Morrison was particularly inspired by the writings of several philosophers and poets. He was influenced by Friedrich Nietzsche, whose views on aesthetics, morality, and the Apollonian and Dionysian duality would appear in his conversation, poetry and songs. Some of his formative influences were Plutarch\\'s Parallel Lives and the works of the French Symbolist poet Arthur Rimbaud, whose style would later influence the form of Morrison\\'s short prose poems. He was also influenced by William S. Burroughs, Jack Kerouac, Allen Ginsberg, Louis Ferdinand Celine, Lawrence Ferlinghetti, Charles Baudelaire, Molière, Franz Kafka, Albert Camus, Honoré de Balzac and Jean Cocteau, along with most of the French existentialist philosophers.[13][16]\\nHis senior year English teacher said, \"Jim read as much and probably more than any student in class, but everything he read was so offbeat I had another teacher (who was going to the Library of Congress) check to see if the books Jim was reporting on actually existed. I suspected he was making them up, as they were English books on sixteenth- and seventeenth-century demonology. I\\'d never heard of them, but they existed, and I\\'m convinced from the paper he wrote that he read them, and the Library of Congress would\\'ve been the only source.\"[17]\\nMorrison went to live with his paternal grandparents in Clearwater, Florida, where he attended classes at St. Petersburg College (then known as a junior college). In 1962, he transferred to Florida State University (FSU) in Tallahassee, where he appeared in a school recruitment film.[18] While attending Florida State University, Morrison was arrested for a prank following a home football game.[19]\\nIn January 1964, Morrison moved to Los Angeles to attend the University of California, Los Angeles (UCLA). Shortly thereafter on August 2, 1964, Morrison\\'s father, George Stephen Morrison, commanded a carrier division of the United States fleet during the Gulf of Tonkin Incident, which resulted in the United States\\' rapid escalation of the Vietnam War. At UCLA, Morrison enrolled in Jack Hirschman\\'s class on Antonin Artaud in the Comparative Literature program within the UCLA English Department. Artaud\\'s brand of surrealist theatre had a profound impact on Morrison\\'s dark poetic sensibility of cinematic theatricality.[20] Morrison completed his undergraduate degree at UCLA\\'s film school within the Theater Arts department of the College of Fine Arts in 1965.[21] At the time of the graduation ceremony, he went to Venice Beach, and the university mailed his diploma to his mother in Coronado, California.[22] He made several short films while attending UCLA. First Love, the first of these films, made with Morrison\\'s classmate and roommate Max Schwartz, was released to the public when it appeared in a documentary about the film Obscura.[23] During these years, while living in Venice Beach, he befriended writers at the Los Angeles Free Press, for which he advocated until his death in 1971. He conducted a lengthy and in-depth interview with Bob Chorush and Andy Kent, both working for the Free Press at the time (approximately December 6–8, 1970), and was planning on visiting the headquarters of the busy newspaper shortly before leaving for Paris.[24]\\nIn the summer of 1965, after graduating with a bachelor\\'s degree from the UCLA film school, Morrison led a bohemian lifestyle in Venice Beach. Living on the rooftop of a building inhabited by his old UCLA cinematography friend, Dennis Jacobs, he wrote the lyrics of many of the early songs the Doors would later perform live and record on albums, such as \"Moonlight Drive\" and \"Hello, I Love You.\" According to Manzarek, he lived on canned beans and LSD for several months. Morrison and fellow UCLA student Ray Manzarek were the first two members of the Doors, forming the group during that summer.[25] They had met months earlier as cinematography students. The story claims that Manzarek was lying on the beach at Venice one day, where he accidentally encountered Morrison.[26] He was impressed with Morrison\\'s poetic lyrics, claiming that they were \"rock group\" material. Subsequently, guitarist Robby Krieger and drummer John Densmore joined. Krieger auditioned at Densmore\\'s recommendation and was then added to the lineup. All three musicians shared a common interest in the Maharishi Mahesh Yogi\\'s meditation practices at the time, attending scheduled classes, but Morrison was not involved in these series of classes.[27]\\nThe Doors took their name from the title of Aldous Huxley\\'s book The Doors of Perception (a reference to the unlocking of doors of perception through psychedelic drug use). Huxley\\'s own title was a quotation from William Blake\\'s The Marriage of Heaven and Hell, in which Blake wrote: \"If the doors of perception were cleansed everything would appear to man as it is, infinite.\" Although Morrison was known as the lyricist of the group, Krieger also made significant lyrical contributions, writing or co-writing some of the group\\'s biggest hits, including \"Light My Fire,\" \"Love Me Two Times,\" \"Love Her Madly\" and \"Touch Me.\"[28] On the other hand, Morrison, who did not write most songs using an instrument, would come up with vocal melodies for his own lyrics, with the other band members contributing chords and rhythm. Morrison did not play an instrument live (except for maracas and tambourine for most shows, and harmonica on a few occasions) or in the studio (excluding maracas, tambourine, handclaps, and whistling). However, he did play the grand piano on \"Orange County Suite\" and a Moog synthesizer on \"Strange Days.\"\\nIn June 1966, Morrison and the Doors were the opening act at the Whisky a Go Go in the last week of the residency of Van Morrison\\'s band Them.[29] Van\\'s influence on Jim\\'s developing stage performance was later noted by Brian Hinton in his book Celtic Crossroads: The Art of Van Morrison: \"Jim Morrison learned quickly from his near namesake\\'s stagecraft, his apparent recklessness, his air of subdued menace, the way he would improvise poetry to a rock beat, even his habit of crouching down by the bass drum during instrumental breaks.\"[30] On the final night, the two Morrisons and their two bands jammed together on \"Gloria.\"[31][32][33] In November 1966, Morrison and the Doors produced a promotional film for \"Break on Through (To the Other Side)\", which was their first single release. The film featured the four members of the group playing the song on a darkened set with alternating views and close-ups of the performers while Morrison lip-synched the lyrics. Morrison and the Doors continued to make short music films, including \"The Unknown Soldier\", \"Moonlight Drive\" and \"People Are Strange\".\\nThe Doors achieved national recognition after signing with Elektra Records in 1967.[34] The single \"Light My Fire\" spent three weeks at number one on the Billboard Hot 100 chart in July/August 1967. This was a far cry from the Doors opening for Simon and Garfunkel or playing at a high school as they did in Connecticut that same year.[35] Later, the Doors appeared on The Ed Sullivan Show, a popular Sunday night variety series that had introduced the Beatles and Elvis Presley to the United States. Ed Sullivan requested two songs from the Doors for the show, \"People Are Strange\" and \"Light My Fire\". Sullivan\\'s censors insisted that the Doors change the lyrics of the song \"Light My Fire\" from \"Girl we couldn\\'t get much higher\" to \"Girl we couldn\\'t get much better\" for the television viewers; this was reportedly due to what was perceived as a reference to drugs in the original lyrics. After giving assurances of compliance to the producer in the dressing room, the band agreed and proceeded to sing the song with the original lyrics. Sullivan was not happy and he refused to shake hands with Morrison or any other band member after their performance. Sullivan had a show producer tell the band that they would never appear on The Ed Sullivan Show again. Morrison reportedly said to the producer, in a defiant tone, \"Hey man. We just did the Sullivan Show!\"[36]\\nBy the release of their second album, Strange Days, the Doors had become one of the most popular rock bands in the United States. Their blend of blues and dark psychedelic rock included a number of original songs and distinctive cover versions, such as their rendition of \"Alabama Song,\" from Bertolt Brecht and Kurt Weill\\'s opera, Rise and Fall of the City of Mahagonny. The band also performed a number of extended concept works, including the songs \"The End,\" \"When the Music\\'s Over,\" and \"Celebration of the Lizard.\" In 1966, photographer Joel Brodsky took a series of black-and-white photos of Morrison, in a photo shoot known as \"The Young Lion\" photo session. These photographs are considered among the most iconic images of Jim Morrison and are frequently used as covers for compilation albums, books, and other memorabilia of the Doors and Morrison.[37][38] In late 1967 at a concert in New Haven, Connecticut, he was arrested on stage, an incident that further added to his mystique and emphasized his rebellious image.\\nIn 1968, the Doors released their third studio album, Waiting for the Sun. The band performed on July 5 at the Hollywood Bowl; this performance became famous with the DVD: Live at the Hollywood Bowl. It\\'s also this year that the band played, for the first time, in Europe. Their fourth album, The Soft Parade, was released in 1969. It was the first album where the individual band members were given credit on the inner sleeve for the songs they had written. Previously, each song on their albums had been credited simply to \"The Doors\". On September 6 and 7, 1968, the Doors played four performances at the Roundhouse, London, England with Jefferson Airplane which was filmed by Granada for a television documentary The Doors Are Open directed by John Sheppard. Around this time, Morrison—who had long been a heavy drinker—started showing up for recording sessions visibly inebriated.[39] He was also frequently late for live performances.\\nBy early 1969, the formerly svelte singer had gained weight, grown a beard and mustache, and begun dressing more casually — abandoning the leather pants and concho belts for slacks, jeans, and T-shirts. During a concert of March 1, 1969, at the Dinner Key Auditorium in Miami, Morrison attempted to spark a riot in the audience, in part by screaming \"You wanna see my cock?\" and other obscenities. He failed, but six warrants for his arrest were issued by the Dade County Police department three days later for indecent exposure, among other things.[40] Consequently, many of the Doors\\' scheduled concerts were canceled.[41][42] On September 20, 1970, Morrison was convicted of indecent exposure and profanity by a six-person jury in Miami after a trial that had 16 days of testimony.[43] Morrison, who attended the October 30 sentencing \"in a wool jacket adorned with Indian designs\", silently listened as he was sentenced to six months in prison and had to pay a $500 fine. Morrison remained free on a $50,000 bond.[44] At the sentencing, Judge Murray Goodman told Morrison that he was a \"person graced with a talent\" admired by many of his peers; Morrison remained free on $50,000 bond while the conviction was appealed.[44] His death eight months later made the appeal a moot point.\\nOn December 8, 2010—the 67th anniversary of Morrison\\'s birth—Florida Governor Charlie Crist and the state clemency board unanimously signed a complete posthumous pardon for Morrison.[45] Drummer John Densmore denied Morrison ever exposed himself on stage that night.[46]\\nFollowing The Soft Parade, the Doors released Morrison Hotel.  After a lengthy break, the group reconvened in October 1970 to record what would become their final album with Morrison, titled L.A. Woman. Shortly after the recording sessions for the album began, producer Paul A. Rothchild — who had overseen all of their previous recordings — left the project.  Engineer Bruce Botnick took over as producer.\\nMorrison began writing in earnest during his adolescence. At UCLA he studied the related fields of theater, film, and cinematography.[47] He self-published two separate volumes of his poetry in 1969, titled The Lords / Notes on Vision and The New Creatures. The Lords consists primarily of brief descriptions of places, people, events and Morrison\\'s thoughts on cinema. The New Creatures verses are more poetic in structure, feel and appearance. These two books were later combined into a single volume titled The Lords and The New Creatures. These were the only writings published during Morrison\\'s lifetime. Morrison befriended Beat poet Michael McClure, who wrote the afterword for Danny Sugerman\\'s biography of Morrison, No One Here Gets Out Alive. McClure and Morrison reportedly collaborated on a number of unmade film projects, including a film version of McClure\\'s infamous play The Beard, in which Morrison would have played Billy the Kid.[48] After his death, a further two volumes of Morrison\\'s poetry were published. The contents of the books were selected and arranged by Morrison\\'s friend, photographer Frank Lisciandro, and girlfriend Pamela Courson\\'s parents, who owned the rights to his poetry.\\nThe Lost Writings of Jim Morrison Volume I is titled Wilderness, and, upon its release in 1988, became an instant New York Times Bestseller. Volume II, The American Night, released in 1990, was also a success. Morrison recorded his own poetry in a professional sound studio on two separate occasions. The first was in March 1969 in Los Angeles and the second was on December 8, 1970. The latter recording session was attended by Morrison\\'s personal friends and included a variety of sketch pieces. Some of the segments from the 1969 session were issued on the bootleg album The Lost Paris Tapes and were later used as part of the Doors\\' An American Prayer album,[49] released in 1978. The album reached #54 on the music charts. Some poetry recorded from the December 1970 session remains unreleased to this day and is in the possession of the Courson family. Morrison\\'s best-known but seldom seen cinematic endeavor is HWY: An American Pastoral, a project he started in 1969. Morrison financed the venture and formed his own production company in order to maintain complete control of the project. Paul Ferrara, Frank Lisciandro, and Babe Hill assisted with the project. Morrison played the main character, a hitchhiker turned killer/car thief. Morrison asked his friend, composer/pianist Fred Myrow, to select the soundtrack for the film.[50]\\nMorrison\\'s early life was the semi-nomadic existence typical of military families.[51] Jerry Hopkins recorded Morrison\\'s brother, Andy, explaining that his parents had determined never to use physical corporal punishment such as spanking on their children. They instead instilled discipline and levied punishment by the military tradition known as \"dressing down.\" This consisted of yelling at and berating the children until they were reduced to tears and acknowledged their failings. Once Morrison graduated from UCLA, he broke off most contact with his family. By the time Morrison\\'s music ascended to the top of the charts (in 1967) he had not been in communication with his family for more than a year and falsely claimed that his parents and siblings were dead (or claiming, as it has been widely misreported, that he was an only child).\\nThis misinformation was published as part of the materials distributed with the Doors\\' self-titled debut album. Admiral Morrison was not supportive of his son\\'s career choice in music. One day, an acquaintance brought over a record thought to have Jim on the cover. The record was the Doors\\' self-titled debut. The young man played the record for Morrison\\'s father and family. Upon hearing the record, Morrison\\'s father wrote him a letter telling him \"to give up any idea of singing or any connection with a music group because of what I consider to be a complete lack of talent in this direction.\"[52] In a letter to the Florida Probation and Parole Commission District Office dated October 2, 1970, Morrison\\'s father acknowledged the breakdown in family communications as the result of an argument over his assessment of his son\\'s musical talents. He said he could not blame his son for being reluctant to initiate contact and that he was proud of him nonetheless.[53]\\nMorrison spoke fondly of his Irish and Scottish ancestry and was inspired by Celtic mythology in his poetry and songs.[54][55] Celtic Family Magazine revealed in its 2016 Spring Issue that his Morrison clan was originally from the Isle of Lewis, Scotland, while his Irish side, the Clelland clan who married into the Morrison line, were from County Down, Northern Ireland.[56]\\nMorrison was sought after by many as a photographer\\'s model, confidante, romantic partner and sexual conquest. Throughout his life he had at least several serious, ongoing relationships, and many casual encounters. By many accounts, he could also be inconsistent with his partners,[57] displaying what some recall as \"a dual personality\".[58] Doors producer Paul Rothchild recalls, \"Jim really was two very distinct and different people. A Jekyll and Hyde. When he was sober, he was Jekyll, the most erudite, balanced, friendly kind of guy ... He was Mr. America. When he would start to drink, he\\'d be okay at first, then, suddenly, he would turn into a maniac. Turn into Hyde.\"[58]\\nMorrison spent the majority of his adult life in an open,[58] and at times very charged and intense, relationship with Pamela Courson. They met while young, when both were attending college,[59] and she encouraged him to develop his poetry. Through to the end, Courson saw Morrison as more than a rock star, as \"a great poet\"; she constantly encouraged him and pushed him to write.[60] Courson attended his concerts, and focused on supporting his career.[61] Like Morrison, she was described by many as fiery, determined and attractive, as someone who was tough despite appearing fragile. Manzarek called Pamela \"Jim\\'s other half\" and said, \"I never knew another person who could so complement his bizarreness.\"[62]  Courson was buried by her family as Pamela Susan Morrison, after Jim Morrison\\'s death, despite the two having never been married. After Courson\\'s death in 1974, and her parents petitioned the court for inheritance of Morrison\\'s estate, the probate court in California decided that she and Morrison had once had what qualified as a common-law marriage, despite neither having applied for such status, and the common-law marriage not being recognized in California. Morrison\\'s will at the time of his death named Courson as the sole heir.[63] Morrison dedicated his published poetry books The Lords and New Creatures and the lost writings Wilderness to her. A number of writers have speculated that songs like \"Love Street,\" \"Orange County Suite\" and \"Queen of the Highway,\" among other songs, may have been written about her.[64][65] Though the relationship was \"tumultuous\" much of the time, and both also had relationships with others, they always maintained a unique and ongoing connection with one another, right up until the end.[58][66]\\nOne of Morrison\\'s early significant relationships was with Mary Werbelow, whom he met on the beach in Florida, when they were teenagers in 1962. In a 2005 interview with the St. Petersburg Times she said Morrison spoke to her before a photo shoot for the Doors\\' fourth album and told her the first three albums were about her.[67][68][69][70]\\nThroughout his career, Morrison had regular sexual and romantic encounters with fans (including \"groupies\") such as Pamela Des Barres,[71][72] as well as ongoing affairs with other musicians, writers and photographers involved in the music business. These included Nico, the singer associated with the Velvet Underground,  an encounter with singer Grace Slick of Jefferson Airplane while the two bands toured together,[73] an on-again, off-again relationship with 16 Magazine\\'s Gloria Stavers, as well as an alleged alcohol-fueled encounter with Janis Joplin.[74]\\nDavid Crosby said many years later Morrison treated Joplin meanly at a party at the Calabasas, California, home of John Davidson while Davidson was out of town.[75][76][77] She reportedly hit him over the head with a bottle of whiskey in retaliation during a fight in front of witnesses.[75][76][77][78] Thereafter, whenever Joplin had a conversation with someone who mentioned Morrison, Joplin referred to him as \"that asshole,\" never by his first or last name.[79]\\nFirst written about in No One Here Gets Out Alive, Break On Through, and later in her own memoir, Strange Days - My Life with and without Jim Morrison, Morrison participated in a Celtic Pagan handfasting ceremony with rock critic Patricia Kennealy.[80][81][82] The couple signed a handwritten document, and were declared wed by a Celtic High Priestess and High Priest on Midsummer\\'s Night in 1970, but none of the necessary paperwork for a legal marriage was filed with the state.[82][83] The couple had been friends, and then in a long-distance relationship, since they met at a private interview for Jazz & Pop magazine, in January 1969. The handfasting ceremony is described in No One Here Gets Out Alive as a \"blending of souls on a karmic and cosmic plane.\" Morrison was also still seeing Pamela Courson when he was in Los Angeles, and later moved to Paris for the summer where Courson had acquired an apartment. In an interview in the book Rock Wives, Kennealy says he turned \"really cold\" when she became pregnant, leading her to speculate that maybe he hadn\\'t taken the wedding as seriously as he\\'d led her to believe.[57][84][85][86] She also notes that his coldness and distance was during the trial in Miami, and that \"he was scared to death. They were really out to put him away. Jim was devastated that he wasn\\'t getting any public support.\"[87] As he did with so many people, Morrison could be cruel and cold and then turn warm and loving;[57] he wrote in letters that he was planning on returning to her, to New York City, in the fall of \\'71.[88][89] However, Kennealy was skeptical. Morrison seemed to be falling apart. He was back with Pam, he was severely alcoholic, and like many she feared he was dying.[88]\\nAt the time of Morrison\\'s death, there were multiple paternity actions pending against him, although no claims were made against his estate by any of the putative paternity claimants.[90]\\nMorrison joined Pamela Courson in Paris in March 1971, at an apartment she had rented for him at 17-19, rue Beautreillis\\xa0[fr] in Le Marais, 4th arrondissement, Paris. In letters, he described going for long walks through the city, alone.[91] During this time, he shaved his beard and lost some of the weight he had gained in the previous months.[92] He died on July 3, 1971, at age 27.[93][94][95] He was found by Courson in a bathtub at his apartment.[96] The official cause of death was listed as heart failure,[97][better\\xa0source\\xa0needed] although no autopsy was performed, as it was not required by French law. His death was two years to the day after the death of the Rolling Stones guitarist Brian Jones, and approximately nine months after the deaths of Jimi Hendrix and Janis Joplin.[98]\\nAfter his death, a notebook of poetry written by Morrison was recovered, titled Paris Journal;[99] amongst other personal details, it contains the allegorical foretelling of a man who will be left grieving and having to abandon his belongings, due to a police investigation into a death connected to the Chinese opium trade. \"Weeping, he left his pad on orders from police and furnishings hauled away, all records and mementos, and reporters calculating tears & curses for the press: \\'I hope the Chinese junkies get you\\' and they will for the [opium] poppy rules the world\".[99][100][101][102]\\nThe concluding stanzas of this poem convey disappointment for someone with whom he had had an intimate relationship and contain a further invocation of Billy the killer/Hitchhiker, a common character in Morrison\\'s body of work. \"This is my poem for you, Great flowing funky flower\\'d beast, Great perfumed wreck of hell...Someone new in your knickers & who would that be? You know, You know more, than you let on...Tell them you came & saw & look\\'d into my eyes & saw the shadow of the guard receding, Thoughts in time & out of season The Hitchhiker stood by the side of the road & levelled his thumb in the calm calculus of reason.\"[99][100]\\nIn 2013 another of Morrison\\'s notebooks from Paris, found alongside the Paris Journal in the same box, known as the 127 Fascination box,[103] sold for $250,000 at auction.[99][104] This box of personal belongings similarly contained a home movie of Pamela Courson dancing in an unspecified cemetery in Corsica, the only film so far recovered to have been filmed by Morrison.[105][106] The box also housed a number of older notebooks and journals and may initially have included the \"Steno Pad\" and the falsely titled The Lost Paris Tapes bootleg, if they had not been separated from the primary collection and sold by Philippe Dalecky with this promotional title. Avid listeners familiar with the voices of Morrison\\'s friends and colleagues later determined that, contrary to the story advanced by Dalecky that this was Morrison\\'s final recording made with busking Parisian musicians, the Lost Paris Tapes are in fact, of \"Jomo & The Smoothies\"—Morrison, friend Michael McClure and producer Paul Rothchild loose jamming in Los Angeles, well before Paris 1971.[102]\\nMorrison was buried in Père Lachaise Cemetery in Paris,[107] one of the city\\'s most visited tourist attractions, where Irish playwright Oscar Wilde, French cabaret singer Edith Piaf, and many other poets and artists are also buried. The grave had no official marker until French officials placed a shield over it, which was stolen in 1973. The grave was listed in the cemetery directory with Morrison\\'s name incorrectly arranged as \"Douglas James Morrison.\"\\nIn 1981, Croatian sculptor Mladen Mikulin[108] voluntarily placed a bust of his own design and a new gravestone with Morrison\\'s name at the grave to commemorate the tenth anniversary of Morrison\\'s death; the bust was defaced through the years by cemetery vandals, and later stolen in 1988.[109] Mikulin made another bust of Morrison in 1989,[110] and a bronze portrait of him in 2001;[111] neither piece is at the gravesite.\\nIn 1990, Morrison\\'s father, George Stephen Morrison, after a consultation with E. Nicholas Genovese, Professor of Classics and Humanities, San Diego State University, placed a flat stone on the grave. The bronze plaque thereon bears the Greek inscription: ΚΑΤΑ ΤΟΝ ΔΑΙΜΟΝΑ ΕΑΥΤΟΥ, usually translated as \"true to his own spirit\" or \"according to his own daemon.\"[112][113][114][115]\\nAs a naval family, the Morrisons moved frequently. As a consequence, Morrison\\'s early education was routinely disrupted as he moved from school to school. Nonetheless, he was drawn to the study of literature, poetry, religion, philosophy and psychology, among other fields.[116] Biographers have consistently pointed to a number of writers and philosophers who influenced Morrison\\'s thinking and, perhaps, his behavior.[13][16][117][118][119] While still in his adolescence, Morrison discovered the works of German philosopher Friedrich Nietzsche.[6] He was also drawn to the poetry of William Blake, Charles Baudelaire, and Arthur Rimbaud.[118] Beat Generation writers such as Jack Kerouac and libertine writers such as the Marquis de Sade also had a strong influence on Morrison\\'s outlook and manner of expression; Morrison was eager to experience the life described in Kerouac\\'s On the Road.[120][121] He was similarly drawn to the work of French writer Louis-Ferdinand Céline.[119] Céline\\'s book, Voyage Au Bout de la Nuit (Journey to the End of the Night) and Blake\\'s Auguries of Innocence both echo through one of Morrison\\'s early songs, \"End of the Night\".[118]\\nMorrison later met and befriended Michael McClure, a well-known Beat poet. McClure had enjoyed Morrison\\'s lyrics but was even more impressed by his poetry and encouraged him to further develop his craft.[122] Morrison\\'s vision of performance was colored by the works of 20th-century French playwright Antonin Artaud[123] (author of Theater and its Double) and by Julian Beck\\'s Living Theater.[124][125]\\nOther works relating to religion, mysticism, ancient myth and symbolism were of lasting interest, particularly Joseph Campbell\\'s The Hero with a Thousand Faces. James Frazer\\'s The Golden Bough also became a source of inspiration and is reflected in the title and lyrics of the song \"Not to Touch the Earth.\"[citation needed] Morrison was particularly attracted to the myths and religions of Native American cultures.[126]\\nWhile he was still at school, his family moved to New Mexico where he got to see some of the places and artifacts important to the American Southwest Indigenous cultures. These interests appear to be the source of many references to creatures and places such as lizards, snakes, deserts and \"ancient lakes\" that appear in his songs and poetry. His interpretation and imagination of Native American ceremonies and peoples (which, based on his readings, he referred to by the anthropological term \"shamans\") influenced his stage routine, notably in seeking trance states and vision through dancing to the point of exhaustion. In particular, Morrison\\'s poem \"The Ghost Song\" was inspired by his readings about the Native American Ghost Dance.\\nMorrison\\'s vocal influences included Elvis Presley and Frank Sinatra, which is evident in his baritone crooning style on several of the Doors\\' songs. In the 1981 documentary The Doors: A Tribute to Jim Morrison, producer Paul Rothchild relates his first impression of Morrison as being a \"Rock and Roll Bing Crosby\". Sugerman states that Morrison, as a teenager, was such a fan of Presley that he demanded silence when Elvis was on the radio. He states that Sinatra was Morrison\\'s favorite singer.[127] According to record producer David Anderle, Morrison considered Brian Wilson \"his favorite musician\" and the Beach Boys\\' 1967 LP Wild Honey \"one of his favorite albums. ... he really got into it.\"[128]\\nMorrison was, and continues to be, one of the most popular and influential singer-songwriters and iconic frontmen in rock history. To this day Morrison is widely regarded as the prototypical rock star: surly, sexy, scandalous, and mysterious.[129] The leather pants he was fond of wearing both onstage and off have since become stereotyped as rock-star apparel.[130][dubious  – discuss] In 2011, a Rolling Stone readers\\' pick placed Jim Morrison in fifth place of the magazine\\'s \"Best Lead Singers of All Time\".[131] Iggy and the Stooges are said to have formed after lead singer Iggy Pop was inspired by Morrison while attending a Doors concert in Ann Arbor, Michigan.[132] One of Pop\\'s most popular songs, \"The Passenger\", is said to be based on one of Morrison\\'s poems.[133] After Morrison\\'s death, Pop was considered as a replacement lead singer for the Doors; the surviving Doors gave him some of Morrison\\'s belongings and hired him as a vocalist for a series of shows.\\nWallace Fowlie, professor emeritus of French literature at Duke University, wrote Rimbaud and Jim Morrison, subtitled \"The Rebel as Poet\\xa0– A Memoir\". In this, he recounts his surprise at receiving a fan letter from Morrison who, in 1968, thanked him for his latest translation of Arthur Rimbaud\\'s verse into English. \"I don\\'t read French easily\", he wrote, \"...your book travels around with me.\" Fowlie went on to give lectures on numerous campuses comparing the lives, philosophies, and poetry of Morrison and Rimbaud. The book The Doors by the remaining Doors quotes Morrison\\'s close friend Frank Lisciandro as saying that too many people took a remark of Morrison\\'s that he was interested in revolt, disorder, and chaos \"to mean that he was an anarchist, a revolutionary, or, worse yet, a nihilist. Hardly anyone noticed that Jim was paraphrasing Rimbaud and the Surrealist poets.\"[134]\\nLayne Staley, the vocalist of Alice in Chains; Eddie Vedder, the vocalist of Pearl Jam; Scott Weiland, the vocalist of Stone Temple Pilots, and Velvet Revolver; Glenn Danzig, singer, and founder of Danzig; Julian Casablancas of the Strokes; James LaBrie of Dream Theater; Scott Stapp of Creed; and Ville Valo of H.I.M.[135] have all said that Morrison was their biggest influence and inspiration. Stone Temple Pilots and Velvet Revolver have both covered \"Roadhouse Blues\" by the Doors. Weiland also filled in for Morrison to perform \"Break on Through (To The Other Side)\" with the rest of the Doors. Stapp filled in for Morrison for \"Light My Fire,\" \"Riders on the Storm\" and \"Roadhouse Blues\" on VH1 Storytellers; Travis Meeks, of Days of the New, also performed \"The End.\" Creed performed their version of \"Roadhouse Blues\" with Robby Krieger for the 1999 Woodstock Festival.\\nMorrison\\'s recital of his poem \"Bird of Prey\" can be heard throughout the song \"Sunset\" by Fatboy Slim. Rock band Bon Jovi featured Morrison\\'s grave in their \"I\\'ll Sleep When I\\'m Dead\" video clip. The band Radiohead mentions Jim Morrison in their song \"Anyone Can Play Guitar\", stating \"I wanna be wanna be wanna be Jim Morrison\". Alice Cooper in the liner notes of the album Killer stated that the song \"Desperado\" is about Jim Morrison. The leather trousers of U2\\'s lead singer Bono\\'s \"The Fly\" persona for the Achtung Baby era and subsequent Zoo TV Tour is attributed to Jim Morrison. In 2012 electronic music producer Skrillex released \"Breakn\\' a Sweat\" which contained vocals from an interview with Jim Morrison.\\nMorrison was also referenced in the Lana Del Rey song \"Gods & Monsters\" in the line \"living like Jim Morrison.\"\\nIn June 2013, a fossil analysis discovered a large lizard in Myanmar. The extinct reptile was given the moniker Barbaturex morrisoni in honor of Morrison. \"This is a king lizard, and he was the lizard king, so it just fit,\" said Jason Head, a paleontologist at the University of Nebraska–Lincoln.[136]\\n'"
      ]
     },
     "execution_count": 6,
     "metadata": {},
     "output_type": "execute_result"
    }
   ],
   "source": [
    "url = \"https://en.wikipedia.org/wiki/Jim_Morrison\"\n",
    "get_musician_text(url)"
   ]
  },
  {
   "cell_type": "markdown",
   "metadata": {},
   "source": [
    "<p><span style=\"color:blue\">get_all_musicians</span>: A function that, given a list of genres, returns a list containing the names of the musicians and the urls for their wikipedia pages associated with that list of genres\n",
    "<p>The function should return a list of (name,url) pairs for all the musicians in the list of genres\n",
    "<p>You need to:\n",
    "<ol>\n",
    "<li>iterate through the list of genres\n",
    "<li>initialize a list \"all_musicians\"\n",
    "<li>construct a url for the list of musicians (I've done these first three steps for you)\n",
    "<li>call get_musicians for that url\n",
    "<li>extend all_musicians by what get_musicians returns"
   ]
  },
  {
   "cell_type": "code",
   "execution_count": 7,
   "metadata": {
    "collapsed": true
   },
   "outputs": [],
   "source": [
    "def get_all_musicians(genre_list):\n",
    "    all_musicians = list()\n",
    "    for genre in genre_list:\n",
    "        url = 'https://en.wikipedia.org/wiki/List_of_' + genre\n",
    "        mus = get_musicians(url)\n",
    "        all_musicians = all_musicians + mus\n",
    "    return all_musicians"
   ]
  },
  {
   "cell_type": "markdown",
   "metadata": {},
   "source": [
    "<h4>Example of how to use get_all_musicians</h4>"
   ]
  },
  {
   "cell_type": "code",
   "execution_count": 8,
   "metadata": {
    "collapsed": true
   },
   "outputs": [],
   "source": [
    "genre_list = ['bluegrass_musicians#G','British_blues_musicians','country_blues_musicians','emo_artists']\n",
    "all_musicians = get_all_musicians(genre_list)"
   ]
  },
  {
   "cell_type": "markdown",
   "metadata": {},
   "source": [
    "<p><span style=\"color:blue\">get_all_musician_docs</span>: A function that, given the list of (musician,url) pairs, returns two lists, a list of musicians and a parallel (same size) list of documents. \n",
    "\n",
    "<p>You need to:\n",
    "\n",
    "<ol>\n",
    "<li>initialize the two lists\n",
    "\n",
    "<li>iterate through the all_musicians list\n",
    "<li>extract the name and the url of the musician\n",
    "<li>get the text using the get_musician_text() function\n",
    "<li>if the function returns None, ignore it and move to the next musician\n",
    "<li>otherwise, append the name ot the musician_names list and the text to the musician_texts list\n",
    "<li>return musician_names and musician_texts\n"
   ]
  },
  {
   "cell_type": "code",
   "execution_count": 12,
   "metadata": {},
   "outputs": [],
   "source": [
    "from tqdm import tqdm"
   ]
  },
  {
   "cell_type": "code",
   "execution_count": 13,
   "metadata": {
    "collapsed": true
   },
   "outputs": [],
   "source": [
    "def get_all_musician_docs(all_musicians):\n",
    "    musician_names = list()\n",
    "    musician_texts = list()\n",
    "    for musician in tqdm(all_musicians):\n",
    "        name = musician[0]\n",
    "        url = musician[1]\n",
    "        \n",
    "        musician_text = get_musician_text(url)\n",
    "        if musician_text:\n",
    "            musician_names.append(name)\n",
    "            musician_texts.append(musician_text)\n",
    "    \n",
    "    return musician_names,musician_texts  "
   ]
  },
  {
   "cell_type": "markdown",
   "metadata": {},
   "source": [
    "<h4>Example of how to use get_all_musician_docs</h4>"
   ]
  },
  {
   "cell_type": "code",
   "execution_count": 14,
   "metadata": {
    "collapsed": true
   },
   "outputs": [
    {
     "name": "stderr",
     "output_type": "stream",
     "text": [
      "100%|██████████| 684/684 [02:00<00:00,  5.70it/s]\n"
     ]
    }
   ],
   "source": [
    "reference_names,reference_docs = get_all_musician_docs(all_musicians)"
   ]
  },
  {
   "cell_type": "markdown",
   "metadata": {},
   "source": [
    "<h3>Set up the LSI model</h3>\n",
    "<li>reference_docs is the list of documents\n",
    "<li>construct texts, dictionary, and corpus (see class iPython notebook)\n",
    "<li>construct an LSI model. Use 5 topics initially but you should play around with this number"
   ]
  },
  {
   "cell_type": "code",
   "execution_count": 17,
   "metadata": {},
   "outputs": [],
   "source": [
    "np.save('names', np.array(reference_names))"
   ]
  },
  {
   "cell_type": "code",
   "execution_count": 18,
   "metadata": {},
   "outputs": [],
   "source": [
    "np.save('docs', np.array(reference_docs))"
   ]
  },
  {
   "cell_type": "code",
   "execution_count": 123,
   "metadata": {},
   "outputs": [],
   "source": [
    "from gensim import corpora\n",
    "from gensim.models.ldamodel import LdaModel\n",
    "from gensim.parsing.preprocessing import STOPWORDS\n",
    "from gensim.similarities.docsim import Similarity\n",
    "from gensim import models, similarities\n",
    "import nltk\n",
    "from nltk.corpus import PlaintextCorpusReader\n",
    "import pandas as pd"
   ]
  },
  {
   "cell_type": "code",
   "execution_count": 121,
   "metadata": {
    "collapsed": true
   },
   "outputs": [
    {
     "name": "stderr",
     "output_type": "stream",
     "text": [
      "681it [00:00, 1874.22it/s]\n"
     ]
    }
   ],
   "source": [
    "#Code for LSI model goes here\n",
    "\n",
    "import os\n",
    "\n",
    "'''\n",
    "Writes mus docs to .txt files with corresponding mus name as enclosing folder and title.\n",
    "'''\n",
    "\n",
    "musician_data = []\n",
    "for name, doc in tqdm(zip(reference_names, reference_docs)):\n",
    "    \n",
    "    enc_folder = f'./texts/{name}/'\n",
    "    path = f'./texts/{name}/{name}.txt'\n",
    "    \n",
    "    if not os.path.exists(enc_folder):\n",
    "        os.mkdir(enc_folder)\n",
    "        \n",
    "    with open(path, 'w+') as f:\n",
    "        f.write(doc)\n",
    "        \n",
    "    mus_corpus = PlaintextCorpusReader(enc_folder, '.*.txt')\n",
    "    musician_data.append(mus_corpus)\n",
    "\n",
    "'''\n",
    "Create list of musician corpora.\n",
    "'''\n",
    "    \n",
    "doc_list = musician_data\n",
    "documents = [d.raw() for d in doc_list]\n",
    "all_text = ' '.join(documents)\n",
    "\n",
    "texts = [[word for word in document.lower().split()\n",
    "        if word not in STOPWORDS and word.isalnum()]\n",
    "        for document in documents]\n",
    "dictionary = corpora.Dictionary(texts)\n",
    "corpus = [dictionary.doc2bow(text) for text in texts]\n",
    "\n",
    "lsi = models.LsiModel(corpus, id2word=dictionary, num_topics=5)"
   ]
  },
  {
   "cell_type": "markdown",
   "metadata": {},
   "source": [
    "<h3>Construct the \"musician\" data set</h3>\n",
    "<h4>Example</h4>"
   ]
  },
  {
   "cell_type": "code",
   "execution_count": 108,
   "metadata": {
    "collapsed": true
   },
   "outputs": [
    {
     "name": "stderr",
     "output_type": "stream",
     "text": [
      "100%|██████████| 101/101 [00:23<00:00,  4.82it/s]\n"
     ]
    }
   ],
   "source": [
    "musician_genre_list = ['acid_rock_artists']\n",
    "all_musicians = get_all_musicians(musician_genre_list)\n",
    "musician_names,musician_docs = get_all_musician_docs(all_musicians)"
   ]
  },
  {
   "cell_type": "markdown",
   "metadata": {},
   "source": [
    "<h4>find the most similar musicians for each new musician from our reference data set</h4>"
   ]
  },
  {
   "cell_type": "code",
   "execution_count": 125,
   "metadata": {
    "collapsed": true
   },
   "outputs": [
    {
     "name": "stderr",
     "output_type": "stream",
     "text": [
      "101it [00:16,  6.71it/s]\n"
     ]
    },
    {
     "data": {
      "text/plain": [
       "[('The 13th Floor Elevators', 'Marcus Mumford'),\n",
       " ('Alice Cooper', 'Jawbreaker'),\n",
       " ('The Amboy Dukes', 'Garden Variety'),\n",
       " ('Amon Düül', 'Secondhand Serenade'),\n",
       " ('Big Brother and the Holding Company', 'The Pretty Things'),\n",
       " ('Black Sabbath', 'Garden Variety'),\n",
       " ('Blue Cheer', 'Eric Burdon'),\n",
       " ('Blues Magoos', 'Tramp'),\n",
       " ('The Charlatans', 'Fragile Rock'),\n",
       " ('Count Five', 'Free'),\n",
       " ('Country Joe and the Fish', 'Vern Williams'),\n",
       " ('Coven', 'Rites of Spring'),\n",
       " ('Cream', 'Cream'),\n",
       " ('Deep Purple', 'The Anniversary'),\n",
       " ('The Deviants', 'Nude'),\n",
       " ('The Doors', 'Secondhand Serenade'),\n",
       " ('The Electric Prunes', 'Secondhand Serenade'),\n",
       " ('The Fugs', 'Secondhand Serenade'),\n",
       " ('Grateful Dead', 'Secondhand Serenade'),\n",
       " ('The Great Society', 'Pillar'),\n",
       " ('The Groundhogs', 'The Groundhogs'),\n",
       " ('Hawkwind', 'Wishbone Ash'),\n",
       " ('Iron Butterfly', 'Steamhammer'),\n",
       " ('Jefferson Airplane', 'Free'),\n",
       " ('The Jimi Hendrix Experience', 'The Jimi Hendrix Experience'),\n",
       " ('Janis Joplin', 'Memphis Jug Band'),\n",
       " ('JPT Scare Band', 'Secondhand Serenade'),\n",
       " ('Love', 'The Pretty Things'),\n",
       " ('MC5', 'Free'),\n",
       " ('Moby Grape', 'Marcus Mumford'),\n",
       " ('The Music Machine', 'Emo hip hop'),\n",
       " ('Quicksilver Messenger Service', 'Free'),\n",
       " ('Santana', 'Nude'),\n",
       " ('The Seeds', 'The Jimi Hendrix Experience'),\n",
       " ('Grace Slick', 'Vassar Clements'),\n",
       " ('Steppenwolf', 'Pillar'),\n",
       " ('Tully', 'Fire Party'),\n",
       " ('Vanilla Fudge', 'American Football'),\n",
       " ('Wooden Shjips', 'Ida'),\n",
       " ('Acid rock', 'Ted Bogan'),\n",
       " ('Knowles, Christopher', 'Top Topham'),\n",
       " ('McIntyre, Iain', 'Rhiannon Giddens'),\n",
       " ('Prown, Pete', 'Peg Leg Sam'),\n",
       " ('Folk', '\"Big\" Paul Williams'),\n",
       " ('Funk', 'Ragtime'),\n",
       " ('Hip hop', 'Jim McReynolds'),\n",
       " ('Pop', 'Merlefest'),\n",
       " ('Rock', 'Coon songs'),\n",
       " ('Soul', 'Hokum'),\n",
       " ('Trance', 'Laurie Lewis'),\n",
       " ('Dub', 'Buzz Busby'),\n",
       " ('Psybient', 'Laurie Lewis'),\n",
       " ('Suomisaundi', \"Mark O'Connor\"),\n",
       " ('Breaks', 'Old-time music'),\n",
       " ('House', 'Russ Barenberg'),\n",
       " ('Jazz', 'Jazz'),\n",
       " ('Punk', 'Coon songs'),\n",
       " ('Rock', 'Ted Bogan'),\n",
       " ('Techno', 'technique'),\n",
       " ('Trance', 'International Bluegrass Music Hall of Fame'),\n",
       " ('Krautrock', 'Spirituals'),\n",
       " ('Chillwave', 'Kenny Kosek'),\n",
       " ('Dream-beat', 'Work songs'),\n",
       " ('Freakbeat', 'DeFord Bailey'),\n",
       " ('Goa trance', 'Old-time music'),\n",
       " ('Italian occult psychedelia', 'International Bluegrass Music Hall of Fame'),\n",
       " ('Hypnagogic pop', 'Old-time music'),\n",
       " ('Madchester', 'Butch Baldassari'),\n",
       " ('Neo-psychedelia', 'Coon songs'),\n",
       " ('Dream pop', 'AllMusic'),\n",
       " ('Shoegazing', 'Rhiannon Giddens'),\n",
       " ('Paisley Underground', 'Drive Like Jehu'),\n",
       " ('Space rock', 'Fragile Rock'),\n",
       " ('Stoner rock', 'Memphis Jug Band'),\n",
       " ('Trip hop', 'Butch Baldassari'),\n",
       " ('Beat Generation', 'Béla Fleck'),\n",
       " ('Cannabis culture', 'Traditional bluegrass'),\n",
       " ('Counterculture of the 1960s', 'Washington, D.C.'),\n",
       " ('Deadhead', 'Fire Party'),\n",
       " ('Freak scene', 'Brennan Gilmore'),\n",
       " ('Grebo', 'Coon songs'),\n",
       " ('Hippies', 'Washington, D.C.'),\n",
       " ('Jam band', 'Penny Nichols'),\n",
       " ('New Age travellers', 'Screamo'),\n",
       " ('Rave culture', 'Call and response'),\n",
       " ('San Francisco Sound', 'Washington, D.C.'),\n",
       " ('Second Summer of Love', 'Bluegrass music'),\n",
       " ('Summer of Love', 'Eric Weissberg'),\n",
       " ('UK underground', 'Charlie Cline'),\n",
       " ('Palm Desert Scene', 'Tony Furtado'),\n",
       " ('History of LSD', 'John Byrne Cooke'),\n",
       " ('New Age movement', 'David Grisman'),\n",
       " ('Progressive music', 'Call and response'),\n",
       " ('Psychedelia', 'Call and response'),\n",
       " ('Psychedelic art', 'Raymond Fairchild'),\n",
       " ('LSD art', 'Work songs'),\n",
       " ('Psychedelic drug', 'technique'),\n",
       " ('Psychedelic era', 'Bob Brozman'),\n",
       " ('Psychedelic experience', 'Midwestern United States'),\n",
       " ('Psychedelic literature', 'Rhythm and blues'),\n",
       " ('Sitar in popular music', 'Jimmy Martin')]"
      ]
     },
     "execution_count": 125,
     "metadata": {},
     "output_type": "execute_result"
    }
   ],
   "source": [
    "table_data = list()\n",
    "for index,musician in tqdm(enumerate(musician_docs)):\n",
    "    \n",
    "    #Your similarity code here. Use the in-class notebook as a reference\n",
    "    \n",
    "    doc = musician\n",
    "    vec_bow = dictionary.doc2bow(doc.lower().split())\n",
    "    vec_lsi = lsi[vec_bow]\n",
    "\n",
    "    sim_mat = similarities.MatrixSimilarity(lsi[corpus])\n",
    "    sims = sim_mat[vec_lsi]\n",
    "    sorted_sims = sorted(enumerate(sims), key=lambda item: -item[1])\n",
    "    \n",
    "    most_similar_musician = sorted_sims[0][0]\n",
    "    table_data.append((musician_names[index],reference_names[most_similar_musician]))\n",
    "    \n",
    "#Write code to print table_data after the for loop ends\n",
    "table_data"
   ]
  }
 ],
 "metadata": {
  "anaconda-cloud": {},
  "kernelspec": {
   "display_name": "data_science",
   "language": "python",
   "name": "data_science"
  },
  "language_info": {
   "codemirror_mode": {
    "name": "ipython",
    "version": 3
   },
   "file_extension": ".py",
   "mimetype": "text/x-python",
   "name": "python",
   "nbconvert_exporter": "python",
   "pygments_lexer": "ipython3",
   "version": "3.6.7"
  }
 },
 "nbformat": 4,
 "nbformat_minor": 2
}
