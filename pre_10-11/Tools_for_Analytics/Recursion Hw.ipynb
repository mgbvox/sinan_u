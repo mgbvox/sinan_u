{
 "cells": [
  {
   "cell_type": "markdown",
   "metadata": {},
   "source": [
    "<subject>\n",
    "Assignment How-To\n",
    "</subject>\n",
    "\n",
    "<details>\n",
    "\n",
    "**Naming Conventions**\n",
    "\n",
    "When naming your files for upload, you must follow the format below:\n",
    "\n",
    "    <uni>_<assignment>_<details [optional]>.<extension>\n",
    "\n",
    "For example, if I needed to hand in HW 0, any of the below formats would be sufficient for a file name:\n",
    "\n",
    "- pl2648_hw0.ipynb\n",
    "- pl2648_hw0.txt\n",
    "- pl2648_hw0.sh\n",
    "- pl2648_hw0_all_in_one.txt\n",
    "- Pl2648_hw0_bash_program.sh\n",
    "\n",
    "This naming format allows for autograding of all assignments. If your files are not named with this format, you should expect a grade of zero for the assignment.\n",
    "\n",
    "**Grading**\n",
    "\n",
    "Possible points on late homeworks are deducted by 50% for each day they are late. For example, if you get 80% of the total possible credits on a homework but hand in that homework a day late, you would get 40%. Assignments two days late get zero points.\n",
    "\n",
    "Once solutions are posted and graded assignments are handed back, students have 1 week to bring their grading discrepancies to a CA for consideration of possible grading errors. \n",
    "\n",
    "**Getting Help**\n",
    "\n",
    "Asking for help is a great way to increase your chance of success. However there are some rules. When asking for help (especially from a fellow student), *you can show your helper your code but you can not view theirs*. You work needs to be your own. \n",
    "\n",
    "If you need to reach out to a CA or the Professor for help, please do so via Piazza and not via email. Answers given via Piazza will help you as well as other students. Thus, emails will always have a lower priority for response than Piazza questions. If you do email the professor or TA, please make a note of what section you are in. This helps us identify you in courseworks faster.\n",
    "\n",
    "**Multiple Choice**\n",
    "\n",
    "If the question is multiple choice, you will be given several options to choose from and your function will need to return **one** of those options **verbatim** as a string.\n",
    "\n",
    "For example: \n",
    "\n",
    "Which of the following animals bark?\n",
    "\n",
    "- dogs\n",
    "- cats\n",
    "- fish\n",
    "- trees\n",
    "\n",
    "A correct answer would be structured in the following way:\n",
    "\n",
    "```python\n",
    "def question_animals():\n",
    "    return 'dogs'\n",
    "```\n",
    "\n",
    "You answer will be stripped of left and right white space and lowercased before comparison to the correct answer during grading.\n",
    "</details>"
   ]
  },
  {
   "cell_type": "code",
   "execution_count": null,
   "metadata": {
    "deletable": false,
    "editable": false,
    "nbgrader": {
     "cell_type": "code",
     "checksum": "da34ff7145f588f58ca1baac659eaf92",
     "grade": true,
     "grade_id": "cell-79849c5bf45cf5d8",
     "locked": true,
     "points": 0,
     "schema_version": 3,
     "solution": false
    }
   },
   "outputs": [],
   "source": []
  },
  {
   "cell_type": "code",
   "execution_count": 7,
   "metadata": {},
   "outputs": [
    {
     "name": "stdout",
     "output_type": "stream",
     "text": [
      "Populating the interactive namespace from numpy and matplotlib\n"
     ]
    }
   ],
   "source": [
    "%pylab inline"
   ]
  },
  {
   "cell_type": "code",
   "execution_count": null,
   "metadata": {},
   "outputs": [],
   "source": []
  },
  {
   "cell_type": "markdown",
   "metadata": {},
   "source": [
    "**Q**: Write a recursive function `sum_list` to find the sum of all elements in a list. You can assume the list is flat. You can not use the built-in function `sum()`. You can not use iteration via a `for` or `while` loop. Your function must return an integer. If your solution uses exceptions, the except statements must not be bare (ie. the must specify the errors they can catch). You must handle the case where the given list is empty.\n",
    "\n",
    "[2 points]"
   ]
  },
  {
   "cell_type": "code",
   "execution_count": 105,
   "metadata": {
    "deletable": false,
    "nbgrader": {
     "cell_type": "code",
     "checksum": "351ee1b57f41de69008d53f74d6976d9",
     "grade": false,
     "grade_id": "cell-1da160cbcad5544d",
     "locked": false,
     "schema_version": 3,
     "solution": true
    }
   },
   "outputs": [],
   "source": [
    "def sum_list(list_):\n",
    "    print(list_)\n",
    "    if list_ == []:\n",
    "        return 0\n",
    "    return list_[0] + sum_list(list_[1:])"
   ]
  },
  {
   "cell_type": "code",
   "execution_count": 103,
   "metadata": {},
   "outputs": [
    {
     "name": "stdout",
     "output_type": "stream",
     "text": [
      "[1, 0]\n",
      "[0]\n",
      "[]\n"
     ]
    },
    {
     "data": {
      "text/plain": [
       "1"
      ]
     },
     "execution_count": 103,
     "metadata": {},
     "output_type": "execute_result"
    }
   ],
   "source": [
    "##l = [1,2]#np.random.random(300)\n",
    "#print(l)\n",
    "sum_list([1,0])"
   ]
  },
  {
   "cell_type": "code",
   "execution_count": null,
   "metadata": {
    "deletable": false,
    "editable": false,
    "nbgrader": {
     "cell_type": "code",
     "checksum": "8c8952a3366badc1ff1c53c991e5196a",
     "grade": true,
     "grade_id": "cell-ced4e0b96c5fbe9a",
     "locked": true,
     "points": 0.5,
     "schema_version": 3,
     "solution": false
    }
   },
   "outputs": [],
   "source": []
  },
  {
   "cell_type": "code",
   "execution_count": null,
   "metadata": {
    "deletable": false,
    "editable": false,
    "nbgrader": {
     "cell_type": "code",
     "checksum": "7e3e04ba7ed63784969ad5c402373e60",
     "grade": true,
     "grade_id": "cell-923978f1255fae48",
     "locked": true,
     "points": 0.5,
     "schema_version": 3,
     "solution": false
    }
   },
   "outputs": [],
   "source": []
  },
  {
   "cell_type": "code",
   "execution_count": null,
   "metadata": {
    "deletable": false,
    "editable": false,
    "nbgrader": {
     "cell_type": "code",
     "checksum": "01037da94b1fcf1a46eae9cce45e1ff5",
     "grade": true,
     "grade_id": "cell-601b53d0f1168ba6",
     "locked": true,
     "points": 1,
     "schema_version": 3,
     "solution": false
    }
   },
   "outputs": [],
   "source": []
  },
  {
   "cell_type": "markdown",
   "metadata": {},
   "source": [
    "**Q**: Create a recursive function `fib` to find the nth Fibonacci number. Assume that the the sequence starts with `0, 1, 1, ...`. \n",
    "\n",
    "```python\n",
    ">>> fib(0)\n",
    "0\n",
    ">>> fib(5)\n",
    "5\n",
    ">>> fib(10)\n",
    "55\n",
    "```\n",
    "\n",
    "If your solution uses exceptions, the except statements must not be bare (ie. the must specify the errors they can catch).\n",
    "\n",
    "[2 points]"
   ]
  },
  {
   "cell_type": "code",
   "execution_count": 74,
   "metadata": {
    "deletable": false,
    "nbgrader": {
     "cell_type": "code",
     "checksum": "2828ea9f0104286c78d8c5a93e31185b",
     "grade": false,
     "grade_id": "cell-be7a8a766b1b4e38",
     "locked": false,
     "schema_version": 3,
     "solution": true
    }
   },
   "outputs": [],
   "source": [
    "solved = {}\n",
    "def fib(n, depth=0):\n",
    "    global solved\n",
    "    if n <=1: \n",
    "        return n\n",
    "    if solved.get(n):\n",
    "        return solved[n]\n",
    "    else:\n",
    "        solved[n] = fib(n-1, depth+1) + fib(n-2, depth+1)\n",
    "        return fib(n-1, depth+1) + fib(n-2, depth+1)"
   ]
  },
  {
   "cell_type": "code",
   "execution_count": 75,
   "metadata": {
    "deletable": false,
    "editable": false,
    "nbgrader": {
     "cell_type": "code",
     "checksum": "11b4b43e04e9eaff533cdfe634c75d23",
     "grade": true,
     "grade_id": "cell-9229e538c5604fb8",
     "locked": true,
     "points": 0.5,
     "schema_version": 3,
     "solution": false
    }
   },
   "outputs": [],
   "source": [
    "### BEGIN TESTS\n",
    "assert fib(0) == 0\n",
    "### END TESTS"
   ]
  },
  {
   "cell_type": "code",
   "execution_count": 76,
   "metadata": {
    "deletable": false,
    "editable": false,
    "nbgrader": {
     "cell_type": "code",
     "checksum": "ed8cf19bdb4bd1652e5f0a989baf2ae1",
     "grade": true,
     "grade_id": "cell-50ad138e1467ce1b",
     "locked": true,
     "points": 0.5,
     "schema_version": 3,
     "solution": false
    }
   },
   "outputs": [],
   "source": [
    "### BEGIN TESTS\n",
    "assert fib(10) == 55\n",
    "### END TESTS"
   ]
  },
  {
   "cell_type": "code",
   "execution_count": 109,
   "metadata": {},
   "outputs": [
    {
     "name": "stdout",
     "output_type": "stream",
     "text": [
      "CPU times: user 83 µs, sys: 1 µs, total: 84 µs\n",
      "Wall time: 86.1 µs\n"
     ]
    },
    {
     "data": {
      "text/plain": [
       "410615886307971260333568378719267105220125108637369252408885430926905584274113403731330491660850044560830036835706942274588569362145476502674373045446852160486606292497360503469773453733196887405847255290082049086907512622059054542195889758031109222670849274793859539133318371244795543147611073276240066737934085191731810993201706776838934766764778739502174470268627820918553842225858306408301661862900358266857238210235802504351951472997919676524004784236376453347268364152648346245840573214241419937917242918602639810097866942392015404620153818671425739835074851396421139982713640679581178458198658692285968043243656709796000"
      ]
     },
     "execution_count": 109,
     "metadata": {},
     "output_type": "execute_result"
    }
   ],
   "source": [
    "%%time\n",
    "fib(3000)"
   ]
  },
  {
   "cell_type": "code",
   "execution_count": 80,
   "metadata": {},
   "outputs": [
    {
     "name": "stdout",
     "output_type": "stream",
     "text": [
      "CPU times: user 43.7 ms, sys: 4.94 ms, total: 48.6 ms\n",
      "Wall time: 48 ms\n"
     ]
    }
   ],
   "source": [
    "%%time\n",
    "x = [None for _ in range(1000000)]"
   ]
  },
  {
   "cell_type": "code",
   "execution_count": 85,
   "metadata": {},
   "outputs": [
    {
     "data": {
      "text/plain": [
       "1929452968383910.8"
      ]
     },
     "execution_count": 85,
     "metadata": {},
     "output_type": "execute_result"
    }
   ],
   "source": [
    "((48e-3/1e6)*(2**100))/(525600*60)"
   ]
  },
  {
   "cell_type": "code",
   "execution_count": null,
   "metadata": {},
   "outputs": [],
   "source": []
  },
  {
   "cell_type": "code",
   "execution_count": null,
   "metadata": {
    "deletable": false,
    "editable": false,
    "nbgrader": {
     "cell_type": "code",
     "checksum": "c49d8b381dee35e98a99681671b444b5",
     "grade": true,
     "grade_id": "cell-e45f33d8783fa401",
     "locked": true,
     "points": 0.5,
     "schema_version": 3,
     "solution": false
    }
   },
   "outputs": [],
   "source": []
  },
  {
   "cell_type": "code",
   "execution_count": null,
   "metadata": {
    "deletable": false,
    "editable": false,
    "nbgrader": {
     "cell_type": "code",
     "checksum": "d4f869e1fa9aa05f3caa33ba7a493440",
     "grade": true,
     "grade_id": "cell-ef3e9b562e825d7f",
     "locked": true,
     "points": 0.5,
     "schema_version": 3,
     "solution": false
    }
   },
   "outputs": [],
   "source": []
  },
  {
   "cell_type": "markdown",
   "metadata": {
    "deletable": false,
    "editable": false,
    "nbgrader": {
     "cell_type": "markdown",
     "checksum": "6a84f85884b9aea46536199a1e8ac10c",
     "grade": false,
     "grade_id": "cell-34008fae3d1725a5",
     "locked": true,
     "schema_version": 3,
     "solution": false
    }
   },
   "source": [
    "**Q**: Write a recursive function `recurse` that determines the recursion limit of Python on your machine. A recursion limit is the maximum number of times a function can call itself. The function should return the recursion limit that is reached. Your function must catch the `RecursionError` error.\n",
    "\n",
    "NB. The number of times you can call this function is not a constant and it's harder to determine what the number of calls to recurse is without \"n\". You can ignore this parameter within the body of your function if you wish. However, your function signature must take it.\n",
    "\n",
    "Assume that the `recurse` function will be called with zero when it is called for the first time.\n",
    "\n",
    "[2 points]"
   ]
  },
  {
   "cell_type": "code",
   "execution_count": 99,
   "metadata": {
    "deletable": false,
    "nbgrader": {
     "cell_type": "code",
     "checksum": "39c7d21ce12cb08e702d7be3c14c6250",
     "grade": false,
     "grade_id": "cell-23cabe3a6fd9d509",
     "locked": false,
     "schema_version": 3,
     "solution": true
    }
   },
   "outputs": [],
   "source": [
    "def recurse(n: int) -> int:\n",
    "    try:\n",
    "        return 1 + recurse(n)\n",
    "    except:\n",
    "        return 1"
   ]
  },
  {
   "cell_type": "code",
   "execution_count": 101,
   "metadata": {},
   "outputs": [
    {
     "data": {
      "text/plain": [
       "2964"
      ]
     },
     "execution_count": 101,
     "metadata": {},
     "output_type": "execute_result"
    }
   ],
   "source": [
    "recurse(0)"
   ]
  },
  {
   "cell_type": "code",
   "execution_count": null,
   "metadata": {
    "deletable": false,
    "editable": false,
    "nbgrader": {
     "cell_type": "code",
     "checksum": "4e4d7f6e86f05e2ba6b9ad15dcadafc9",
     "grade": true,
     "grade_id": "cell-ef5d6fef7fa5b71b",
     "locked": true,
     "points": 1,
     "schema_version": 3,
     "solution": false
    }
   },
   "outputs": [],
   "source": []
  },
  {
   "cell_type": "code",
   "execution_count": null,
   "metadata": {
    "deletable": false,
    "editable": false,
    "nbgrader": {
     "cell_type": "code",
     "checksum": "d6488a84775abee989bb323bdce8fec1",
     "grade": true,
     "grade_id": "cell-df21a08199acd722",
     "locked": true,
     "points": 1,
     "schema_version": 3,
     "solution": false
    }
   },
   "outputs": [],
   "source": []
  }
 ],
 "metadata": {
  "kernelspec": {
   "display_name": "Python 3",
   "language": "python",
   "name": "python3"
  },
  "language_info": {
   "codemirror_mode": {
    "name": "ipython",
    "version": 3
   },
   "file_extension": ".py",
   "mimetype": "text/x-python",
   "name": "python",
   "nbconvert_exporter": "python",
   "pygments_lexer": "ipython3",
   "version": "3.6.7"
  }
 },
 "nbformat": 4,
 "nbformat_minor": 2
}
