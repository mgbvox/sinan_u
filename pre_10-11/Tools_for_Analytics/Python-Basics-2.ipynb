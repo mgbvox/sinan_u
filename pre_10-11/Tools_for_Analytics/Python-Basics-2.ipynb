{
 "cells": [
  {
   "cell_type": "markdown",
   "metadata": {},
   "source": [
    "<subject>\n",
    "Homework How-To\n",
    "</subject>\n",
    "\n",
    "<details>\n",
    "\n",
    "**Naming Conventions**\n",
    "\n",
    "When naming your files for upload, you must follow the format below:\n",
    "\n",
    "    <uni>_<assignment>_<details [optional]>.<extension>\n",
    "\n",
    "For example, if I needed to hand in HW 0, any of the below formats would be sufficient for a file name:\n",
    "\n",
    "- pl2648_hw0.txt\n",
    "- pl2648_hw0.sh\n",
    "- pl2648_hw0_all_in_one.txt\n",
    "- Pl2648_hw0_bash_program.sh\n",
    "\n",
    "This naming format allows for autograding of all assignments. If your files are not named with this format, you should expect a grade of zero for the assignment.\n",
    "\n",
    "**Grading**\n",
    "\n",
    "Possible points on late homeworks are deducted by 50% for each day they are late. For example, if you get 80% of the total possible credits on a homework but hand in that homework a day late, you would get 40%. Assignments two days late get zero points.\n",
    "\n",
    "Once solutions are posted and graded assignments are handed back, students have 1 week to bring their grading discrepancies to a CA for consideration of possible grading errors. \n",
    "\n",
    "**Getting Help**\n",
    "\n",
    "Asking for help is a great way to increase your chance of success. However there are some rules. When asking for help (especially from a fellow student), *you can show your helper your code but you can not view theirs*. You work needs to be your own. \n",
    "\n",
    "If you need to reach out to a CA or the Professor for help, please do so via Piazza and not via email. Answers given via Piazza will help you as well as other students. Thus, emails will always have a lower priority for response than Piazza questions. If you do email the professor or TA, please make a note of what section you are in. This helps us identify you in courseworks faster.\n",
    "\n",
    "**Multiple Choice**\n",
    "\n",
    "If the question is multiple choice, you will be given several options to choose from and your function will need to return **one** of those options **verbatim** as a string.\n",
    "\n",
    "For example: \n",
    "\n",
    "Which of the following animals bark?\n",
    "\n",
    "- dogs\n",
    "- cats\n",
    "- fish\n",
    "- trees\n",
    "\n",
    "A correct answer would be structured in the following way:\n",
    "\n",
    "```python\n",
    "def question_animals():\n",
    "    return 'dogs'\n",
    "```\n",
    "\n",
    "You answer will be stripped of left and right white space and lowercased before comparison to the correct answer during grading.\n",
    "</details>"
   ]
  },
  {
   "cell_type": "markdown",
   "metadata": {
    "deletable": false,
    "editable": false,
    "nbgrader": {
     "cell_type": "markdown",
     "checksum": "12c4bd250df5b8c08b18b040018fa2e5",
     "grade": false,
     "grade_id": "cell-1bb848dc954496cd",
     "locked": true,
     "schema_version": 3,
     "solution": false
    }
   },
   "source": [
    "**Q**: Write a script that appends 250,000 items to a an empty list; the item can be anything so the number 1 would do. Time how long it takes (with a stop watch on the Internet or your phone). Write a script that prepends 250,000 items to an empty list and time how long it takes. *DO NOT PRINT THE RESULT OR EACH VALUE ADDED TO THESE LISTS. Please clear your cell's output of the 250,000 items before handing in your assignment; scrolling through 250,000 items is a lot of work!*\n",
    "\n",
    "What script takes longer and why? No more than 50 words. \n",
    "\n",
    "If either script runs for more than a minute, stop it and assume that it ran infinitely long.\n",
    "\n",
    "[1 point]"
   ]
  },
  {
   "cell_type": "code",
   "execution_count": 12,
   "metadata": {
    "deletable": false,
    "nbgrader": {
     "cell_type": "code",
     "checksum": "f0e17160d8fabd44b7fb132cd1aeb0a8",
     "grade": true,
     "grade_id": "cell-670e7107d58db7bf",
     "locked": false,
     "points": 0,
     "schema_version": 3,
     "solution": true
    }
   },
   "outputs": [],
   "source": [
    "# YOUR CODE HERE\n",
    "list_1=[]\n",
    "for element in range(0,250000):\n",
    "    list_1.append(1)\n",
    "#raise NotImplementedError()"
   ]
  },
  {
   "cell_type": "code",
   "execution_count": 198,
   "metadata": {
    "deletable": false,
    "nbgrader": {
     "cell_type": "code",
     "checksum": "a64f718b2f9f7ec1ffb9fc7593489dfe",
     "grade": true,
     "grade_id": "cell-c1f537f3db59f76e",
     "locked": false,
     "points": 0,
     "schema_version": 3,
     "solution": true
    }
   },
   "outputs": [],
   "source": [
    "# YOUR CODE HERE\n",
    "list_1=[]\n",
    "for element in range(0,250000):\n",
    "    list_1.insert(0,1)\n",
    "#raise NotImplementedError()"
   ]
  },
  {
   "cell_type": "markdown",
   "metadata": {
    "deletable": false,
    "nbgrader": {
     "cell_type": "markdown",
     "checksum": "872954e58c51275ec729593191bb7562",
     "grade": true,
     "grade_id": "cell-91f1edcf7c372b7c",
     "locked": false,
     "points": 1,
     "schema_version": 3,
     "solution": true
    }
   },
   "source": [
    "The prepend script takes longer time. This is because for insert(0,1) the pointer returns to th first position every single time when we call the function."
   ]
  },
  {
   "cell_type": "markdown",
   "metadata": {
    "deletable": false,
    "editable": false,
    "nbgrader": {
     "cell_type": "markdown",
     "checksum": "10df9870ac96f38301165aabb9c185d3",
     "grade": false,
     "grade_id": "cell-bbef2b68f8720c12",
     "locked": true,
     "schema_version": 3,
     "solution": false
    }
   },
   "source": [
    "**Q**: Create a function `evens` that returns all the even numbers between 0 and a given positive number x. Zero should be included in the result but x should not be included unless x is zero. Any data structure that is iterable will be sufficient for returning these values. \n",
    "\n",
    "[1 point]"
   ]
  },
  {
   "cell_type": "code",
   "execution_count": 207,
   "metadata": {
    "deletable": false,
    "nbgrader": {
     "cell_type": "code",
     "checksum": "2e18b3febf965d6dbef9e6b23a0f896d",
     "grade": false,
     "grade_id": "cell-f178c23df522f905",
     "locked": false,
     "schema_version": 3,
     "solution": true
    }
   },
   "outputs": [
    {
     "name": "stdout",
     "output_type": "stream",
     "text": [
      "[0]\n"
     ]
    }
   ],
   "source": [
    "list_1=[]\n",
    "def evens(x):\n",
    "    if x == 0:\n",
    "        list_1 = [0]\n",
    "        return list_1\n",
    "    elif x > 0: \n",
    "        for i in range(x):\n",
    "            if i%2==0:\n",
    "                list_1.append(i)\n",
    "        return list_1\n",
    "print(evens(0))\n",
    "    # YOUR CODE HERE\n",
    "    #raise NotImplementedError()"
   ]
  },
  {
   "cell_type": "code",
   "execution_count": null,
   "metadata": {
    "deletable": false,
    "editable": false,
    "nbgrader": {
     "cell_type": "code",
     "checksum": "b3a66fc35568a9f5e3117a846fb138f8",
     "grade": true,
     "grade_id": "cell-80b80f97d1d635e1",
     "locked": true,
     "points": 0.25,
     "schema_version": 3,
     "solution": false
    }
   },
   "outputs": [],
   "source": []
  },
  {
   "cell_type": "code",
   "execution_count": null,
   "metadata": {
    "deletable": false,
    "editable": false,
    "nbgrader": {
     "cell_type": "code",
     "checksum": "61e36892ed0b01ba6ed4f142fa8a806d",
     "grade": true,
     "grade_id": "cell-6d57f030024737d2",
     "locked": true,
     "points": 0.25,
     "schema_version": 3,
     "solution": false
    }
   },
   "outputs": [],
   "source": []
  },
  {
   "cell_type": "code",
   "execution_count": null,
   "metadata": {
    "deletable": false,
    "editable": false,
    "nbgrader": {
     "cell_type": "code",
     "checksum": "2edab7d7c8b79f9be07e815af0b4e679",
     "grade": true,
     "grade_id": "cell-ed8531a55caf7739",
     "locked": true,
     "points": 0.25,
     "schema_version": 3,
     "solution": false
    }
   },
   "outputs": [],
   "source": []
  },
  {
   "cell_type": "code",
   "execution_count": null,
   "metadata": {
    "deletable": false,
    "editable": false,
    "nbgrader": {
     "cell_type": "code",
     "checksum": "a706ea5165f9b91a685916c166b1e3d7",
     "grade": true,
     "grade_id": "cell-f78b76614fd7bb17",
     "locked": true,
     "points": 0.25,
     "schema_version": 3,
     "solution": false
    }
   },
   "outputs": [],
   "source": []
  },
  {
   "cell_type": "markdown",
   "metadata": {
    "deletable": false,
    "editable": false,
    "nbgrader": {
     "cell_type": "markdown",
     "checksum": "404456c2994cbe3e43708b994192dd10",
     "grade": false,
     "grade_id": "cell-cc0ebc23a3ccd5bd",
     "locked": true,
     "schema_version": 3,
     "solution": false
    }
   },
   "source": [
    "**Q**: Implement Fizz-Buzz. Write a function `fizz_buzz` that returns the number given. \n",
    "\n",
    "But for multiples of two return \"Fizz\" instead of the number, for the multiples of three return \"Buzz\", and for the multiples of five return \"Bang\". For numbers which are multiples of both two and three return \"FizzBuzz\". For numbers which are multiples of two, three, and five return \"FizzBuzzBang\". Assume only positive numbers will be passed to the function. \n",
    "\n",
    "Order of precedence should be as follows (first has the highest precedence):\n",
    "\n",
    "    - FizzBuzzBang\n",
    "    - FizzBuzz\n",
    "    - Bang\n",
    "    - Buzz\n",
    "    - Fizz\n",
    "\n",
    "\n",
    "[2 points]"
   ]
  },
  {
   "cell_type": "code",
   "execution_count": 8,
   "metadata": {
    "deletable": false,
    "nbgrader": {
     "cell_type": "code",
     "checksum": "cfde7df756acdebb4489a5116fde217e",
     "grade": false,
     "grade_id": "cell-fda6d5a34cfe1fec",
     "locked": false,
     "schema_version": 3,
     "solution": true
    }
   },
   "outputs": [],
   "source": [
    "def fizz_buzz(element):\n",
    "    if element%30==0:\n",
    "        return \"FizzBuzzBang\"\n",
    "    elif element%6==0:\n",
    "        return \"FizzBuzz\"\n",
    "    elif element%5==0:\n",
    "        return \"Bang\"\n",
    "    elif element%3==0:\n",
    "        return \"Buzz\"\n",
    "    elif element%2==0:\n",
    "        return \"Fizz\"\n",
    "    else: \n",
    "        return element"
   ]
  },
  {
   "cell_type": "code",
   "execution_count": 2,
   "metadata": {
    "deletable": false,
    "editable": false,
    "nbgrader": {
     "cell_type": "code",
     "checksum": "fecf7303768178eeaabe83f9e4c80ddf",
     "grade": true,
     "grade_id": "cell-edc1cee03a574266",
     "locked": true,
     "points": 0.25,
     "schema_version": 3,
     "solution": false
    }
   },
   "outputs": [],
   "source": [
    "### BEGIN TESTS\n",
    "assert fizz_buzz(1) == 1\n",
    "### END TESTS"
   ]
  },
  {
   "cell_type": "code",
   "execution_count": 3,
   "metadata": {
    "deletable": false,
    "editable": false,
    "nbgrader": {
     "cell_type": "code",
     "checksum": "2ee9916c49e74fc63981c2a796e6e650",
     "grade": true,
     "grade_id": "cell-4f8d689ae39f86b7",
     "locked": true,
     "points": 0.25,
     "schema_version": 3,
     "solution": false
    }
   },
   "outputs": [],
   "source": [
    "### BEGIN TESTS\n",
    "assert fizz_buzz(2) == 'Fizz'\n",
    "### END TESTS"
   ]
  },
  {
   "cell_type": "code",
   "execution_count": 4,
   "metadata": {
    "deletable": false,
    "editable": false,
    "nbgrader": {
     "cell_type": "code",
     "checksum": "eda1cc1c5c20e7ba67eab95a42ed8073",
     "grade": true,
     "grade_id": "cell-3243239057da9c5d",
     "locked": true,
     "points": 0.25,
     "schema_version": 3,
     "solution": false
    }
   },
   "outputs": [],
   "source": [
    "### BEGIN TESTS\n",
    "assert fizz_buzz(3) == 'Buzz'\n",
    "### END TESTS"
   ]
  },
  {
   "cell_type": "code",
   "execution_count": 5,
   "metadata": {
    "deletable": false,
    "editable": false,
    "nbgrader": {
     "cell_type": "code",
     "checksum": "6521f749f024c86720dba4313681edca",
     "grade": true,
     "grade_id": "cell-f6dc4ad9f061fe39",
     "locked": true,
     "points": 0.25,
     "schema_version": 3,
     "solution": false
    }
   },
   "outputs": [],
   "source": [
    "### BEGIN TESTS\n",
    "assert fizz_buzz(5) == 'Bang'\n",
    "### END TESTS"
   ]
  },
  {
   "cell_type": "code",
   "execution_count": 6,
   "metadata": {
    "deletable": false,
    "editable": false,
    "nbgrader": {
     "cell_type": "code",
     "checksum": "9dcaded28e2a867b1cdab2f9347627e0",
     "grade": true,
     "grade_id": "cell-946d26b610de6b73",
     "locked": true,
     "points": 0.25,
     "schema_version": 3,
     "solution": false
    }
   },
   "outputs": [],
   "source": [
    "### BEGIN TESTS\n",
    "assert fizz_buzz(6) == 'FizzBuzz'\n",
    "### END TESTS"
   ]
  },
  {
   "cell_type": "code",
   "execution_count": 7,
   "metadata": {
    "deletable": false,
    "editable": false,
    "nbgrader": {
     "cell_type": "code",
     "checksum": "033d9a13361c60c8218c6818ee62e8f7",
     "grade": true,
     "grade_id": "cell-f9b98e67123e3631",
     "locked": true,
     "points": 0.25,
     "schema_version": 3,
     "solution": false
    }
   },
   "outputs": [],
   "source": [
    "### BEGIN TESTS\n",
    "assert fizz_buzz(30) == 'FizzBuzzBang'\n",
    "### END TESTS"
   ]
  },
  {
   "cell_type": "code",
   "execution_count": null,
   "metadata": {
    "deletable": false,
    "editable": false,
    "nbgrader": {
     "cell_type": "code",
     "checksum": "05198b81d93ca3493db2ca01a3541040",
     "grade": true,
     "grade_id": "cell-eb510034e9d6fb63",
     "locked": true,
     "points": 0.5,
     "schema_version": 3,
     "solution": false
    }
   },
   "outputs": [],
   "source": []
  },
  {
   "cell_type": "markdown",
   "metadata": {
    "deletable": false,
    "editable": false,
    "nbgrader": {
     "cell_type": "markdown",
     "checksum": "7dbfd0a2ad0587b6cee803b7ee1c87c6",
     "grade": false,
     "grade_id": "cell-e0568aa11c90c0ea",
     "locked": true,
     "schema_version": 3,
     "solution": false
    }
   },
   "source": [
    "**Q**: Write a function `compress` that takes a string of characters, counts each occurrence of each character, and produces a compressed string with each character and its count. For example:\n",
    "\n",
    "`'aaaabbbbcc'` would compress to `'a4b4c2'`\n",
    "\n",
    "You can assume that the source string will be sorted such that like characters are adjacent. The result string should be sorted. You do not have to consider empty strings or infinite strings.\n",
    "\n",
    "[2 points]"
   ]
  },
  {
   "cell_type": "code",
   "execution_count": 9,
   "metadata": {
    "deletable": false,
    "nbgrader": {
     "cell_type": "code",
     "checksum": "810f6d072a12498a23df6ce743a24f26",
     "grade": false,
     "grade_id": "cell-63c10b65c17caab0",
     "locked": false,
     "schema_version": 3,
     "solution": true
    }
   },
   "outputs": [
    {
     "data": {
      "text/plain": [
       "'a4b4c2'"
      ]
     },
     "execution_count": 9,
     "metadata": {},
     "output_type": "execute_result"
    }
   ],
   "source": [
    "set_1=set()\n",
    "def compress(letter_string: str)-> str:\n",
    "    \n",
    "    all_freq = {}\n",
    "    for i in letter_string: \n",
    "        if i in all_freq: \n",
    "            all_freq[i] += 1\n",
    "        else: \n",
    "            all_freq[i] = 1\n",
    "            \n",
    "    x = ''.join('{}{}'.format(key, val) for key, val in sorted(all_freq.items()))\n",
    "    return x    \n",
    "compress('aaaabbbbcc')\n",
    "\n",
    "    # YOUR CODE HERE\n",
    "    #raise NotImplementedError()\n"
   ]
  },
  {
   "cell_type": "code",
   "execution_count": 10,
   "metadata": {
    "deletable": false,
    "editable": false,
    "nbgrader": {
     "cell_type": "code",
     "checksum": "040b5ab25dc650cc83d8e10d01847422",
     "grade": true,
     "grade_id": "cell-8d41bb3300810b31",
     "locked": true,
     "points": 0.5,
     "schema_version": 3,
     "solution": false
    }
   },
   "outputs": [],
   "source": [
    "### BEGIN TESTS\n",
    "assert compress('aaaabbbbcccc') == 'a4b4c4'\n",
    "### END TESTS"
   ]
  },
  {
   "cell_type": "code",
   "execution_count": null,
   "metadata": {
    "deletable": false,
    "editable": false,
    "nbgrader": {
     "cell_type": "code",
     "checksum": "6019c06f1c4cc54686aabe2f24e50585",
     "grade": true,
     "grade_id": "cell-7b5d55b9412941b1",
     "locked": true,
     "points": 0.5,
     "schema_version": 3,
     "solution": false
    }
   },
   "outputs": [],
   "source": []
  },
  {
   "cell_type": "code",
   "execution_count": null,
   "metadata": {
    "deletable": false,
    "editable": false,
    "nbgrader": {
     "cell_type": "code",
     "checksum": "2151748a1dd0033418104f20e0881257",
     "grade": true,
     "grade_id": "cell-33ec73d3be0d6640",
     "locked": true,
     "points": 1,
     "schema_version": 3,
     "solution": false
    }
   },
   "outputs": [],
   "source": []
  },
  {
   "cell_type": "markdown",
   "metadata": {
    "deletable": false,
    "editable": false,
    "nbgrader": {
     "cell_type": "markdown",
     "checksum": "32c86b60f87b102d88deaae00f2634dd",
     "grade": false,
     "grade_id": "cell-66a3fff05dbbf40c",
     "locked": true,
     "schema_version": 3,
     "solution": false
    }
   },
   "source": [
    "**Q**: Write a function `endpoints` that takes a list of numbers (eg. `[5, 10, 15, 20, 25]`) and returns a new list of only the first and last elements of the given list (eg. `[5, 25]`). The function should return an empty list if an empty list is passed in. The function should *not* use any variables besides the passed in argument `list_`.  \n",
    "\n",
    "[1 point]"
   ]
  },
  {
   "cell_type": "code",
   "execution_count": 205,
   "metadata": {
    "deletable": false,
    "nbgrader": {
     "cell_type": "code",
     "checksum": "afcd71a548f234ec03966c698ed317d7",
     "grade": false,
     "grade_id": "cell-e06b186eadc3d5c3",
     "locked": false,
     "schema_version": 3,
     "solution": true
    }
   },
   "outputs": [
    {
     "data": {
      "text/plain": [
       "[5, 20]"
      ]
     },
     "execution_count": 205,
     "metadata": {},
     "output_type": "execute_result"
    }
   ],
   "source": [
    "a = [5, 10, 15, 20]\n",
    "def endpoints(a) -> list:\n",
    "    if a is []:\n",
    "        return []\n",
    "    else:\n",
    "        return [a[0],a[-1]]\n",
    "endpoints(a)\n",
    "    \n",
    "    # YOUR CODE HERE\n",
    "    #raise NotImplementedError()"
   ]
  },
  {
   "cell_type": "code",
   "execution_count": 174,
   "metadata": {
    "deletable": false,
    "editable": false,
    "nbgrader": {
     "cell_type": "code",
     "checksum": "612bce909ea3b662cffd3106137beeb3",
     "grade": true,
     "grade_id": "cell-34da01cd23f4b977",
     "locked": true,
     "points": 0.5,
     "schema_version": 3,
     "solution": false
    }
   },
   "outputs": [],
   "source": [
    "### BEGIN TESTS\n",
    "assert endpoints([5, 10, 15, 20, 25]) == [5, 25]\n",
    "### END TESTS"
   ]
  },
  {
   "cell_type": "code",
   "execution_count": null,
   "metadata": {
    "deletable": false,
    "editable": false,
    "nbgrader": {
     "cell_type": "code",
     "checksum": "855ae870f25328901fb6a5b8cbbd8aa8",
     "grade": true,
     "grade_id": "cell-f7e7bb26b30ed92a",
     "locked": true,
     "points": 0.5,
     "schema_version": 3,
     "solution": false
    }
   },
   "outputs": [],
   "source": []
  },
  {
   "cell_type": "markdown",
   "metadata": {
    "deletable": false,
    "editable": false,
    "nbgrader": {
     "cell_type": "markdown",
     "checksum": "9759c5fa016cd4e4be063ad739de0358",
     "grade": false,
     "grade_id": "cell-12d642e15c349c03",
     "locked": true,
     "schema_version": 3,
     "solution": false,
     "task": false
    }
   },
   "source": [
    "**Q**: Write a function `common` that consumes two lists and that produces a list that contains only the common elements (without duplicates). Make sure your program works on two lists of different sizes and returns the common elements in sorted ascending order.\n",
    "\n",
    "\n",
    "```python\n",
    "a = [1, 1, 2, 3, 5, 8, 13, 21, 34, 55, 89]\n",
    "b = [1, 2, 3, 4, 5, 6, 7, 8, 9, 10, 11, 12, 13]\n",
    "\n",
    "# result\n",
    "[1, 2, 3, 5, 8, 13]\n",
    "```\n",
    "\n",
    "[1 point]"
   ]
  },
  {
   "cell_type": "code",
   "execution_count": 193,
   "metadata": {
    "deletable": false,
    "nbgrader": {
     "cell_type": "code",
     "checksum": "d2b4e6ad63f3ee41dca8c2327b289435",
     "grade": false,
     "grade_id": "cell-1ab667ab32f392f9",
     "locked": false,
     "schema_version": 3,
     "solution": true
    }
   },
   "outputs": [
    {
     "data": {
      "text/plain": [
       "{1, 2, 3, 5, 8, 13}"
      ]
     },
     "execution_count": 193,
     "metadata": {},
     "output_type": "execute_result"
    }
   ],
   "source": [
    "a = {1, 1, 2, 3, 5, 8, 13, 21, 34, 55, 89}\n",
    "b = {1, 2, 3, 4, 5, 6, 7, 8, 9, 10, 11, 12, 13}\n",
    "def common(a, b):\n",
    "    return (a & b)\n",
    "\n",
    "common(a,b)\n",
    "    \n",
    "    # YOUR CODE HERE\n",
    "    #raise NotImplementedError()"
   ]
  },
  {
   "cell_type": "code",
   "execution_count": null,
   "metadata": {
    "deletable": false,
    "editable": false,
    "nbgrader": {
     "cell_type": "code",
     "checksum": "d90960bc84ba37adcdbfe5a73bf07141",
     "grade": true,
     "grade_id": "cell-8cd8aa2c0c722e82",
     "locked": true,
     "points": 1,
     "schema_version": 3,
     "solution": false
    }
   },
   "outputs": [],
   "source": []
  },
  {
   "cell_type": "markdown",
   "metadata": {
    "deletable": false,
    "editable": false,
    "nbgrader": {
     "cell_type": "markdown",
     "checksum": "eb42f2a8a0b3faaf080e28cb79504188",
     "grade": false,
     "grade_id": "cell-cdc00988709a3b2e",
     "locked": true,
     "schema_version": 3,
     "solution": false
    }
   },
   "source": [
    "**Q**: Create a function `get_lambda` that returns a `lambda` function that returns a tuple containing N instances of a given value.\n",
    "\n",
    "```python\n",
    ">>> f = get_lambda()\n",
    ">>> f(4, True)\n",
    "(True, True, True, True)\n",
    "```\n",
    "\n",
    "[1 point]"
   ]
  },
  {
   "cell_type": "code",
   "execution_count": null,
   "metadata": {
    "deletable": false,
    "nbgrader": {
     "cell_type": "code",
     "checksum": "ba04d3bc15ceab499469ea58fc288124",
     "grade": false,
     "grade_id": "cell-440167c0cf8ec924",
     "locked": false,
     "schema_version": 3,
     "solution": true
    }
   },
   "outputs": [],
   "source": [
    "def get_lambda():\n",
    "    # YOUR CODE HERE\n",
    "    raise NotImplementedError()"
   ]
  },
  {
   "cell_type": "code",
   "execution_count": null,
   "metadata": {
    "deletable": false,
    "editable": false,
    "nbgrader": {
     "cell_type": "code",
     "checksum": "0843375c5f7c304785eab737383a593e",
     "grade": true,
     "grade_id": "cell-bf1ea39119b33fad",
     "locked": true,
     "points": 0.5,
     "schema_version": 3,
     "solution": false
    }
   },
   "outputs": [],
   "source": [
    "### BEGIN TESTS\n",
    "assert get_lambda()(4, True) == (True, True, True, True)\n",
    "### END TESTS"
   ]
  },
  {
   "cell_type": "code",
   "execution_count": null,
   "metadata": {
    "deletable": false,
    "editable": false,
    "nbgrader": {
     "cell_type": "code",
     "checksum": "0a8b974f8e6f0c7276d6319a73dd367a",
     "grade": true,
     "grade_id": "cell-d1f15d8c975bef1e",
     "locked": true,
     "points": 0.5,
     "schema_version": 3,
     "solution": false
    }
   },
   "outputs": [],
   "source": []
  },
  {
   "cell_type": "markdown",
   "metadata": {},
   "source": [
    "**Q**: Create a function `get_lambda` that returns a `lambda` function that takes a tuple and raises each element in the tuple to the second power.\n",
    "\n",
    "```python\n",
    ">>> f = get_lambda()\n",
    ">>> f((1, 2, 3, 4))\n",
    "(1, 4, 9, 16)\n",
    "```\n",
    "[1 point]"
   ]
  },
  {
   "cell_type": "code",
   "execution_count": null,
   "metadata": {
    "deletable": false,
    "nbgrader": {
     "cell_type": "code",
     "checksum": "4b6e08f4e3e4741c0c2186c34343b91e",
     "grade": false,
     "grade_id": "cell-70896f7d7cc69cde",
     "locked": false,
     "schema_version": 3,
     "solution": true
    }
   },
   "outputs": [],
   "source": [
    "def get_lambda():\n",
    "    # YOUR CODE HERE\n",
    "    raise NotImplementedError()"
   ]
  },
  {
   "cell_type": "code",
   "execution_count": null,
   "metadata": {
    "deletable": false,
    "editable": false,
    "nbgrader": {
     "cell_type": "code",
     "checksum": "5e553fec4c0bce1abd99446594f1268c",
     "grade": true,
     "grade_id": "cell-2107d7a4f3fef8f6",
     "locked": true,
     "points": 0.5,
     "schema_version": 3,
     "solution": false
    }
   },
   "outputs": [],
   "source": [
    "### BEGIN TESTS\n",
    "assert get_lambda()((1, 2, 3, 4)) == (1, 4, 9, 16)\n",
    "### END TESTS"
   ]
  },
  {
   "cell_type": "code",
   "execution_count": null,
   "metadata": {
    "deletable": false,
    "editable": false,
    "nbgrader": {
     "cell_type": "code",
     "checksum": "a1369b207cd675e233c1521b31d955cb",
     "grade": true,
     "grade_id": "cell-7b39c52cfbb8fe3a",
     "locked": true,
     "points": 0.5,
     "schema_version": 3,
     "solution": false
    }
   },
   "outputs": [],
   "source": []
  },
  {
   "cell_type": "markdown",
   "metadata": {
    "deletable": false,
    "editable": false,
    "nbgrader": {
     "cell_type": "markdown",
     "checksum": "65c7fde3c8f729965262a46f1507b277",
     "grade": false,
     "grade_id": "cell-caa4d6e3473994b3",
     "locked": true,
     "schema_version": 3,
     "solution": false
    }
   },
   "source": [
    "##### Extra Practice\n",
    "\n",
    "Extra Practice problems are exactly that: extra practice. They are not worth any points or extra credit."
   ]
  },
  {
   "cell_type": "markdown",
   "metadata": {
    "deletable": false,
    "editable": false,
    "nbgrader": {
     "cell_type": "markdown",
     "checksum": "034d409b368068213241b0be04faaa38",
     "grade": false,
     "grade_id": "cell-7de4d9823df7a24a",
     "locked": true,
     "schema_version": 3,
     "solution": false
    }
   },
   "source": [
    "**Extra Practice**: Create a function that returns a list that contains itself as its one and only element. \n",
    "\n",
    "[0 points]"
   ]
  },
  {
   "cell_type": "code",
   "execution_count": null,
   "metadata": {
    "deletable": false,
    "nbgrader": {
     "cell_type": "code",
     "checksum": "728769289933093a6b7b36c5d6ccdd47",
     "grade": false,
     "grade_id": "cell-3af2459c61b6c472",
     "locked": false,
     "schema_version": 3,
     "solution": true
    }
   },
   "outputs": [],
   "source": [
    "def itself():\n",
    "    # YOUR CODE HERE\n",
    "    raise NotImplementedError()"
   ]
  },
  {
   "cell_type": "code",
   "execution_count": null,
   "metadata": {
    "deletable": false,
    "editable": false,
    "nbgrader": {
     "cell_type": "code",
     "checksum": "9ae8cfa688bf9927d3e36398c8dad0fa",
     "grade": true,
     "grade_id": "cell-6dbaa09e08641787",
     "locked": true,
     "points": 0,
     "schema_version": 3,
     "solution": false
    }
   },
   "outputs": [],
   "source": [
    "### BEGIN TESTS\n",
    "list_ = itself()\n",
    "assert list_ is list_[0]\n",
    "### END TESTS"
   ]
  },
  {
   "cell_type": "markdown",
   "metadata": {
    "deletable": false,
    "editable": false,
    "nbgrader": {
     "cell_type": "markdown",
     "checksum": "cf0742ac3f080d8c8ef8ba5805e11012",
     "grade": false,
     "grade_id": "cell-a3b56212a12c4f35",
     "locked": true,
     "schema_version": 3,
     "solution": false
    }
   },
   "source": [
    "**Extra Practice**: Create a function that returns the first positive integer for which Python does not create a singleton. What about the negative integer closest to zero? \n",
    "\n",
    "[0 points]"
   ]
  },
  {
   "cell_type": "code",
   "execution_count": null,
   "metadata": {
    "deletable": false,
    "nbgrader": {
     "cell_type": "code",
     "checksum": "fb5e267fbb7efbd4f3f7c415c103c14b",
     "grade": false,
     "grade_id": "cell-6f599029a544dfcd",
     "locked": false,
     "schema_version": 3,
     "solution": true
    }
   },
   "outputs": [],
   "source": [
    "def first_non_singleton():\n",
    "    # YOUR CODE HERE\n",
    "    raise NotImplementedError()"
   ]
  },
  {
   "cell_type": "code",
   "execution_count": null,
   "metadata": {
    "deletable": false,
    "editable": false,
    "nbgrader": {
     "cell_type": "code",
     "checksum": "57b54e2c19533f3fe604811f096a87b1",
     "grade": true,
     "grade_id": "cell-8a115bd7fb268cc5",
     "locked": true,
     "points": 0,
     "schema_version": 3,
     "solution": false
    }
   },
   "outputs": [],
   "source": []
  },
  {
   "cell_type": "code",
   "execution_count": null,
   "metadata": {
    "deletable": false,
    "nbgrader": {
     "cell_type": "code",
     "checksum": "9a706ab009e0d8ac2927270754f3310c",
     "grade": false,
     "grade_id": "cell-f5077f7c620f08cb",
     "locked": false,
     "schema_version": 3,
     "solution": true
    }
   },
   "outputs": [],
   "source": [
    "def last_negative_non_singleton():\n",
    "    # YOUR CODE HERE\n",
    "    raise NotImplementedError()"
   ]
  },
  {
   "cell_type": "code",
   "execution_count": null,
   "metadata": {
    "deletable": false,
    "editable": false,
    "nbgrader": {
     "cell_type": "code",
     "checksum": "9990688d251d16f12d76a8737dd045db",
     "grade": true,
     "grade_id": "cell-4ea5e3cac5553b11",
     "locked": true,
     "points": 0,
     "schema_version": 3,
     "solution": false
    }
   },
   "outputs": [],
   "source": []
  }
 ],
 "metadata": {
  "anaconda-cloud": {},
  "kernelspec": {
   "display_name": "Python 3",
   "language": "python",
   "name": "python3"
  },
  "language_info": {
   "codemirror_mode": {
    "name": "ipython",
    "version": 3
   },
   "file_extension": ".py",
   "mimetype": "text/x-python",
   "name": "python",
   "nbconvert_exporter": "python",
   "pygments_lexer": "ipython3",
   "version": "3.6.7"
  }
 },
 "nbformat": 4,
 "nbformat_minor": 4
}
