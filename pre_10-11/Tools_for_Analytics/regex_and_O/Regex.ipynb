{
 "cells": [
  {
   "cell_type": "markdown",
   "metadata": {},
   "source": [
    "## Regular Expressions"
   ]
  },
  {
   "cell_type": "code",
   "execution_count": 3,
   "metadata": {},
   "outputs": [],
   "source": [
    "# Documentation:: https://docs.python.org/3/library/re.html\n",
    "import re"
   ]
  },
  {
   "cell_type": "code",
   "execution_count": 4,
   "metadata": {},
   "outputs": [
    {
     "data": {
      "text/plain": [
       "'\\\\d'"
      ]
     },
     "execution_count": 4,
     "metadata": {},
     "output_type": "execute_result"
    }
   ],
   "source": [
    "# raw strings allow the use of single backslashes in regex codes \n",
    "# ie. the character following a backslash is included in the string without change\n",
    "r'\\d'"
   ]
  },
  {
   "cell_type": "code",
   "execution_count": 6,
   "metadata": {},
   "outputs": [
    {
     "data": {
      "text/plain": [
       "<_sre.SRE_Match object; span=(5, 17), match='is my number'>"
      ]
     },
     "execution_count": 6,
     "metadata": {},
     "output_type": "execute_result"
    }
   ],
   "source": [
    "pattern = r'is my number'\n",
    "string = 'This is my number 111-456-7890... Gimme a ring.'\n",
    "match = re.search(pattern, string)  # Search anywhere in the string for a match\n",
    "match"
   ]
  },
  {
   "cell_type": "code",
   "execution_count": 7,
   "metadata": {},
   "outputs": [
    {
     "name": "stdout",
     "output_type": "stream",
     "text": [
      "None\n"
     ]
    }
   ],
   "source": [
    "pattern = r'^is my number'  # ^ matches the beginning of the string\n",
    "string = 'This is my number 111-456-7890... Gimme a ring.'\n",
    "match = re.search(pattern, string)\n",
    "print(match)"
   ]
  },
  {
   "cell_type": "code",
   "execution_count": 8,
   "metadata": {},
   "outputs": [
    {
     "data": {
      "text/plain": [
       "<_sre.SRE_Match object; span=(42, 47), match='ring.'>"
      ]
     },
     "execution_count": 8,
     "metadata": {},
     "output_type": "execute_result"
    }
   ],
   "source": [
    "pattern = r'ring.$'  # $ matches the end of the string\n",
    "string = 'This is my number 111-456-7890... Gimme a ring.'\n",
    "match = re.search(pattern, string)\n",
    "match"
   ]
  },
  {
   "cell_type": "code",
   "execution_count": 9,
   "metadata": {},
   "outputs": [
    {
     "name": "stdout",
     "output_type": "stream",
     "text": [
      "None\n"
     ]
    }
   ],
   "source": [
    "pattern = r'elephant'\n",
    "string = 'This is my number 111-456-7890... Gimme a ring.'\n",
    "match = re.search(pattern, string)\n",
    "print(match)  # None is retruned if no match is found"
   ]
  },
  {
   "cell_type": "code",
   "execution_count": 14,
   "metadata": {},
   "outputs": [
    {
     "data": {
      "text/plain": [
       "<_sre.SRE_Match object; span=(2, 4), match='GC'>"
      ]
     },
     "execution_count": 14,
     "metadata": {},
     "output_type": "execute_result"
    }
   ],
   "source": [
    "# * matches zero or more of the preceding characters\n",
    "pattern = r'GCA*'\n",
    "string = 'ATGCGCATTTTGCAAAGATTTCCAAGAGAGTTT'\n",
    "match = re.search(pattern, string)  # NB. search will return the first matching string\n",
    "match"
   ]
  },
  {
   "cell_type": "code",
   "execution_count": 21,
   "metadata": {},
   "outputs": [
    {
     "data": {
      "text/plain": [
       "<_sre.SRE_Match object; span=(10, 13), match='GCA'>"
      ]
     },
     "execution_count": 21,
     "metadata": {},
     "output_type": "execute_result"
    }
   ],
   "source": [
    "# + matches 1 or more of the preceding characters\n",
    "pattern = r'GCA+'\n",
    "string = '123456ATGCGCATTTTGCAAAGATTTCCAAGAGAGTTT'\n",
    "match = re.search(pattern, string)\n",
    "match"
   ]
  },
  {
   "cell_type": "code",
   "execution_count": 18,
   "metadata": {},
   "outputs": [
    {
     "data": {
      "text/plain": [
       "<_sre.SRE_Match object; span=(4, 7), match='GCA'>"
      ]
     },
     "execution_count": 18,
     "metadata": {},
     "output_type": "execute_result"
    }
   ],
   "source": [
    "# {n} matches n of the preceding characters\n",
    "pattern = r'GCA{1,2}'\n",
    "string = 'ATGCGCATTTTGCAAAGATTTCCAAGAGAGTTT'\n",
    "match = re.search(pattern, string)\n",
    "match"
   ]
  },
  {
   "cell_type": "code",
   "execution_count": 22,
   "metadata": {},
   "outputs": [
    {
     "data": {
      "text/plain": [
       "<_sre.SRE_Match object; span=(0, 18), match='This is my number '>"
      ]
     },
     "execution_count": 22,
     "metadata": {},
     "output_type": "execute_result"
    }
   ],
   "source": [
    "# [] match characters in set of characters.\n",
    "pattern = r'[a-zA-Z\\[ ]+'  # Match several characters at a time\n",
    "string = 'This is my number 111-456-7890... Gimme a ring.'\n",
    "match = re.search(pattern, string)\n",
    "match"
   ]
  },
  {
   "cell_type": "code",
   "execution_count": 23,
   "metadata": {},
   "outputs": [
    {
     "data": {
      "text/plain": [
       "<_sre.SRE_Match object; span=(18, 21), match='111'>"
      ]
     },
     "execution_count": 23,
     "metadata": {},
     "output_type": "execute_result"
    }
   ],
   "source": [
    "pattern = r'[0-9]+'\n",
    "string = 'This is my number 111-456-7890... Gimme a ring.'\n",
    "match = re.search(pattern, string)\n",
    "match"
   ]
  },
  {
   "cell_type": "code",
   "execution_count": 27,
   "metadata": {},
   "outputs": [
    {
     "data": {
      "text/plain": [
       "<_sre.SRE_Match object; span=(0, 0), match=''>"
      ]
     },
     "execution_count": 27,
     "metadata": {},
     "output_type": "execute_result"
    }
   ],
   "source": [
    "pattern = r'[0-9]*'  \n",
    "# NB. If re.search can not immediately start matching AND matching an empty string is an option, \n",
    "# re.search will match the empty string.\n",
    "string = 'This is my number 111-456-7890... Gimme a ring.'\n",
    "match = re.search(pattern, string)\n",
    "match"
   ]
  },
  {
   "cell_type": "code",
   "execution_count": 32,
   "metadata": {},
   "outputs": [
    {
     "data": {
      "text/plain": [
       "<_sre.SRE_Match object; span=(0, 0), match=''>"
      ]
     },
     "execution_count": 32,
     "metadata": {},
     "output_type": "execute_result"
    }
   ],
   "source": [
    "pattern = r'[a-zA-Z ]*'\n",
    "# NB. If re.search can not immediately start matching AND matching an empty string is an option, \n",
    "# re.search will match the empty string.\n",
    "string = '111-456-7890 This is my number... Gimme a ring.'\n",
    "match = re.search(pattern, string)\n",
    "match"
   ]
  },
  {
   "cell_type": "code",
   "execution_count": 33,
   "metadata": {},
   "outputs": [
    {
     "data": {
      "text/plain": [
       "<_sre.SRE_Match object; span=(0, 4), match='This'>"
      ]
     },
     "execution_count": 33,
     "metadata": {},
     "output_type": "execute_result"
    }
   ],
   "source": [
    "pattern = r'\\w+'  # \\w is a short hand for [a-zA-Z0-9_]\n",
    "string = 'This is my number 111-456-7890... Gimme a ring.'\n",
    "match = re.search(pattern, string)\n",
    "match"
   ]
  },
  {
   "cell_type": "code",
   "execution_count": 34,
   "metadata": {},
   "outputs": [],
   "source": [
    "pattern = r'[^sS]'"
   ]
  },
  {
   "cell_type": "code",
   "execution_count": 35,
   "metadata": {},
   "outputs": [
    {
     "data": {
      "text/plain": [
       "<_sre.SRE_Match object; span=(0, 1), match=' '>"
      ]
     },
     "execution_count": 35,
     "metadata": {},
     "output_type": "execute_result"
    }
   ],
   "source": [
    "pattern = r'\\W+'  # \\W is a short hand for the inverse of \\w [^a-zA-Z0-9_]\n",
    "string = ' This_is my number 111-456-7890... Gimme a ring.'\n",
    "match = re.search(pattern, string)  # Matches first empty space\n",
    "match  "
   ]
  },
  {
   "cell_type": "code",
   "execution_count": 36,
   "metadata": {},
   "outputs": [
    {
     "data": {
      "text/plain": [
       "<_sre.SRE_Match object; span=(18, 21), match='111'>"
      ]
     },
     "execution_count": 36,
     "metadata": {},
     "output_type": "execute_result"
    }
   ],
   "source": [
    "pattern = r'\\d+'  # \\d is a short hand for [0-9]\n",
    "string = 'This is my number 111-456-7890... Gimme a ring.'\n",
    "match = re.search(pattern, string)\n",
    "match"
   ]
  },
  {
   "cell_type": "code",
   "execution_count": 37,
   "metadata": {},
   "outputs": [
    {
     "data": {
      "text/plain": [
       "<_sre.SRE_Match object; span=(0, 18), match='This is my number '>"
      ]
     },
     "execution_count": 37,
     "metadata": {},
     "output_type": "execute_result"
    }
   ],
   "source": [
    "pattern = r'\\D+'  # \\D is a short hand for the inverse of \\d [^0-9]\n",
    "string = 'This is my number 111-456-7890... Gimme a ring.'\n",
    "match = re.search(pattern, string)\n",
    "match"
   ]
  },
  {
   "cell_type": "code",
   "execution_count": 38,
   "metadata": {},
   "outputs": [
    {
     "data": {
      "text/plain": [
       "<_sre.SRE_Match object; span=(4, 5), match=' '>"
      ]
     },
     "execution_count": 38,
     "metadata": {},
     "output_type": "execute_result"
    }
   ],
   "source": [
    "pattern = r'\\s+'  # \\s is a short hand for whitespace [ \\t\\n\\r\\f\\v]\n",
    "string = 'This is my number 111-456-7890... Gimme a ring.'\n",
    "match = re.search(pattern, string)\n",
    "match"
   ]
  },
  {
   "cell_type": "code",
   "execution_count": 39,
   "metadata": {},
   "outputs": [
    {
     "data": {
      "text/plain": [
       "<_sre.SRE_Match object; span=(0, 4), match='This'>"
      ]
     },
     "execution_count": 39,
     "metadata": {},
     "output_type": "execute_result"
    }
   ],
   "source": [
    "pattern = r'\\S+'  # \\S is a short hand for the inverse of \\s [^ \\t\\n\\r\\f\\v]\n",
    "string = 'This is my number 111-456-7890... Gimme a ring.'\n",
    "match = re.search(pattern, string)\n",
    "match"
   ]
  },
  {
   "cell_type": "code",
   "execution_count": 40,
   "metadata": {},
   "outputs": [
    {
     "data": {
      "text/plain": [
       "['This', 'is', 'my', 'number', '111-456-7890...', 'Gimme', 'a', 'ring.']"
      ]
     },
     "execution_count": 40,
     "metadata": {},
     "output_type": "execute_result"
    }
   ],
   "source": [
    "# Find all tokens in string...\n",
    "pattern = r'\\S+'  # A token is a non-empty string of one or more characters\n",
    "string = 'This is my number 111-456-7890... Gimme a ring.'\n",
    "re.findall(pattern, string)"
   ]
  },
  {
   "cell_type": "markdown",
   "metadata": {},
   "source": [
    "##### Exercises\n",
    "\n",
    "1. Write a regex to find all groups of numbers in the following string:\n",
    "    - 'This is my number 111-456-7890... Gimme a ring.'\n",
    "\n",
    "    \n",
    "2. Write an expression to find the number of As followed by Bs\n",
    "    - 'ABBBABABBBABBABABAAABABABAAAABABABABABAABABABABAB'"
   ]
  },
  {
   "cell_type": "code",
   "execution_count": 42,
   "metadata": {},
   "outputs": [
    {
     "data": {
      "text/plain": [
       "['111', '456', '7890']"
      ]
     },
     "execution_count": 42,
     "metadata": {},
     "output_type": "execute_result"
    }
   ],
   "source": [
    "### Strip for lecture\n",
    "pattern = r'\\d+'\n",
    "string = 'This is my number 111-456-7890... Gimme a ring.'\n",
    "re.findall(pattern, string)"
   ]
  },
  {
   "cell_type": "code",
   "execution_count": 43,
   "metadata": {},
   "outputs": [
    {
     "data": {
      "text/plain": [
       "19"
      ]
     },
     "execution_count": 43,
     "metadata": {},
     "output_type": "execute_result"
    }
   ],
   "source": [
    "### Strip for lecture\n",
    "pattern = r'AB'\n",
    "string = 'ABBBABABBBABBABABAAABABABAAAABABABABABAABABABABAB'\n",
    "len(re.findall(pattern, string))"
   ]
  },
  {
   "cell_type": "code",
   "execution_count": 44,
   "metadata": {},
   "outputs": [
    {
     "data": {
      "text/plain": [
       "('111', '456', '7890')"
      ]
     },
     "execution_count": 44,
     "metadata": {},
     "output_type": "execute_result"
    }
   ],
   "source": [
    "pattern = r'(\\d{3})-(\\d{3})-(\\d{4})'  # () creates a group\n",
    "string = 'This is my number 111-456-7890... Gimme a ring.'\n",
    "match = re.search(pattern, string)\n",
    "match.groups()"
   ]
  },
  {
   "cell_type": "code",
   "execution_count": 45,
   "metadata": {},
   "outputs": [
    {
     "data": {
      "text/plain": [
       "'111'"
      ]
     },
     "execution_count": 45,
     "metadata": {},
     "output_type": "execute_result"
    }
   ],
   "source": [
    "match.group(1)  # Can access groups by number by default"
   ]
  },
  {
   "cell_type": "code",
   "execution_count": 46,
   "metadata": {},
   "outputs": [],
   "source": [
    "# How will we parse out phone numbers in several different formats?\n",
    "PHONE_NUMBERS = \"\"\"\n",
    "111-456-7890\n",
    "2228901234\n",
    "333.456.3847\n",
    "333..456.3847\n",
    "(444) 456-7890\n",
    "\"\"\""
   ]
  },
  {
   "cell_type": "code",
   "execution_count": 47,
   "metadata": {},
   "outputs": [],
   "source": [
    "def find_numbers(pattern, numbers):\n",
    "    for line in numbers.strip().split('\\n'):\n",
    "        number_line = line.strip()\n",
    "        # just like search but only matches at beginning of string\n",
    "        match = pattern.search(number_line)\n",
    "        if match:\n",
    "            print(number_line, '=>', match.groups())\n",
    "        else:\n",
    "            print(number_line, '=>', 'No match')"
   ]
  },
  {
   "cell_type": "code",
   "execution_count": 48,
   "metadata": {},
   "outputs": [
    {
     "name": "stdout",
     "output_type": "stream",
     "text": [
      "111-456-7890 => ('111', '456', '7890')\n",
      "2228901234 => No match\n",
      "333.456.3847 => No match\n",
      "333..456.3847 => No match\n",
      "(444) 456-7890 => No match\n"
     ]
    }
   ],
   "source": [
    "# We can complie a pattern for faster speed.\n",
    "# We have to use the search and match methods on a compile pattern.\n",
    "pattern = re.compile(r'^(\\d{3})-(\\d{3})-(\\d{4})$') \n",
    "find_numbers(pattern, PHONE_NUMBERS)"
   ]
  },
  {
   "cell_type": "code",
   "execution_count": 49,
   "metadata": {},
   "outputs": [
    {
     "name": "stdout",
     "output_type": "stream",
     "text": [
      "111-456-7890 => ('111', '456', '7890')\n",
      "2228901234 => ('222', '890', '1234')\n",
      "333.456.3847 => No match\n",
      "333..456.3847 => No match\n",
      "(444) 456-7890 => No match\n"
     ]
    }
   ],
   "source": [
    "# ? matches 0 or 1 instances of last character set\n",
    "pattern = re.compile(r'^(\\d{3})-?(\\d{3})-?(\\d{4})$')  \n",
    "find_numbers(pattern, PHONE_NUMBERS)"
   ]
  },
  {
   "cell_type": "code",
   "execution_count": 50,
   "metadata": {},
   "outputs": [
    {
     "name": "stdout",
     "output_type": "stream",
     "text": [
      "111-456-7890 => ('111', '-', '456', '-', '7890')\n",
      "2228901234 => ('222', '', '890', '', '1234')\n",
      "333.456.3847 => ('333', '.', '456', '.', '3847')\n",
      "333..456.3847 => ('333', '..', '456', '.', '3847')\n",
      "(444) 456-7890 => No match\n"
     ]
    }
   ],
   "source": [
    "# \\D matches a non-integer character. * match 0 or more instances of last character set.\n",
    "pattern = re.compile(r'^(\\d{3})(\\D*)(\\d{3})(\\D*)(\\d{4})$') \n",
    "find_numbers(pattern, PHONE_NUMBERS)"
   ]
  },
  {
   "cell_type": "code",
   "execution_count": 51,
   "metadata": {},
   "outputs": [
    {
     "name": "stdout",
     "output_type": "stream",
     "text": [
      "111-456-7890 => ('111', '456', '7890')\n",
      "2228901234 => ('222', '890', '1234')\n",
      "333.456.3847 => ('333', '456', '3847')\n",
      "333..456.3847 => ('333', '456', '3847')\n",
      "(444) 456-7890 => ('444', '456', '7890')\n"
     ]
    }
   ],
   "source": [
    "# Putting it all together.\n",
    "pattern = re.compile(r'^\\D*(\\d{3})\\D*(\\d{3})\\D*(\\d{4})$')\n",
    "find_numbers(pattern, PHONE_NUMBERS)"
   ]
  },
  {
   "cell_type": "code",
   "execution_count": 52,
   "metadata": {},
   "outputs": [
    {
     "data": {
      "text/plain": [
       "(None, '800', 'kid', 'CARS')"
      ]
     },
     "execution_count": 52,
     "metadata": {},
     "output_type": "execute_result"
    }
   ],
   "source": [
    "pattern = r'(1)?-?(\\w{3})-(\\w{3})-(\\w{4})'\n",
    "string = '800-kid-CARS'\n",
    "match = re.match(pattern, string)\n",
    "match.groups()"
   ]
  },
  {
   "cell_type": "code",
   "execution_count": 53,
   "metadata": {},
   "outputs": [
    {
     "name": "stdout",
     "output_type": "stream",
     "text": [
      "('Mary-Jo',)\n"
     ]
    }
   ],
   "source": [
    "# Match a mid-west name\n",
    "pattern = r'([A-Za-z-]+)'\n",
    "string = 'Mary-Jo how are you'\n",
    "\n",
    "match = re.match(pattern, string)\n",
    "if match:\n",
    "    data = match.groups()\n",
    "else:\n",
    "    data = ()\n",
    "\n",
    "print(data)"
   ]
  },
  {
   "cell_type": "code",
   "execution_count": 57,
   "metadata": {},
   "outputs": [
    {
     "data": {
      "text/plain": [
       "'Mary-Jo'"
      ]
     },
     "execution_count": 57,
     "metadata": {},
     "output_type": "execute_result"
    }
   ],
   "source": [
    "match.group(1)"
   ]
  },
  {
   "cell_type": "code",
   "execution_count": 58,
   "metadata": {},
   "outputs": [
    {
     "name": "stdout",
     "output_type": "stream",
     "text": [
      "('Mary-Jo', 'Lue-ellen')\n",
      "Mary-Jo\n",
      "Lue-ellen\n"
     ]
    }
   ],
   "source": [
    "# Named groups\n",
    "pattern = r'^(?P<first_name>[A-Za-z-]+) (?P<last_name>[A-Za-z-]+)$'\n",
    "string = 'Mary-Jo Lue-ellen'\n",
    "match = re.match(pattern, string)\n",
    "print(match.groups())\n",
    "print(match.group('first_name'))\n",
    "print(match.group('last_name'))"
   ]
  },
  {
   "cell_type": "code",
   "execution_count": null,
   "metadata": {},
   "outputs": [],
   "source": [
    "match.group(2)"
   ]
  },
  {
   "cell_type": "code",
   "execution_count": null,
   "metadata": {},
   "outputs": [],
   "source": [
    "# Flags\n",
    "pattern = r'''\n",
    "    ^                        # match beginning of string\n",
    "    (?P<first_name>[A-Z-]+)  # match first name\n",
    "    \\s+                      # match space between names\n",
    "    (?P<last_name>[A-Z-]+)   # match last name\n",
    "    $                        # match end of string\n",
    "'''\n",
    "\n",
    "string = 'Mary-Jo Lue-ellen'\n",
    "flags = (\n",
    "    re.IGNORECASE |  # Match against upper and lower case with one case\n",
    "    re.VERBOSE  # Match with comments\n",
    ")\n",
    "match = re.match(pattern, string, flags=flags)\n",
    "\n",
    "print(match.groups())\n",
    "print(match.group('first_name'))\n",
    "print(match.group('last_name'))"
   ]
  }
 ],
 "metadata": {
  "kernelspec": {
   "display_name": "Python 3",
   "language": "python",
   "name": "python3"
  },
  "language_info": {
   "codemirror_mode": {
    "name": "ipython",
    "version": 3
   },
   "file_extension": ".py",
   "mimetype": "text/x-python",
   "name": "python",
   "nbconvert_exporter": "python",
   "pygments_lexer": "ipython3",
   "version": "3.6.7"
  }
 },
 "nbformat": 4,
 "nbformat_minor": 2
}
