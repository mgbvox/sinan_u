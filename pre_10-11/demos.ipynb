{
 "cells": [
  {
   "cell_type": "code",
   "execution_count": 9,
   "metadata": {},
   "outputs": [
    {
     "data": {
      "text/plain": [
       "'@'"
      ]
     },
     "execution_count": 9,
     "metadata": {},
     "output_type": "execute_result"
    }
   ],
   "source": [
    "chr(ord('A')-1)"
   ]
  },
  {
   "cell_type": "code",
   "execution_count": 17,
   "metadata": {},
   "outputs": [
    {
     "data": {
      "text/plain": [
       "True"
      ]
     },
     "execution_count": 17,
     "metadata": {},
     "output_type": "execute_result"
    }
   ],
   "source": [
    "'A'.isalpha()"
   ]
  },
  {
   "cell_type": "code",
   "execution_count": 13,
   "metadata": {},
   "outputs": [
    {
     "ename": "AttributeError",
     "evalue": "module 'string' has no attribute 'alpha'",
     "output_type": "error",
     "traceback": [
      "\u001b[0;31m---------------------------------------------------------------------------\u001b[0m",
      "\u001b[0;31mAttributeError\u001b[0m                            Traceback (most recent call last)",
      "\u001b[0;32m<ipython-input-13-a21294b3ca03>\u001b[0m in \u001b[0;36m<module>\u001b[0;34m\u001b[0m\n\u001b[1;32m      1\u001b[0m \u001b[0;32mimport\u001b[0m \u001b[0mstring\u001b[0m\u001b[0;34m\u001b[0m\u001b[0;34m\u001b[0m\u001b[0m\n\u001b[0;32m----> 2\u001b[0;31m \u001b[0;34m'a'\u001b[0m \u001b[0;32min\u001b[0m \u001b[0mstring\u001b[0m\u001b[0;34m.\u001b[0m\u001b[0malpha\u001b[0m\u001b[0;34m\u001b[0m\u001b[0;34m\u001b[0m\u001b[0m\n\u001b[0m",
      "\u001b[0;31mAttributeError\u001b[0m: module 'string' has no attribute 'alpha'"
     ]
    }
   ],
   "source": [
    "import string\n",
    "'a' in string.alpha"
   ]
  },
  {
   "cell_type": "code",
   "execution_count": 16,
   "metadata": {},
   "outputs": [
    {
     "data": {
      "text/plain": [
       "True"
      ]
     },
     "execution_count": 16,
     "metadata": {},
     "output_type": "execute_result"
    }
   ],
   "source": [
    "\n",
    "'a' in string.ascii_letters"
   ]
  },
  {
   "cell_type": "code",
   "execution_count": 20,
   "metadata": {},
   "outputs": [
    {
     "name": "stdout",
     "output_type": "stream",
     "text": [
      "1 -> \u0001\n",
      "2 -> \u0002\n",
      "3 -> \u0003\n",
      "4 -> \u0004\n",
      "5 -> \u0005\n",
      "6 -> \u0006\n",
      "7 -> \u0007\n",
      "8 ->\n",
      "9 -> \t\n",
      "10 -> \n",
      "\n",
      "11 -> \u000b",
      "\n",
      "12 -> \f",
      "\n",
      "13 -> \n",
      "14 -> \u000e\n",
      "15 -> \u000f\n",
      "16 -> \u0010\n",
      "17 -> \u0011\n",
      "18 -> \u0012\n",
      "19 -> \u0013\n",
      "20 -> \u0014\n",
      "21 -> \u0015\n",
      "22 -> \u0016\n",
      "23 -> \u0017\n",
      "24 -> \u0018\n",
      "25 -> \u0019\n",
      "26 -> \u001a\n",
      "27 -> \u001b\n",
      "28 -> \u001c",
      "\n",
      "29 -> \u001d",
      "\n",
      "30 -> \u001e",
      "\n",
      "31 -> \u001f\n",
      "32 ->  \n",
      "33 -> !\n",
      "34 -> \"\n",
      "35 -> #\n",
      "36 -> $\n",
      "37 -> %\n",
      "38 -> &\n",
      "39 -> '\n",
      "40 -> (\n",
      "41 -> )\n",
      "42 -> *\n",
      "43 -> +\n",
      "44 -> ,\n",
      "45 -> -\n",
      "46 -> .\n",
      "47 -> /\n",
      "48 -> 0\n",
      "49 -> 1\n",
      "50 -> 2\n",
      "51 -> 3\n",
      "52 -> 4\n",
      "53 -> 5\n",
      "54 -> 6\n",
      "55 -> 7\n",
      "56 -> 8\n",
      "57 -> 9\n",
      "58 -> :\n",
      "59 -> ;\n",
      "60 -> <\n",
      "61 -> =\n",
      "62 -> >\n",
      "63 -> ?\n",
      "64 -> @\n",
      "65 -> A\n",
      "66 -> B\n",
      "67 -> C\n",
      "68 -> D\n",
      "69 -> E\n",
      "70 -> F\n",
      "71 -> G\n",
      "72 -> H\n",
      "73 -> I\n",
      "74 -> J\n",
      "75 -> K\n",
      "76 -> L\n",
      "77 -> M\n",
      "78 -> N\n",
      "79 -> O\n",
      "80 -> P\n",
      "81 -> Q\n",
      "82 -> R\n",
      "83 -> S\n",
      "84 -> T\n",
      "85 -> U\n",
      "86 -> V\n",
      "87 -> W\n",
      "88 -> X\n",
      "89 -> Y\n",
      "90 -> Z\n",
      "91 -> [\n",
      "92 -> \\\n",
      "93 -> ]\n",
      "94 -> ^\n",
      "95 -> _\n",
      "96 -> `\n",
      "97 -> a\n",
      "98 -> b\n",
      "99 -> c\n",
      "100 -> d\n",
      "101 -> e\n",
      "102 -> f\n",
      "103 -> g\n",
      "104 -> h\n",
      "105 -> i\n",
      "106 -> j\n",
      "107 -> k\n",
      "108 -> l\n",
      "109 -> m\n",
      "110 -> n\n",
      "111 -> o\n",
      "112 -> p\n",
      "113 -> q\n",
      "114 -> r\n",
      "115 -> s\n",
      "116 -> t\n",
      "117 -> u\n",
      "118 -> v\n",
      "119 -> w\n",
      "120 -> x\n",
      "121 -> y\n",
      "122 -> z\n",
      "123 -> {\n",
      "124 -> |\n",
      "125 -> }\n",
      "126 -> ~\n",
      "127 -> \n",
      "128 -> \n",
      "129 -> \n",
      "130 -> \n",
      "131 -> \n",
      "132 -> \n",
      "133 -> ",
      "\n",
      "134 -> \n",
      "135 -> \n",
      "136 -> \n",
      "137 -> \n",
      "138 -> \n",
      "139 -> \n",
      "140 -> \n",
      "141 -> \n",
      "142 -> \n",
      "143 -> \n",
      "144 -> \n",
      "145 -> \n",
      "146 -> \n",
      "147 -> \n",
      "148 -> \n",
      "149 -> \n",
      "150 -> \n",
      "151 -> \n",
      "152 -> \n",
      "153 -> \n",
      "154 -> \n",
      "155 -> \n",
      "156 -> \n",
      "157 -> \n",
      "158 -> \n",
      "159 -> \n",
      "160 ->  \n",
      "161 -> ¡\n",
      "162 -> ¢\n",
      "163 -> £\n",
      "164 -> ¤\n",
      "165 -> ¥\n",
      "166 -> ¦\n",
      "167 -> §\n",
      "168 -> ¨\n",
      "169 -> ©\n",
      "170 -> ª\n",
      "171 -> «\n",
      "172 -> ¬\n",
      "173 -> ­\n",
      "174 -> ®\n",
      "175 -> ¯\n",
      "176 -> °\n",
      "177 -> ±\n",
      "178 -> ²\n",
      "179 -> ³\n",
      "180 -> ´\n",
      "181 -> µ\n",
      "182 -> ¶\n",
      "183 -> ·\n",
      "184 -> ¸\n",
      "185 -> ¹\n",
      "186 -> º\n",
      "187 -> »\n",
      "188 -> ¼\n",
      "189 -> ½\n",
      "190 -> ¾\n",
      "191 -> ¿\n",
      "192 -> À\n",
      "193 -> Á\n",
      "194 -> Â\n",
      "195 -> Ã\n",
      "196 -> Ä\n",
      "197 -> Å\n",
      "198 -> Æ\n",
      "199 -> Ç\n"
     ]
    }
   ],
   "source": [
    "for i in range(1,200):\n",
    "    print(f'{i} -> {chr(i)}')"
   ]
  },
  {
   "cell_type": "code",
   "execution_count": 23,
   "metadata": {},
   "outputs": [
    {
     "name": "stdout",
     "output_type": "stream",
     "text": [
      "a\n"
     ]
    }
   ],
   "source": [
    "lst = 'a'\n",
    "\n",
    "for banana in lst:\n",
    "    print(banana)"
   ]
  },
  {
   "cell_type": "code",
   "execution_count": 25,
   "metadata": {},
   "outputs": [],
   "source": [
    "def add_even_five():\n",
    "    res = []\n",
    "    for i in range(100):\n",
    "        if i%2 == 0:\n",
    "            res.append(i+5)\n",
    "        else:\n",
    "            res.append(i)\n",
    "    return res"
   ]
  },
  {
   "cell_type": "code",
   "execution_count": 26,
   "metadata": {},
   "outputs": [],
   "source": [
    "\n",
    "\n",
    "def word_frequency(inp, wl=[]):\n",
    "    spt = inp.lower().split()\n",
    "    cleaned = []\n",
    "    for w in spt:\n",
    "        if not w[-1].isalpha():\n",
    "            w = w[:-1]\n",
    "        cleaned.append(w)\n",
    "\n",
    "    if wl:\n",
    "        l_wl = []\n",
    "        for element in wl:\n",
    "            l_wl.append(element.lower())\n",
    "        wl = l_wl\n",
    "    else:\n",
    "        wl = list(set(cleaned))\n",
    "\n",
    "\n",
    "    freq_dict = {i:0 for i in wl}\n",
    "\n",
    "    for w in cleaned:\n",
    "        if w in wl:\n",
    "            freq_dict[w] += 1\n",
    "\n",
    "    return freq_dict\n"
   ]
  },
  {
   "cell_type": "code",
   "execution_count": 27,
   "metadata": {},
   "outputs": [
    {
     "data": {
      "text/plain": [
       "{'hi': 1, 'a': 1}"
      ]
     },
     "execution_count": 27,
     "metadata": {},
     "output_type": "execute_result"
    }
   ],
   "source": [
    "word_frequency('Hi, I am a human', wl=['hi','a'])"
   ]
  },
  {
   "cell_type": "code",
   "execution_count": 11,
   "metadata": {},
   "outputs": [],
   "source": [
    "import pandas as pd"
   ]
  },
  {
   "cell_type": "code",
   "execution_count": 14,
   "metadata": {},
   "outputs": [
    {
     "data": {
      "text/plain": [
       "am       1\n",
       "a        1\n",
       "Human    1\n",
       "I        1\n",
       "Hi,      1\n",
       "dtype: int64"
      ]
     },
     "execution_count": 14,
     "metadata": {},
     "output_type": "execute_result"
    }
   ],
   "source": [
    "pd.Series('Hi, I am a Human'.split()).value_counts()"
   ]
  },
  {
   "cell_type": "code",
   "execution_count": 42,
   "metadata": {},
   "outputs": [
    {
     "name": "stdout",
     "output_type": "stream",
     "text": [
      "{'b': 1, 'a': 2}\n"
     ]
    }
   ],
   "source": [
    "l = ['a', 'a', 'b']\n",
    "wl = list(set(l))\n",
    "d = {i:0 for i in wl}\n",
    "#print(l,d)\n",
    "\n",
    "\n",
    "for i in l:\n",
    "    d[i] += 1\n",
    "\n",
    "print(d)"
   ]
  },
  {
   "cell_type": "code",
   "execution_count": 35,
   "metadata": {},
   "outputs": [],
   "source": [
    "x = 0"
   ]
  },
  {
   "cell_type": "code",
   "execution_count": 40,
   "metadata": {},
   "outputs": [],
   "source": [
    "x += 1"
   ]
  },
  {
   "cell_type": "code",
   "execution_count": 41,
   "metadata": {},
   "outputs": [
    {
     "data": {
      "text/plain": [
       "4"
      ]
     },
     "execution_count": 41,
     "metadata": {},
     "output_type": "execute_result"
    }
   ],
   "source": [
    "x"
   ]
  },
  {
   "cell_type": "code",
   "execution_count": null,
   "metadata": {},
   "outputs": [],
   "source": []
  }
 ],
 "metadata": {
  "kernelspec": {
   "display_name": "data_science",
   "language": "python",
   "name": "data_science"
  },
  "language_info": {
   "codemirror_mode": {
    "name": "ipython",
    "version": 3
   },
   "file_extension": ".py",
   "mimetype": "text/x-python",
   "name": "python",
   "nbconvert_exporter": "python",
   "pygments_lexer": "ipython3",
   "version": "3.6.7"
  }
 },
 "nbformat": 4,
 "nbformat_minor": 2
}
