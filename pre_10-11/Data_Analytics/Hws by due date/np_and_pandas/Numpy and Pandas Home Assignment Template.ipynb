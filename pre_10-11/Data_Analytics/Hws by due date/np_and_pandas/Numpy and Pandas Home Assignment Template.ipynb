{
 "cells": [
  {
   "cell_type": "markdown",
   "metadata": {},
   "source": [
    "<h1>Numpy and Pandas Home Assignment</h1>\n",
    "In this assignment, we will use pandas and numpy to do some fairly basic analysis on equities."
   ]
  },
  {
   "cell_type": "markdown",
   "metadata": {},
   "source": [
    "<h3>Imports</h3>"
   ]
  },
  {
   "cell_type": "code",
   "execution_count": 4,
   "metadata": {},
   "outputs": [],
   "source": [
    "!pip install --upgrade --quiet yfinance pandas-datareader"
   ]
  },
  {
   "cell_type": "code",
   "execution_count": 1,
   "metadata": {
    "collapsed": true
   },
   "outputs": [],
   "source": [
    "import datetime\n",
    "import numpy as np\n",
    "import pandas as pd\n",
    "%matplotlib inline\n",
    "import pandas_datareader.data as web\n",
    "import yfinance as yf"
   ]
  },
  {
   "cell_type": "markdown",
   "metadata": {},
   "source": [
    "<h3>Get data on the following four stocks from yahoo finance</h3>\n",
    "<li>MS, GS, JPM, C\n",
    "<li>Use the date range 2013/1/1/ to 2018/9/24"
   ]
  },
  {
   "cell_type": "code",
   "execution_count": 2,
   "metadata": {
    "collapsed": true
   },
   "outputs": [],
   "source": [
    "MS = yf.Ticker(\"MS\").history(period=\"max\")['2013-1-1':'2018-9-24']\n",
    "GS = yf.Ticker(\"GS\").history(period=\"max\")['2013-1-1':'2018-9-24']\n",
    "JPM = yf.Ticker(\"JPM\").history(period=\"max\")['2013-1-1':'2018-9-24']\n",
    "C = yf.Ticker(\"C\").history(period=\"max\")['2013-1-1':'2018-9-24']"
   ]
  },
  {
   "cell_type": "code",
   "execution_count": null,
   "metadata": {},
   "outputs": [],
   "source": []
  },
  {
   "cell_type": "markdown",
   "metadata": {},
   "source": [
    "<h3>Compute the cross correlation coefficients on the stocks</h3>\n",
    "<li>Create a df 'rets' with the one day percentage changes\n",
    "<li>Calculate cross correlations on the rets df"
   ]
  },
  {
   "cell_type": "code",
   "execution_count": 3,
   "metadata": {
    "collapsed": true
   },
   "outputs": [
    {
     "data": {
      "text/html": [
       "<div>\n",
       "<style scoped>\n",
       "    .dataframe tbody tr th:only-of-type {\n",
       "        vertical-align: middle;\n",
       "    }\n",
       "\n",
       "    .dataframe tbody tr th {\n",
       "        vertical-align: top;\n",
       "    }\n",
       "\n",
       "    .dataframe thead th {\n",
       "        text-align: right;\n",
       "    }\n",
       "</style>\n",
       "<table border=\"1\" class=\"dataframe\">\n",
       "  <thead>\n",
       "    <tr style=\"text-align: right;\">\n",
       "      <th></th>\n",
       "      <th>MS</th>\n",
       "      <th>GS</th>\n",
       "      <th>JPM</th>\n",
       "      <th>C</th>\n",
       "    </tr>\n",
       "  </thead>\n",
       "  <tbody>\n",
       "    <tr>\n",
       "      <th>MS</th>\n",
       "      <td>1.000000</td>\n",
       "      <td>0.844603</td>\n",
       "      <td>0.802317</td>\n",
       "      <td>0.809920</td>\n",
       "    </tr>\n",
       "    <tr>\n",
       "      <th>GS</th>\n",
       "      <td>0.844603</td>\n",
       "      <td>1.000000</td>\n",
       "      <td>0.815541</td>\n",
       "      <td>0.791714</td>\n",
       "    </tr>\n",
       "    <tr>\n",
       "      <th>JPM</th>\n",
       "      <td>0.802317</td>\n",
       "      <td>0.815541</td>\n",
       "      <td>1.000000</td>\n",
       "      <td>0.852206</td>\n",
       "    </tr>\n",
       "    <tr>\n",
       "      <th>C</th>\n",
       "      <td>0.809920</td>\n",
       "      <td>0.791714</td>\n",
       "      <td>0.852206</td>\n",
       "      <td>1.000000</td>\n",
       "    </tr>\n",
       "  </tbody>\n",
       "</table>\n",
       "</div>"
      ],
      "text/plain": [
       "           MS        GS       JPM         C\n",
       "MS   1.000000  0.844603  0.802317  0.809920\n",
       "GS   0.844603  1.000000  0.815541  0.791714\n",
       "JPM  0.802317  0.815541  1.000000  0.852206\n",
       "C    0.809920  0.791714  0.852206  1.000000"
      ]
     },
     "execution_count": 3,
     "metadata": {},
     "output_type": "execute_result"
    }
   ],
   "source": [
    "rets = pd.concat([MS['Close'].pct_change().fillna(method='bfill'),\n",
    "            GS['Close'].pct_change().fillna(method='bfill'),\n",
    "            JPM['Close'].pct_change().fillna(method='bfill'),\n",
    "            C['Close'].pct_change().fillna(method='bfill')], axis=1)\n",
    "rets.columns = ['MS', 'GS', 'JPM', 'C']\n",
    "rets.corr()"
   ]
  },
  {
   "cell_type": "markdown",
   "metadata": {},
   "source": [
    "<h3>Select a pair of stocks to trade</h3>\n",
    "<li>Choose the pair with the highest correlation\n",
    "<li>You can just eyeball the result and pick the highest correlation pairs\n",
    "<li>Create a new df 'pairs' with the returns columns of the highest correlation pairs"
   ]
  },
  {
   "cell_type": "code",
   "execution_count": 4,
   "metadata": {
    "collapsed": true
   },
   "outputs": [
    {
     "data": {
      "text/html": [
       "<div>\n",
       "<style scoped>\n",
       "    .dataframe tbody tr th:only-of-type {\n",
       "        vertical-align: middle;\n",
       "    }\n",
       "\n",
       "    .dataframe tbody tr th {\n",
       "        vertical-align: top;\n",
       "    }\n",
       "\n",
       "    .dataframe thead th {\n",
       "        text-align: right;\n",
       "    }\n",
       "</style>\n",
       "<table border=\"1\" class=\"dataframe\">\n",
       "  <thead>\n",
       "    <tr style=\"text-align: right;\">\n",
       "      <th></th>\n",
       "      <th>JPM</th>\n",
       "      <th>C</th>\n",
       "    </tr>\n",
       "    <tr>\n",
       "      <th>Date</th>\n",
       "      <th></th>\n",
       "      <th></th>\n",
       "    </tr>\n",
       "  </thead>\n",
       "  <tbody>\n",
       "    <tr>\n",
       "      <th>2013-01-02</th>\n",
       "      <td>37.123642</td>\n",
       "      <td>38.420940</td>\n",
       "    </tr>\n",
       "    <tr>\n",
       "      <th>2013-01-03</th>\n",
       "      <td>37.048836</td>\n",
       "      <td>38.551334</td>\n",
       "    </tr>\n",
       "    <tr>\n",
       "      <th>2013-01-04</th>\n",
       "      <td>37.705509</td>\n",
       "      <td>39.520012</td>\n",
       "    </tr>\n",
       "    <tr>\n",
       "      <th>2013-01-07</th>\n",
       "      <td>37.747082</td>\n",
       "      <td>39.557259</td>\n",
       "    </tr>\n",
       "    <tr>\n",
       "      <th>2013-01-08</th>\n",
       "      <td>37.821896</td>\n",
       "      <td>39.547947</td>\n",
       "    </tr>\n",
       "  </tbody>\n",
       "</table>\n",
       "</div>"
      ],
      "text/plain": [
       "                  JPM          C\n",
       "Date                            \n",
       "2013-01-02  37.123642  38.420940\n",
       "2013-01-03  37.048836  38.551334\n",
       "2013-01-04  37.705509  39.520012\n",
       "2013-01-07  37.747082  39.557259\n",
       "2013-01-08  37.821896  39.547947"
      ]
     },
     "execution_count": 4,
     "metadata": {},
     "output_type": "execute_result"
    }
   ],
   "source": [
    "pairs = pd.concat([JPM['Close'],C['Close']], axis=1)\n",
    "pairs.columns = ['JPM', 'C']\n",
    "pairs.head()"
   ]
  },
  {
   "cell_type": "markdown",
   "metadata": {},
   "source": [
    "<h3>Calculate the mean and std dev of the columns (returns of the two stocks)</h3>\n",
    "<li>Note that line 1 contains a NaN. You'll have to get rid of this line\n",
    "<li>df.describe() returns summary stats for all cols in a dataframe. You can use this to extract means and standard deviations"
   ]
  },
  {
   "cell_type": "code",
   "execution_count": 5,
   "metadata": {},
   "outputs": [],
   "source": [
    "new_df = rets[['C','JPM']].iloc[1:-1]\n",
    "c_std = new_df.describe()['C']['std']\n",
    "j_std = new_df.describe()['JPM']['std']\n",
    "c_mean = new_df.describe()['C']['mean']\n",
    "j_mean = new_df.describe()['JPM']['mean']"
   ]
  },
  {
   "cell_type": "markdown",
   "metadata": {},
   "source": [
    "<h3>Create a new column \"Long_JPM_Short_C\"</h3>\n",
    "<li>If the return of C is greater than its mean + 0.25* std\n",
    "<li> AND\n",
    "<li>If the return of JPM is less than its mean - 0.25*std\n",
    "<li>The value in this col should be True or False"
   ]
  },
  {
   "cell_type": "code",
   "execution_count": 6,
   "metadata": {
    "collapsed": true
   },
   "outputs": [],
   "source": [
    "rets['Long_JPM_Short_C'] = ((rets['C'] > (c_mean+(0.25*c_std))) & (rets['JPM'] < (j_mean-(0.25*j_std))))"
   ]
  },
  {
   "cell_type": "markdown",
   "metadata": {},
   "source": [
    "<h3>Create a new column \"Long_C_Short_JPM\"</h3>\n",
    "<li>If the return of JPM is greater than its mean + 0.25* std\n",
    "<li> AND\n",
    "<li>If the return of C is less than its mean - 0.25*std\n",
    "<li>The value in this col should be True or False"
   ]
  },
  {
   "cell_type": "code",
   "execution_count": 7,
   "metadata": {
    "collapsed": true
   },
   "outputs": [],
   "source": [
    "rets['Long_C_Short_JPM'] = ((rets['JPM'] > (j_mean+(0.25*j_std))) & (rets['C'] < (c_mean-(0.25*c_std))))"
   ]
  },
  {
   "cell_type": "markdown",
   "metadata": {},
   "source": [
    "<h3>Create a new column \"Trade_return\"</h3>\n",
    "<li>If Long_JPM_Short_C is True and Long_C_Short_JPM is False, the value of this column should be the return on JPM minus the return on C\n",
    "<li>If Long_JPM_Short_C is False and Long_C_Short_JPM is True, the value of this column should be the return on C minus the return on JPM\n",
    "<li>Otherwise the value should be zero"
   ]
  },
  {
   "cell_type": "code",
   "execution_count": 9,
   "metadata": {},
   "outputs": [],
   "source": [
    "a = rets[rets['Long_JPM_Short_C'] & ~rets['Long_C_Short_JPM']]\n",
    "a_true_vals = a['JPM']-a['C']\n",
    "a_idx = a.index\n",
    "\n",
    "\n",
    "b = rets[~rets['Long_JPM_Short_C'] & rets['Long_C_Short_JPM']]\n",
    "b_true_vals = b['C']-b['JPM']\n",
    "b_idx = b.index\n",
    "\n",
    "rets['Trade_return'] = 0\n",
    "\n",
    "rets['Trade_return'].loc[a_idx] = a_true_vals\n",
    "rets['Trade_return'].loc[b_idx] = b_true_vals"
   ]
  },
  {
   "cell_type": "code",
   "execution_count": 10,
   "metadata": {
    "collapsed": true
   },
   "outputs": [],
   "source": [
    "pairs['Trade_return'] = rets['Trade_return']"
   ]
  },
  {
   "cell_type": "markdown",
   "metadata": {},
   "source": [
    "<h3>Calculate the sum of this new column</h3>\n",
    "<li>Are you going to get rich?"
   ]
  },
  {
   "cell_type": "code",
   "execution_count": 11,
   "metadata": {
    "collapsed": true
   },
   "outputs": [
    {
     "data": {
      "text/plain": [
       "-0.6496463025381582"
      ]
     },
     "execution_count": 11,
     "metadata": {},
     "output_type": "execute_result"
    }
   ],
   "source": [
    "sum(pairs['Trade_return'])"
   ]
  },
  {
   "cell_type": "code",
   "execution_count": null,
   "metadata": {},
   "outputs": [],
   "source": []
  }
 ],
 "metadata": {
  "kernelspec": {
   "display_name": "data_science",
   "language": "python",
   "name": "data_science"
  },
  "language_info": {
   "codemirror_mode": {
    "name": "ipython",
    "version": 3
   },
   "file_extension": ".py",
   "mimetype": "text/x-python",
   "name": "python",
   "nbconvert_exporter": "python",
   "pygments_lexer": "ipython3",
   "version": "3.6.7"
  }
 },
 "nbformat": 4,
 "nbformat_minor": 2
}
