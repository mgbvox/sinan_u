{
 "cells": [
  {
   "cell_type": "markdown",
   "metadata": {
    "colab_type": "text",
    "id": "3YiUyNj75OtN"
   },
   "source": [
    "<h2>Caveat</h2>\n",
    "Web sites often change the format of their pages so this may not always work. If it doesn't, rework the examples after examining the html content of the page (most browsers will let you see the html source - look for a \"page source\" option - though you might have to turn on the developer mode in your browser preferences. For example, on Chrome you need to click the \"developer mode\" check box under Extensions in the Preferences/Options menu. "
   ]
  },
  {
   "cell_type": "markdown",
   "metadata": {
    "colab_type": "text",
    "id": "zKNA8Aby5OtO"
   },
   "source": [
    "<h1>Scraping web pages</h1>\n",
    "<li>Most data that resides on the web is in HTML \n",
    "<li>HTML: HyperText Markup Language\n",
    "<li>An html web page is a structured document\n",
    "<li>We can exploit this structure to extract data from the page"
   ]
  },
  {
   "cell_type": "markdown",
   "metadata": {
    "colab_type": "text",
    "id": "qT3B_3vJ5OtO"
   },
   "source": [
    "<li>Learn html and css at <a href=\"https://www.khanacademy.org/computing/computer-programming/html-css\">this site</a>"
   ]
  },
  {
   "cell_type": "markdown",
   "metadata": {
    "colab_type": "text",
    "id": "X0cUfByn5OtP"
   },
   "source": [
    "<b>Web scraping</b>: Automating the process of extracting information from web pages<br>\n",
    "<li>for data collection and analysis\n",
    "<li>for incorporating in a web app "
   ]
  },
  {
   "cell_type": "markdown",
   "metadata": {
    "colab_type": "text",
    "id": "Zbt1Kj7a5OtP"
   },
   "source": [
    "<h2>Python libraries for web scraping</h2>\n",
    "<li><b>requests</b> for handling the request-response cycle\n",
    "<li><b>beautifulsoup4</b> for extracting data from an html string\n",
    "<li><b>selenium</b> for extracting data from an html string and managing the response process, particularly when a page contains JavaScript or when a button needs to be clicked"
   ]
  },
  {
   "cell_type": "markdown",
   "metadata": {
    "colab_type": "text",
    "id": "1ysn3rH85OtQ"
   },
   "source": [
    "<h2>Beautiful Soup</h2>\n",
    "<li>html and xml parser\n",
    "<li>makes use of formatted html tags and css properties to extract data\n",
    "<li>https://www.crummy.com/software/BeautifulSoup/bs4/doc/"
   ]
  },
  {
   "cell_type": "markdown",
   "metadata": {
    "colab_type": "text",
    "id": "Y-LScbHV5OtQ"
   },
   "source": [
    "<h2>Web scraping using beautifulsoup4</h2>"
   ]
  },
  {
   "cell_type": "markdown",
   "metadata": {
    "colab_type": "text",
    "id": "dRyKNWPu5OtR"
   },
   "source": [
    "<h3>Import necessary modules</h3>"
   ]
  },
  {
   "cell_type": "code",
   "execution_count": null,
   "metadata": {
    "colab": {},
    "colab_type": "code",
    "id": "F62wVQxr5OtR"
   },
   "outputs": [],
   "source": [
    "import requests\n",
    "from bs4 import BeautifulSoup"
   ]
  },
  {
   "cell_type": "markdown",
   "metadata": {
    "colab_type": "text",
    "id": "rYdzn7Ag5OtT"
   },
   "source": [
    "<h3>The http request response cycle</h3>"
   ]
  },
  {
   "cell_type": "code",
   "execution_count": null,
   "metadata": {
    "colab": {},
    "colab_type": "code",
    "id": "DNXWXOsp5OtU"
   },
   "outputs": [],
   "source": [
    "url = \"http://www.epicurious.com/search/Tofu Chili\"\n",
    "response = requests.get(url)\n",
    "if response.status_code == 200:\n",
    "    print(\"Success\")\n",
    "else:\n",
    "    print(\"Failure\")"
   ]
  },
  {
   "cell_type": "code",
   "execution_count": null,
   "metadata": {
    "colab": {},
    "colab_type": "code",
    "id": "pA6Xkdda5OtW"
   },
   "outputs": [],
   "source": [
    "keywords = input(\"Please enter the things you want to see in a recipe\")\n",
    "url = \"http://www.epicurious.com/search/\" + keywords\n",
    "response = requests.get(url)\n",
    "if response.status_code == 200:\n",
    "    print(\"Success\")\n",
    "else:\n",
    "    print(\"Failure\")"
   ]
  },
  {
   "cell_type": "markdown",
   "metadata": {
    "colab_type": "text",
    "id": "EUzqWfTH5OtX"
   },
   "source": [
    "<h3>Set up the BeautifulSoup object</h3>"
   ]
  },
  {
   "cell_type": "code",
   "execution_count": null,
   "metadata": {
    "colab": {},
    "colab_type": "code",
    "id": "piIt3RVK5OtY"
   },
   "outputs": [],
   "source": [
    "results_page = BeautifulSoup(response.content,'lxml')\n",
    "print(results_page.prettify())"
   ]
  },
  {
   "cell_type": "markdown",
   "metadata": {
    "colab_type": "text",
    "id": "lueb1QEk5OtZ"
   },
   "source": [
    "<h3>BS4 functions</h3>"
   ]
  },
  {
   "cell_type": "markdown",
   "metadata": {
    "colab_type": "text",
    "id": "Hy4zHFnB5Ota"
   },
   "source": [
    "<h4>find_all finds all instances of a specified tag</h4>\n",
    "<h4>returns a result_set (a list)</h4>"
   ]
  },
  {
   "cell_type": "code",
   "execution_count": null,
   "metadata": {
    "colab": {},
    "colab_type": "code",
    "id": "JHW3KEBN5Ota"
   },
   "outputs": [],
   "source": [
    "all_a_tags = results_page.find_all('a')\n",
    "print(type(all_a_tags))"
   ]
  },
  {
   "cell_type": "code",
   "execution_count": null,
   "metadata": {
    "colab": {},
    "colab_type": "code",
    "id": "3bS7uGXy5Otc"
   },
   "outputs": [],
   "source": [
    "all_a_tags"
   ]
  },
  {
   "cell_type": "code",
   "execution_count": null,
   "metadata": {
    "colab": {},
    "colab_type": "code",
    "id": "Bme5fQTs5Ote"
   },
   "outputs": [],
   "source": []
  },
  {
   "cell_type": "markdown",
   "metadata": {
    "colab_type": "text",
    "id": "SwCbZk1m5Otg"
   },
   "source": [
    "<h4>find finds the first instance of a specified tag</h4>\n",
    "<h4>returns a bs4 element</h4>\n"
   ]
  },
  {
   "cell_type": "code",
   "execution_count": null,
   "metadata": {
    "colab": {},
    "colab_type": "code",
    "id": "K-vkOY4H5Otg"
   },
   "outputs": [],
   "source": [
    "div_tag = results_page.find('div')\n",
    "print(div_tag)"
   ]
  },
  {
   "cell_type": "code",
   "execution_count": null,
   "metadata": {
    "colab": {},
    "colab_type": "code",
    "id": "yc74BDVG5Oth"
   },
   "outputs": [],
   "source": [
    "type(div_tag)\n"
   ]
  },
  {
   "cell_type": "markdown",
   "metadata": {
    "colab_type": "text",
    "id": "C0JUlBpX5Otj"
   },
   "source": [
    "<h4>bs4 functions can be recursively applied on elements</h4>"
   ]
  },
  {
   "cell_type": "code",
   "execution_count": null,
   "metadata": {
    "colab": {},
    "colab_type": "code",
    "id": "FN6ZTCtd5Otj"
   },
   "outputs": [],
   "source": [
    "div_tag.find('a')"
   ]
  },
  {
   "cell_type": "markdown",
   "metadata": {
    "colab_type": "text",
    "id": "Jq0ZJX-G5Otl"
   },
   "source": [
    "<h4>Both find as well as find_all can be qualified by css selectors</h4>\n",
    "<li>using selector=value\n",
    "<li>using a dictionary"
   ]
  },
  {
   "cell_type": "markdown",
   "metadata": {
    "colab_type": "text",
    "id": "LAYKzZHn5Otl"
   },
   "source": [
    "<h4>Using selector=value</h4>"
   ]
  },
  {
   "cell_type": "code",
   "execution_count": null,
   "metadata": {
    "colab": {},
    "colab_type": "code",
    "id": "Al-xtxM75Otm"
   },
   "outputs": [],
   "source": [
    "#When using this method and looking for 'class' use 'class_' (because class is a reserved word in python)\n",
    "#Note that we get a list back because find_all returns a list\n",
    "results_page.find_all('article',class_=\"recipe-content-card\")"
   ]
  },
  {
   "cell_type": "markdown",
   "metadata": {
    "colab_type": "text",
    "id": "5_b6H3Cv5Otn"
   },
   "source": [
    "<h4>Using selectors as key value pairs in a dictionary</h4>"
   ]
  },
  {
   "cell_type": "code",
   "execution_count": null,
   "metadata": {
    "colab": {},
    "colab_type": "code",
    "id": "TGNqcZFC5Oto"
   },
   "outputs": [],
   "source": [
    "#Since we're using a string as the key, the fact that class is a reserved word is not a problem\n",
    "#We get an element back because find returns an element\n",
    "results_page.find('article',{'class':'recipe-content-card'})"
   ]
  },
  {
   "cell_type": "markdown",
   "metadata": {
    "colab_type": "text",
    "id": "M_ub8-FN5Otp"
   },
   "source": [
    "<h4>get_text() returns the marked up text (the content) enclosed in a tag.</h4>\n",
    "<li>returns a string"
   ]
  },
  {
   "cell_type": "code",
   "execution_count": null,
   "metadata": {
    "colab": {},
    "colab_type": "code",
    "id": "AUkYQYcX5Otp"
   },
   "outputs": [],
   "source": [
    "results_page.find('article',{'class':'recipe-content-card'}).get_text()"
   ]
  },
  {
   "cell_type": "markdown",
   "metadata": {
    "colab_type": "text",
    "id": "gaq8_2bq5Otr"
   },
   "source": [
    "<h4>get returns the value of a tag attribute</h4>\n",
    "<li>returns a string"
   ]
  },
  {
   "cell_type": "code",
   "execution_count": null,
   "metadata": {
    "colab": {},
    "colab_type": "code",
    "id": "LxX3CoX45Otr"
   },
   "outputs": [],
   "source": [
    "recipe_tag = results_page.find('article',{'class':'recipe-content-card'})\n",
    "recipe_link = recipe_tag.find('a')\n",
    "print(\"a tag:\",recipe_link)\n",
    "link_url = recipe_link.get('href')\n",
    "print(\"link url:\",link_url)\n",
    "print(type(link_url))"
   ]
  },
  {
   "cell_type": "markdown",
   "metadata": {
    "colab_type": "text",
    "id": "TBj12OVy5Ott"
   },
   "source": [
    "<h2>Summary of bs4 functions</h2>\n",
    "\n",
    " ![image.png](attachment:image.png)"
   ]
  },
  {
   "cell_type": "markdown",
   "metadata": {
    "colab_type": "text",
    "id": "D3mhGO7k5Ott"
   },
   "source": [
    "<h1>A function that returns a list containing recipe names, recipe descriptions (if any) and recipe urls</h1>"
   ]
  },
  {
   "cell_type": "markdown",
   "metadata": {
    "colab_type": "text",
    "id": "BIlVJ6fD5Otv"
   },
   "source": [
    "\n",
    "<li>We want to create a list of recipes and links to the recipes\n",
    "<li>We need to figure out how to ‘programmatically’ extract each recipe name and recipe link\n",
    "\n",
    "<li>Search for the tag with a unique attribute value that identifies recipes and recipe links\n",
    "<li>We’ll look at the a (annotate) tags because clickable links are in a tags"
   ]
  },
  {
   "cell_type": "code",
   "execution_count": null,
   "metadata": {
    "colab": {},
    "colab_type": "code",
    "id": "zprFPyFc5Otw"
   },
   "outputs": [],
   "source": [
    "for tag in results_page.find_all('article'):\n",
    "    print(tag)"
   ]
  },
  {
   "cell_type": "code",
   "execution_count": null,
   "metadata": {
    "colab": {},
    "colab_type": "code",
    "id": "VuBFMk2E5Otx"
   },
   "outputs": [],
   "source": [
    "def get_recipes(keywords):\n",
    "    recipe_list = list()\n",
    "    import requests\n",
    "    from bs4 import BeautifulSoup\n",
    "    url = \"http://www.epicurious.com/search/\" + keywords\n",
    "    response = requests.get(url)\n",
    "    if not response.status_code == 200:\n",
    "        return None\n",
    "    try:\n",
    "        results_page = BeautifulSoup(response.content,'lxml')\n",
    "        recipes = results_page.find_all('article',class_=\"recipe-content-card\")\n",
    "        for recipe in recipes:\n",
    "            recipe_link = \"http://www.epicurious.com\" + recipe.find('a').get('href')\n",
    "            recipe_name = recipe.find('a').get_text()\n",
    "            try:\n",
    "                recipe_description = recipe.find('p',class_='dek').get_text()\n",
    "            except:\n",
    "                recipe_description = ''\n",
    "            recipe_list.append((recipe_name,recipe_link,recipe_description))\n",
    "        return recipe_list\n",
    "    except:\n",
    "        return None"
   ]
  },
  {
   "cell_type": "code",
   "execution_count": null,
   "metadata": {
    "colab": {},
    "colab_type": "code",
    "id": "M3LMWfZ65Otz"
   },
   "outputs": [],
   "source": [
    "get_recipes(\"Tofu\")"
   ]
  },
  {
   "cell_type": "code",
   "execution_count": null,
   "metadata": {
    "colab": {},
    "colab_type": "code",
    "id": "ANTaOZCK5Ot1"
   },
   "outputs": [],
   "source": [
    "get_recipes('Nothing')"
   ]
  },
  {
   "cell_type": "markdown",
   "metadata": {
    "colab_type": "text",
    "id": "tH2EwzkS5Ot3"
   },
   "source": [
    "<h2>Let's write a function that</h2>\n",
    "<h3>given a recipe link</h3>\n",
    "<h3>returns a dictionary containing the ingredients and preparation instructions</h3>"
   ]
  },
  {
   "cell_type": "code",
   "execution_count": 3,
   "metadata": {},
   "outputs": [
    {
     "data": {
      "text/plain": [
       "'<!doctype html><html itemscope=\"\" itemtype=\"http://schema.org/WebPage\" lang=\"en\"><head><meta content=\"Search the world\\'s information, including webpages, images, videos and more. Google has many special features to help you find exactly what you\\'re looking for.\" name=\"description\"><meta content=\"noodp\" name=\"robots\"><meta content=\"text/html; charset=UTF-8\" http-equiv=\"Content-Type\"><meta content=\"/images/branding/googleg/1x/googleg_standard_color_128dp.png\" itemprop=\"image\"><title>Google</title><script nonce=\"iBNdFEDzq9PxubBQamPnTg==\">(function(){window.google={kEI:\\'ycSDXYayOOvs_Qaujo2wDg\\',kEXPI:\\'0,1353746,5663,730,224,510,19,1046,2082,1069,379,206,1017,53,2008,2,124,10,168,545,320,18,188,351,174,1131752,144,1197790,329477,1294,12383,4855,32692,15247,867,12163,6381,3335,2,2,6801,364,3319,5505,224,2218,5942,1119,2,579,727,2432,1361,4323,3700,1267,774,2253,1404,4483,9,1963,6196,1717,3,1807,1478,7,1,2,488,2044,5766,1,2837,305,5297,2016,38,920,873,1217,1364,1611,2736,49,1613,1399,2,631,1137,2,2101,1516,2,296,3539,2093,620,2884,20,318,1117,902,186,967,975,1,369,2777,519,400,992,509,776,8,109,2687,218,749,48,553,11,14,667,612,2212,202,168,155,5,68,1184,840,324,193,1466,8,48,158,662,2620,818,45,215,52,1135,1,3,2063,606,1839,184,595,1182,143,377,300,61,325,1261,747,61,255,113,44,207,1,1,893,328,1284,16,84,336,81,2284,142,1639,608,473,1339,29,475,225,19,1039,669,2425,133,773,1548,29,495,7,504,224,592,523,1051,1227,320,281,508,240,129,403,4,82,773,139,61,1,915,369,56,957,2875,6,1153,1,11,1,24,51,613,43,9,112,2,175,360,463,57,177,292,606,344,172,2,675,22,2,5,11,194,229,243,588,56,441,312,214,417,201,497,1340,773,20,83,400,491,8,454,64,398,144,57,641,17,5890941,3122,5997344,188,2799686,4,1572,549,333,444,1,2,80,1,900,583,1,312,1,8,1,2,2132,1,1,1,1,1,414,1,748,141,59,726,3,7,563,1,3653,134,78,39,1,1,1,1,1,19,5,5,3,24,2796054,19507119,1662866\\',authuser:0,kscs:\\'c9c918f0_ycSDXYayOOvs_Qaujo2wDg\\',kGL:\\'US\\',kBL:\\'q48m\\'};google.sn=\\'webhp\\';google.kHL=\\'en\\';google.jsfs=\\'Ffpdje\\';})();(function(){google.lc=[];google.li=0;google.getEI=function(a){for(var b;a&&(!a.getAttribute||!(b=a.getAttribute(\"eid\")));)a=a.parentNode;return b||google.kEI};google.getLEI=function(a){for(var b=null;a&&(!a.getAttribute||!(b=a.getAttribute(\"leid\")));)a=a.parentNode;return b};google.https=function(){return\"https:\"==window.location.protocol};google.ml=function(){return null};google.time=function(){return(new Date).getTime()};google.log=function(a,b,e,c,g){if(a=google.logUrl(a,b,e,c,g)){b=new Image;var d=google.lc,f=google.li;d[f]=b;b.onerror=b.onload=b.onabort=function(){delete d[f]};google.vel&&google.vel.lu&&google.vel.lu(a);b.src=a;google.li=f+1}};google.logUrl=function(a,b,e,c,g){var d=\"\",f=google.ls||\"\";e||-1!=b.search(\"&ei=\")||(d=\"&ei=\"+google.getEI(c),-1==b.search(\"&lei=\")&&(c=google.getLEI(c))&&(d+=\"&lei=\"+c));c=\"\";!e&&google.cshid&&-1==b.search(\"&cshid=\")&&\"slh\"!=a&&(c=\"&cshid=\"+google.cshid);a=e||\"/\"+(g||\"gen_204\")+\"?atyp=i&ct=\"+a+\"&cad=\"+b+d+f+\"&zx=\"+google.time()+c;/^http:/i.test(a)&&google.https()&&(google.ml(Error(\"a\"),!1,{src:a,glmm:1}),a=\"\");return a};}).call(this);(function(){google.y={};google.x=function(a,b){if(a)var c=a.id;else{do c=Math.random();while(google.y[c])}google.y[c]=[a,b];return!1};google.lm=[];google.plm=function(a){google.lm.push.apply(google.lm,a)};google.lq=[];google.load=function(a,b,c){google.lq.push([[a],b,c])};google.loadAll=function(a,b){google.lq.push([a,b])};}).call(this);google.f={};var a=window.location,b=a.href.indexOf(\"#\");if(0<=b){var c=a.href.substring(b+1);/(^|&)q=/.test(c)&&-1==c.indexOf(\"#\")&&a.replace(\"/search?\"+c.replace(/(^|&)fp=[^&]*/g,\"\")+\"&cad=h\")};</script><style>#gbar,#guser{font-size:13px;padding-top:1px !important;}#gbar{height:22px}#guser{padding-bottom:7px !important;text-align:right}.gbh,.gbd{border-top:1px solid #c9d7f1;font-size:1px}.gbh{height:0;position:absolute;top:24px;width:100%}@media all{.gb1{height:22px;margin-right:.5em;vertical-align:top}#gbar{float:left}}a.gb1,a.gb4{text-decoration:underline !important}a.gb1,a.gb4{color:#00c !important}.gbi .gb4{color:#dd8e27 !important}.gbf .gb4{color:#900 !important}\\n</style><style>body,td,a,p,.h{font-family:arial,sans-serif}body{margin:0;overflow-y:scroll}#gog{padding:3px 8px 0}td{line-height:.8em}.gac_m td{line-height:17px}form{margin-bottom:20px}.h{color:#36c}.q{color:#00c}.ts td{padding:0}.ts{border-collapse:collapse}em{font-weight:bold;font-style:normal}.lst{height:25px;width:496px}.gsfi,.lst{font:18px arial,sans-serif}.gsfs{font:17px arial,sans-serif}.ds{display:inline-box;display:inline-block;margin:3px 0 4px;margin-left:4px}input{font-family:inherit}a.gb1,a.gb2,a.gb3,a.gb4{color:#11c !important}body{background:#fff;color:black}a{color:#11c;text-decoration:none}a:hover,a:active{text-decoration:underline}.fl a{color:#36c}a:visited{color:#551a8b}a.gb1,a.gb4{text-decoration:underline}a.gb3:hover{text-decoration:none}#ghead a.gb2:hover{color:#fff !important}.sblc{padding-top:5px}.sblc a{display:block;margin:2px 0;margin-left:13px;font-size:11px}.lsbb{background:#eee;border:solid 1px;border-color:#ccc #999 #999 #ccc;height:30px}.lsbb{display:block}.ftl,#fll a{display:inline-block;margin:0 12px}.lsb{background:url(/images/nav_logo229.png) 0 -261px repeat-x;border:none;color:#000;cursor:pointer;height:30px;margin:0;outline:0;font:15px arial,sans-serif;vertical-align:top}.lsb:active{background:#ccc}.lst:focus{outline:none}</style><script nonce=\"iBNdFEDzq9PxubBQamPnTg==\"></script></head><body bgcolor=\"#fff\"><script nonce=\"iBNdFEDzq9PxubBQamPnTg==\">(function(){var src=\\'/images/nav_logo229.png\\';var iesg=false;document.body.onload = function(){window.n && window.n();if (document.images){new Image().src=src;}\\nif (!iesg){document.f&&document.f.q.focus();document.gbqf&&document.gbqf.q.focus();}\\n}\\n})();</script><div id=\"mngb\"> <div id=gbar><nobr><b class=gb1>Search</b> <a class=gb1 href=\"https://www.google.com/imghp?hl=en&tab=wi\">Images</a> <a class=gb1 href=\"https://maps.google.com/maps?hl=en&tab=wl\">Maps</a> <a class=gb1 href=\"https://play.google.com/?hl=en&tab=w8\">Play</a> <a class=gb1 href=\"https://www.youtube.com/?gl=US&tab=w1\">YouTube</a> <a class=gb1 href=\"https://news.google.com/nwshp?hl=en&tab=wn\">News</a> <a class=gb1 href=\"https://mail.google.com/mail/?tab=wm\">Gmail</a> <a class=gb1 href=\"https://drive.google.com/?tab=wo\">Drive</a> <a class=gb1 style=\"text-decoration:none\" href=\"https://www.google.com/intl/en/about/products?tab=wh\"><u>More</u> &raquo;</a></nobr></div><div id=guser width=100%><nobr><span id=gbn class=gbi></span><span id=gbf class=gbf></span><span id=gbe></span><a href=\"http://www.google.com/history/optout?hl=en\" class=gb4>Web History</a> | <a  href=\"/preferences?hl=en\" class=gb4>Settings</a> | <a target=_top id=gb_70 href=\"https://accounts.google.com/ServiceLogin?hl=en&passive=true&continue=https://www.google.com/\" class=gb4>Sign in</a></nobr></div><div class=gbh style=left:0></div><div class=gbh style=right:0></div> </div><center><br clear=\"all\" id=\"lgpd\"><div id=\"lga\"><img alt=\"Google\" height=\"92\" src=\"/images/branding/googlelogo/1x/googlelogo_white_background_color_272x92dp.png\" style=\"padding:28px 0 14px\" width=\"272\" id=\"hplogo\"><br><br></div><form action=\"/search\" name=\"f\"><table cellpadding=\"0\" cellspacing=\"0\"><tr valign=\"top\"><td width=\"25%\">&nbsp;</td><td align=\"center\" nowrap=\"\"><input name=\"ie\" value=\"ISO-8859-1\" type=\"hidden\"><input value=\"en\" name=\"hl\" type=\"hidden\"><input name=\"source\" type=\"hidden\" value=\"hp\"><input name=\"biw\" type=\"hidden\"><input name=\"bih\" type=\"hidden\"><div class=\"ds\" style=\"height:32px;margin:4px 0\"><input style=\"color:#000;margin:0;padding:5px 8px 0 6px;vertical-align:top\" autocomplete=\"off\" class=\"lst\" value=\"\" title=\"Google Search\" maxlength=\"2048\" name=\"q\" size=\"57\"></div><br style=\"line-height:0\"><span class=\"ds\"><span class=\"lsbb\"><input class=\"lsb\" value=\"Google Search\" name=\"btnG\" type=\"submit\"></span></span><span class=\"ds\"><span class=\"lsbb\"><input class=\"lsb\" id=\"tsuid1\" value=\"I\\'m Feeling Lucky\" name=\"btnI\" type=\"submit\"><script nonce=\"iBNdFEDzq9PxubBQamPnTg==\">(function(){var id=\\'tsuid1\\';document.getElementById(id).onclick = function(){if (this.form.q.value){this.checked = 1;if (this.form.iflsig)this.form.iflsig.disabled = false;}\\nelse top.location=\\'/doodles/\\';};})();</script></span></span></td><td class=\"fl sblc\" align=\"left\" nowrap=\"\" width=\"25%\"><a href=\"/advanced_search?hl=en&amp;authuser=0\">Advanced search</a><a href=\"/language_tools?hl=en&amp;authuser=0\">Language tools</a></td></tr></table><input id=\"gbv\" name=\"gbv\" type=\"hidden\" value=\"1\"><script nonce=\"iBNdFEDzq9PxubBQamPnTg==\">(function(){var a,b=\"1\";if(document&&document.getElementById)if(\"undefined\"!=typeof XMLHttpRequest)b=\"2\";else if(\"undefined\"!=typeof ActiveXObject){var c,d,e=[\"MSXML2.XMLHTTP.6.0\",\"MSXML2.XMLHTTP.3.0\",\"MSXML2.XMLHTTP\",\"Microsoft.XMLHTTP\"];for(c=0;d=e[c++];)try{new ActiveXObject(d),b=\"2\"}catch(h){}}a=b;if(\"2\"==a&&-1==location.search.indexOf(\"&gbv=2\")){var f=google.gbvu,g=document.getElementById(\"gbv\");g&&(g.value=a);f&&window.setTimeout(function(){location.href=f},0)};}).call(this);</script></form><div id=\"gac_scont\"></div><div style=\"font-size:83%;min-height:3.5em\"><br></div><span id=\"footer\"><div style=\"font-size:10pt\"><div style=\"margin:19px auto;text-align:center\" id=\"fll\"><a href=\"/intl/en/ads/\">Advertising\\xa0Programs</a><a href=\"/services/\">Business Solutions</a><a href=\"/intl/en/about.html\">About Google</a></div></div><p style=\"color:#767676;font-size:8pt\">&copy; 2019 - <a href=\"/intl/en/policies/privacy/\">Privacy</a> - <a href=\"/intl/en/policies/terms/\">Terms</a></p></span></center><script nonce=\"iBNdFEDzq9PxubBQamPnTg==\">(function(){window.google.cdo={height:0,width:0};(function(){var a=window.innerWidth,b=window.innerHeight;if(!a||!b){var c=window.document,d=\"CSS1Compat\"==c.compatMode?c.documentElement:c.body;a=d.clientWidth;b=d.clientHeight}a&&b&&(a!=google.cdo.width||b!=google.cdo.height)&&google.log(\"\",\"\",\"/client_204?&atyp=i&biw=\"+a+\"&bih=\"+b+\"&ei=\"+google.kEI);}).call(this);})();(function(){var u=\\'/xjs/_/js/k\\\\x3dxjs.hp.en_US.WhHrk6dx9_Y.O/m\\\\x3dsb_he,d/am\\\\x3dHhZsAg/d\\\\x3d1/rs\\\\x3dACT90oFGMgEw_oypOfVnYE4r8l78GAYeYQ\\';setTimeout(function(){var a=document.createElement(\"script\");a.src=u;google.timers&&google.timers.load&&google.tick&&google.tick(\"load\",\"xjsls\");document.body.appendChild(a)},0);})();(function(){window.google.xjsu=\\'/xjs/_/js/k\\\\x3dxjs.hp.en_US.WhHrk6dx9_Y.O/m\\\\x3dsb_he,d/am\\\\x3dHhZsAg/d\\\\x3d1/rs\\\\x3dACT90oFGMgEw_oypOfVnYE4r8l78GAYeYQ\\';})();function _DumpException(e){throw e;}\\nfunction _F_installCss(c){}\\n(function(){google.spjs=false;google.snet=true;google.em=[];google.emw=false;})();(function(){var pmc=\\'{\\\\x22JnTczA\\\\x22:{},\\\\x22Qnk92g\\\\x22:{},\\\\x22RWGcrA\\\\x22:{},\\\\x22U5B21g\\\\x22:{},\\\\x22YFCs/g\\\\x22:{},\\\\x22YQeDTA\\\\x22:{},\\\\x22ZI/YVQ\\\\x22:{},\\\\x22d\\\\x22:{},\\\\x22mVopag\\\\x22:{},\\\\x22sb_he\\\\x22:{\\\\x22agen\\\\x22:true,\\\\x22cgen\\\\x22:true,\\\\x22client\\\\x22:\\\\x22heirloom-hp\\\\x22,\\\\x22dh\\\\x22:true,\\\\x22dhqt\\\\x22:true,\\\\x22ds\\\\x22:\\\\x22\\\\x22,\\\\x22ffql\\\\x22:\\\\x22en\\\\x22,\\\\x22fl\\\\x22:true,\\\\x22host\\\\x22:\\\\x22google.com\\\\x22,\\\\x22isbh\\\\x22:28,\\\\x22jsonp\\\\x22:true,\\\\x22msgs\\\\x22:{\\\\x22cibl\\\\x22:\\\\x22Clear Search\\\\x22,\\\\x22dym\\\\x22:\\\\x22Did you mean:\\\\x22,\\\\x22lcky\\\\x22:\\\\x22I\\\\\\\\u0026#39;m Feeling Lucky\\\\x22,\\\\x22lml\\\\x22:\\\\x22Learn more\\\\x22,\\\\x22oskt\\\\x22:\\\\x22Input tools\\\\x22,\\\\x22psrc\\\\x22:\\\\x22This search was removed from your \\\\\\\\u003Ca href\\\\x3d\\\\\\\\\\\\x22/history\\\\\\\\\\\\x22\\\\\\\\u003EWeb History\\\\\\\\u003C/a\\\\\\\\u003E\\\\x22,\\\\x22psrl\\\\x22:\\\\x22Remove\\\\x22,\\\\x22sbit\\\\x22:\\\\x22Search by image\\\\x22,\\\\x22srch\\\\x22:\\\\x22Google Search\\\\x22},\\\\x22ovr\\\\x22:{},\\\\x22pq\\\\x22:\\\\x22\\\\x22,\\\\x22refpd\\\\x22:true,\\\\x22rfs\\\\x22:[],\\\\x22sbpl\\\\x22:24,\\\\x22sbpr\\\\x22:24,\\\\x22scd\\\\x22:10,\\\\x22sce\\\\x22:5,\\\\x22stok\\\\x22:\\\\x22TktjuLL2ZR-tItbWYjmYM7FZxtA\\\\x22,\\\\x22uhde\\\\x22:false}}\\';google.pmc=JSON.parse(pmc);})();</script>        </body></html>'"
      ]
     },
     "execution_count": 3,
     "metadata": {},
     "output_type": "execute_result"
    }
   ],
   "source": [
    "import requests\n",
    "response = requests.get('https://www.google.com')\n",
    "response.text"
   ]
  },
  {
   "cell_type": "code",
   "execution_count": 1,
   "metadata": {
    "colab": {},
    "colab_type": "code",
    "id": "HsQRbv5K5Ot4"
   },
   "outputs": [],
   "source": [
    "recipe_link = \"http://www.epicurious.com\" + '/recipes/food/views/spicy-lemongrass-tofu-233844'"
   ]
  },
  {
   "cell_type": "code",
   "execution_count": null,
   "metadata": {
    "colab": {},
    "colab_type": "code",
    "id": "pTi7asyN5Ot5"
   },
   "outputs": [],
   "source": [
    "def get_recipe_info(recipe_link):\n",
    "    recipe_dict = dict()\n",
    "    import requests\n",
    "    from bs4 import BeautifulSoup\n",
    "    try:\n",
    "        response = requests.get(recipe_link)\n",
    "        if not response.status_code == 200:\n",
    "            return recipe_dict\n",
    "        result_page = BeautifulSoup(response.content,'lxml')\n",
    "        ingredient_list = list()\n",
    "        prep_steps_list = list()\n",
    "        for ingredient in result_page.find_all('li',class_='ingredient'):\n",
    "            ingredient_list.append(ingredient.get_text())\n",
    "        for prep_step in result_page.find_all('li',class_='preparation-step'):\n",
    "            prep_steps_list.append(prep_step.get_text().strip())\n",
    "        recipe_dict['ingredients'] = ingredient_list\n",
    "        recipe_dict['preparation'] = prep_steps_list\n",
    "        return recipe_dict\n",
    "    except:\n",
    "        return recipe_dict\n",
    "        "
   ]
  },
  {
   "cell_type": "code",
   "execution_count": null,
   "metadata": {
    "colab": {},
    "colab_type": "code",
    "id": "SKwNjYVC5Ot7"
   },
   "outputs": [],
   "source": [
    "get_recipe_info(recipe_link)"
   ]
  },
  {
   "cell_type": "markdown",
   "metadata": {
    "colab_type": "text",
    "id": "iDqyiaOf5Ot-"
   },
   "source": [
    "<h2>Construct a list of dictionaries for all recipes</h2>"
   ]
  },
  {
   "cell_type": "code",
   "execution_count": null,
   "metadata": {
    "colab": {},
    "colab_type": "code",
    "id": "o70Lir2D5Ot_"
   },
   "outputs": [],
   "source": [
    "def get_all_recipes(keywords):\n",
    "    results = list()\n",
    "    all_recipes = get_recipes(keywords)\n",
    "    for recipe in all_recipes:\n",
    "        recipe_dict = get_recipe_info(recipe[1])\n",
    "        recipe_dict['name'] = recipe[0]\n",
    "        recipe_dict['description'] = recipe[2]\n",
    "        results.append(recipe_dict)\n",
    "    return(results)"
   ]
  },
  {
   "cell_type": "code",
   "execution_count": null,
   "metadata": {
    "colab": {},
    "colab_type": "code",
    "id": "WsnRXyTA5OuA"
   },
   "outputs": [],
   "source": [
    "get_all_recipes(\"Tofu\")"
   ]
  },
  {
   "cell_type": "markdown",
   "metadata": {
    "colab_type": "text",
    "id": "dAZ5YZMi5OuC"
   },
   "source": [
    "<h1>Logging in to a web server</h1>\n",
    "\n",
    "<li>Figure out the login url \n",
    "<li>https://en.wikipedia.org/w/index.php?title=Special:UserLogin&returnto=Main+Page\n",
    "<li>Look for the login form in the html source\n",
    "<li>form_tag = page_soup.find('form')\n",
    "<li>Look for ALL the inputs in the login form (some may be tricky!)\n",
    "<li>input_tags = form_tag.find_all('input')\n",
    "<li>Create a Python dict object with key,value pairs for each input\n",
    "<li>Use requests.session to create an open session object\n",
    "<li>Send the login request (POST)\n",
    "<li>Send followup requests keeping the sessions object open"
   ]
  },
  {
   "cell_type": "markdown",
   "metadata": {
    "colab_type": "text",
    "id": "09IXo9bo5OuD"
   },
   "source": [
    "<h2>Get username and password</h2>\n",
    "<li>Best to store in a file for reuse\n",
    "<li>You will need to set up your own login and password and place them in a file called wikidata.txt\n",
    "<li>Line one of the file should contain your username\n",
    "<li>Line two your password"
   ]
  },
  {
   "cell_type": "code",
   "execution_count": null,
   "metadata": {
    "colab": {},
    "colab_type": "code",
    "id": "wjbCM15C5OuD"
   },
   "outputs": [],
   "source": [
    "with open('/Users/hardeepjohar/Documents/Courses/Fall2018/API_KEYS/wikidata.txt') as f:\n",
    "    contents = f.read().split('\\n')\n",
    "    username = contents[0]\n",
    "    password = contents[1]\n"
   ]
  },
  {
   "cell_type": "markdown",
   "metadata": {
    "colab_type": "text",
    "id": "kNl1ULJi5OuE"
   },
   "source": [
    "<h3>Construct an object that contains the data to be sent to the login page</h3>"
   ]
  },
  {
   "cell_type": "code",
   "execution_count": null,
   "metadata": {
    "colab": {},
    "colab_type": "code",
    "id": "4gsJTCq95OuF"
   },
   "outputs": [],
   "source": [
    "\n",
    "payload = {\n",
    "    'wpName': username,\n",
    "    'wpPassword': password,\n",
    "    'wploginattempt': 'Log in',\n",
    "    'wpEditToken': \"+\\\\\",\n",
    "    'title': \"Special:UserLogin\",\n",
    "    'authAction': \"login\",\n",
    "    'force': \"\",\n",
    "    'wpForceHttps': \"1\",\n",
    "    'wpFromhttp': \"1\",\n",
    "    #'wpLoginToken': ‘', #We need to read this from the page\n",
    "    }"
   ]
  },
  {
   "cell_type": "markdown",
   "metadata": {
    "colab_type": "text",
    "id": "8cLciYLl5OuG"
   },
   "source": [
    "<h3>get the value of the login token</h3>"
   ]
  },
  {
   "cell_type": "code",
   "execution_count": null,
   "metadata": {
    "colab": {},
    "colab_type": "code",
    "id": "4cDub-3o5OuG"
   },
   "outputs": [],
   "source": [
    "def get_login_token(response):\n",
    "    soup = BeautifulSoup(response.text, 'lxml')\n",
    "    token = soup.find('input',{'name':\"wpLoginToken\"}).get('value')\n",
    "    return token\n"
   ]
  },
  {
   "cell_type": "markdown",
   "metadata": {
    "colab_type": "text",
    "id": "W4vNik1b5OuI"
   },
   "source": [
    "<h3>Setup a session, login, and get data</h3>"
   ]
  },
  {
   "cell_type": "code",
   "execution_count": null,
   "metadata": {
    "colab": {},
    "colab_type": "code",
    "id": "rElAwzg75OuI"
   },
   "outputs": [],
   "source": [
    "import requests\n",
    "from bs4 import BeautifulSoup\n",
    "with requests.session() as s:\n",
    "    response = s.get('https://en.wikipedia.org/w/index.php?title=Special:UserLogin&returnto=Main+Page')\n",
    "    payload['wpLoginToken'] = get_login_token(response)\n",
    "    #Send the login request\n",
    "    response_post = s.post('https://en.wikipedia.org/w/index.php?title=Special:UserLogin&action=submitlogin&type=login',\n",
    "                           data=payload)\n",
    "    #Get another page and check if we’re still logged in\n",
    "    response = s.get('https://en.wikipedia.org/wiki/Special:Watchlist')\n",
    "    data = BeautifulSoup(response.content,'lxml')\n",
    "    print(data.find('div',class_='mw-changeslist').get_text())"
   ]
  },
  {
   "cell_type": "code",
   "execution_count": null,
   "metadata": {
    "colab": {},
    "colab_type": "code",
    "id": "OPdAvN-u5OuK"
   },
   "outputs": [],
   "source": []
  }
 ],
 "metadata": {
  "colab": {
   "name": "Web scraping.ipynb",
   "provenance": []
  },
  "kernelspec": {
   "display_name": "data_science",
   "language": "python",
   "name": "data_science"
  },
  "language_info": {
   "codemirror_mode": {
    "name": "ipython",
    "version": 3
   },
   "file_extension": ".py",
   "mimetype": "text/x-python",
   "name": "python",
   "nbconvert_exporter": "python",
   "pygments_lexer": "ipython3",
   "version": "3.6.7"
  }
 },
 "nbformat": 4,
 "nbformat_minor": 2
}
