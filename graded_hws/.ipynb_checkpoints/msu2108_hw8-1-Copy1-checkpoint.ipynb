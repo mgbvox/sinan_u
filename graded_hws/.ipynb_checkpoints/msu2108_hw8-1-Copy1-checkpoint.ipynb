{
 "cells": [
  {
   "cell_type": "markdown",
   "metadata": {},
   "source": [
    "<subject>\n",
    "Assignment How-To\n",
    "</subject>\n",
    "\n",
    "<details>\n",
    "    \n",
    "**Do Not Talk During Quizzes or Exams**\n",
    "\n",
    "Do not talk at all once an exam has begun. You may talk again once you leave the room after the quiz or exam. The one exception to this rule is if you need to ask the exam proctor a question. Any talking during a quiz or exam qualifies the student for disciplinary action.\n",
    "\n",
    "**Naming Conventions**\n",
    "\n",
    "When naming your files for upload, you must follow the format below:\n",
    "\n",
    "    <uni>_<assignment>_<details [optional]>.<extension>\n",
    "\n",
    "For example, if I needed to hand in HW 0, any of the below formats would be sufficient for a file name:\n",
    "\n",
    "- pl2648_hw0.ipynb\n",
    "- pl2648_hw0.txt\n",
    "- pl2648_hw0.sh\n",
    "- pl2648_hw0_all_in_one.txt\n",
    "- Pl2648_hw0_bash_program.sh\n",
    "- Pl2648_quiz1.ipynb\n",
    "\n",
    "This naming format allows for autograding of all assignments. If your files are not named with this format, you should expect a grade of zero for the assignment.\n",
    "\n",
    "Courseworks may rename your file to something like `pl2648_hw0-1.ipynb` if you resubmit your assignment. This is perfectly fine.\n",
    "\n",
    "**What Format To Submit In**\n",
    "\n",
    "Most homework and quizzes are in Jupyter notebooks. Unless specified otherwise, please download your work as an `.ipynb` file from your local machine and upload it to courseworks.\n",
    "\n",
    "\n",
    "**Grading**\n",
    "\n",
    "Possible points on late assignments are deducted by 50% for each day they are late. For example, if you get 80% of the total possible credits on a homework but hand in that homework a day late, you would get 40%. Assignments two days late get zero points.\n",
    "\n",
    "Once solutions are posted and graded assignments are handed back, students have 1 week to bring their grading discrepancies to a CA for consideration of possible grading errors. \n",
    "\n",
    "Because grading is automated, please delete (or comment out) the `raise NotImplmeneted` code before attempting a problem. \n",
    "\n",
    "Empty un-editable cells in an assignment are there for a purpose. They will be filled with tests by the automatic grader. Please do not attempt to remove them.\n",
    "\n",
    "**Getting Help**\n",
    "\n",
    "Asking for help is a great way to increase your chance of success. However there are some rules. When asking for help (especially from a fellow student), *you can show your helper your code but you can not view theirs*. You work needs to be your own. You can not post screenshots of your current work to Piazza or other tools used for getting help.\n",
    "\n",
    "If you need to reach out to a CA for help, please do so via Piazza and not via email. Answers given via Piazza will help you as well as other students. Thus, emails will always have a lower priority for response than Piazza questions. If you do email the CA, please make a note of what section you are in. This helps us identify you in courseworks faster. \n",
    "\n",
    "Finally, if you do not get a repsonse from a CA within 48 hours, you may email the professor.\n",
    "\n",
    "**Multiple Choice**\n",
    "\n",
    "If the question is multiple choice, you will be given several options to choose from and your function will need to return **one** of those options **verbatim** as a string.\n",
    "\n",
    "For example: \n",
    "\n",
    "Which of the following animals bark?\n",
    "\n",
    "- dogs\n",
    "- cats\n",
    "- fish\n",
    "- trees\n",
    "\n",
    "A correct answer would be structured in the following way:\n",
    "\n",
    "```python\n",
    "def question_animals():\n",
    "    return 'dogs'\n",
    "```\n",
    "\n",
    "You answer will be stripped of left and right white space and lowercased before comparison to the correct answer during grading.\n",
    "</details>"
   ]
  },
  {
   "cell_type": "markdown",
   "metadata": {
    "deletable": false,
    "editable": false,
    "nbgrader": {
     "cell_type": "markdown",
     "checksum": "56f0bf1b032450d675cff8db722a5b38",
     "grade": false,
     "grade_id": "cell-e3b7559ac6515cc1",
     "locked": true,
     "schema_version": 3,
     "solution": false
    }
   },
   "source": [
    "**Q**: Build a function named `get_answer` that returns a dictionary that maps function names (strings) to Big-O values (also strings) for those functions. The valid Big-O options are:\n",
    "\n",
    "- 'O(1)'\n",
    "- 'O(N)'\n",
    "- 'O(LOG2(N))'\n",
    "- 'O(N * LOG2(N))'\n",
    "- 'O(N^2)'\n",
    "- 'O(inf)'  # This is Big-O of infinity\n",
    "\n",
    "For example, if given the following function...\n",
    "\n",
    "```python\n",
    "def return_true(data):\n",
    "    return True\n",
    "```\n",
    "\n",
    "... the correct `get_answer` function would be ...\n",
    "\n",
    "```python\n",
    "def get_answer():\n",
    "    return {\n",
    "        'return_true': 'O(1)',\n",
    "    }\n",
    "```\n",
    "\n",
    "Determine the Big-O value for the following functions.\n",
    "\n",
    "```python\n",
    "def function_one(list_):\n",
    "    for pass_ in range(len(list_) - 1, 0, -1):\n",
    "        for i in range(pass_):\n",
    "            if list_[i] > list_[i+1]:\n",
    "                temp = list_[i]\n",
    "                list_[i] = list_[i+1]\n",
    "                list_[i+1] = temp\n",
    "\n",
    "\n",
    "def function_two(list_):\n",
    "    if len(list_) > 1:\n",
    "        midpoint_index = len(list_) // 2\n",
    "        left_half = list_[:midpoint_index]\n",
    "        right_half = list_[midpoint_index:]\n",
    "\n",
    "        function_two(left_half)\n",
    "        function_two(right_half)\n",
    "\n",
    "        left_half_pos = 0\n",
    "        right_half_pos = 0\n",
    "        new_position = 0\n",
    "        while left_half_pos < len(left_half) and right_half_pos < len(right_half):\n",
    "            if left_half[left_half_pos] < right_half[right_half_pos]:\n",
    "                list_[new_position] = left_half[left_half_pos]\n",
    "                left_half_pos += 1\n",
    "            else:\n",
    "                list_[new_position] = right_half[right_half_pos]\n",
    "                right_half_pos += 1\n",
    "\n",
    "            new_position += 1\n",
    "\n",
    "        # empty remaning items in left list\n",
    "        while left_half_pos < len(left_half):\n",
    "            list_[new_position] = left_half[left_half_pos]\n",
    "            left_half_pos += 1\n",
    "            new_position += 1\n",
    "\n",
    "        # empty remaning items in right list\n",
    "        while right_half_pos < len(right_half):\n",
    "            list_[new_position]=right_half[right_half_pos]\n",
    "            right_half_pos += 1\n",
    "            new_position += 1\n",
    "            \n",
    "\n",
    "def function_three(x, max_):\n",
    "    assert 0 < x < max_\n",
    "    while x < max_:\n",
    "        x *= 2\n",
    "\n",
    "\n",
    "def function_four(x):\n",
    "    for i in range(x):\n",
    "        for j in range(x - i):\n",
    "            for k in range(x - j):\n",
    "                if i + j + k == 0:\n",
    "                    break\n",
    "            if i + j == 0:\n",
    "                break\n",
    "        if i == 0:\n",
    "            break\n",
    "    return x + 1    \n",
    "```\n",
    "\n",
    "[2 points]"
   ]
  },
  {
   "cell_type": "code",
   "execution_count": 1,
   "metadata": {
    "deletable": false,
    "nbgrader": {
     "cell_type": "code",
     "checksum": "17104cf7049634816f78541446d018f8",
     "grade": false,
     "grade_id": "cell-f4d3188b8d4bbc53",
     "locked": false,
     "schema_version": 3,
     "solution": true
    }
   },
   "outputs": [],
   "source": [
    "def get_answer():\n",
    "    # YOUR CODE HERE\n",
    "    {\n",
    "        'function_one':'O(N^2)',\n",
    "        'function_two':'O(N*LOG2(N))',\n",
    "        'function_three':'O(LOG2(N))',\n",
    "        'function_four':'O(1)'\n",
    "    }\n",
    "    \n",
    "    # YOUR CODE HERE\n",
    "    #raise NotImplementedError()"
   ]
  },
  {
   "cell_type": "code",
   "execution_count": 3,
   "metadata": {},
   "outputs": [
    {
     "name": "stdout",
     "output_type": "stream",
     "text": [
      "it is  1.285411689999819\n"
     ]
    }
   ],
   "source": [
    "import timeit\n",
    "\n",
    "res = timeit.Timer('for i in range(10): oct(i)', 'gc.enable()').timeit()\n"
   ]
  },
  {
   "cell_type": "code",
   "execution_count": 8,
   "metadata": {},
   "outputs": [],
   "source": [
    "import numpy as np\n",
    "\n",
    "def function_one(list_):\n",
    "    for pass_ in range(len(list_) - 1, 0, -1):\n",
    "        for i in range(pass_):\n",
    "            if list_[i] > list_[i+1]:\n",
    "                temp = list_[i]\n",
    "                list_[i] = list_[i+1]\n",
    "                list_[i+1] = temp"
   ]
  },
  {
   "cell_type": "code",
   "execution_count": 10,
   "metadata": {},
   "outputs": [
    {
     "ename": "ValueError",
     "evalue": "stmt is neither a string nor callable",
     "output_type": "error",
     "traceback": [
      "\u001b[0;31m---------------------------------------------------------------------------\u001b[0m",
      "\u001b[0;31mValueError\u001b[0m                                Traceback (most recent call last)",
      "\u001b[0;32m<ipython-input-10-5ad2f26b07ae>\u001b[0m in \u001b[0;36m<module>\u001b[0;34m\u001b[0m\n\u001b[1;32m      1\u001b[0m \u001b[0;32mfor\u001b[0m \u001b[0mn\u001b[0m \u001b[0;32min\u001b[0m \u001b[0mrange\u001b[0m\u001b[0;34m(\u001b[0m\u001b[0;36m1\u001b[0m\u001b[0;34m,\u001b[0m\u001b[0;36m100\u001b[0m\u001b[0;34m)\u001b[0m\u001b[0;34m:\u001b[0m\u001b[0;34m\u001b[0m\u001b[0;34m\u001b[0m\u001b[0m\n\u001b[1;32m      2\u001b[0m     \u001b[0ml\u001b[0m \u001b[0;34m=\u001b[0m \u001b[0mnp\u001b[0m\u001b[0;34m.\u001b[0m\u001b[0mrandom\u001b[0m\u001b[0;34m.\u001b[0m\u001b[0mrandom\u001b[0m\u001b[0;34m(\u001b[0m\u001b[0mn\u001b[0m\u001b[0;34m)\u001b[0m\u001b[0;34m\u001b[0m\u001b[0;34m\u001b[0m\u001b[0m\n\u001b[0;32m----> 3\u001b[0;31m     \u001b[0mprint\u001b[0m\u001b[0;34m(\u001b[0m\u001b[0mn\u001b[0m\u001b[0;34m,\u001b[0m \u001b[0mtimeit\u001b[0m\u001b[0;34m.\u001b[0m\u001b[0mTimer\u001b[0m\u001b[0;34m(\u001b[0m\u001b[0mfunction_one\u001b[0m\u001b[0;34m(\u001b[0m\u001b[0ml\u001b[0m\u001b[0;34m)\u001b[0m\u001b[0;34m,\u001b[0m \u001b[0;34m'gc.enable()'\u001b[0m\u001b[0;34m)\u001b[0m\u001b[0;34m.\u001b[0m\u001b[0mtimeit\u001b[0m\u001b[0;34m(\u001b[0m\u001b[0;34m)\u001b[0m\u001b[0;34m)\u001b[0m\u001b[0;34m\u001b[0m\u001b[0;34m\u001b[0m\u001b[0m\n\u001b[0m",
      "\u001b[0;32m~/anaconda3/envs/data_science/lib/python3.6/timeit.py\u001b[0m in \u001b[0;36m__init__\u001b[0;34m(self, stmt, setup, timer, globals)\u001b[0m\n\u001b[1;32m    128\u001b[0m             \u001b[0mstmt\u001b[0m \u001b[0;34m=\u001b[0m \u001b[0;34m'_stmt()'\u001b[0m\u001b[0;34m\u001b[0m\u001b[0;34m\u001b[0m\u001b[0m\n\u001b[1;32m    129\u001b[0m         \u001b[0;32melse\u001b[0m\u001b[0;34m:\u001b[0m\u001b[0;34m\u001b[0m\u001b[0;34m\u001b[0m\u001b[0m\n\u001b[0;32m--> 130\u001b[0;31m             \u001b[0;32mraise\u001b[0m \u001b[0mValueError\u001b[0m\u001b[0;34m(\u001b[0m\u001b[0;34m\"stmt is neither a string nor callable\"\u001b[0m\u001b[0;34m)\u001b[0m\u001b[0;34m\u001b[0m\u001b[0;34m\u001b[0m\u001b[0m\n\u001b[0m\u001b[1;32m    131\u001b[0m         \u001b[0msrc\u001b[0m \u001b[0;34m=\u001b[0m \u001b[0mtemplate\u001b[0m\u001b[0;34m.\u001b[0m\u001b[0mformat\u001b[0m\u001b[0;34m(\u001b[0m\u001b[0mstmt\u001b[0m\u001b[0;34m=\u001b[0m\u001b[0mstmt\u001b[0m\u001b[0;34m,\u001b[0m \u001b[0msetup\u001b[0m\u001b[0;34m=\u001b[0m\u001b[0msetup\u001b[0m\u001b[0;34m,\u001b[0m \u001b[0minit\u001b[0m\u001b[0;34m=\u001b[0m\u001b[0minit\u001b[0m\u001b[0;34m)\u001b[0m\u001b[0;34m\u001b[0m\u001b[0;34m\u001b[0m\u001b[0m\n\u001b[1;32m    132\u001b[0m         \u001b[0mself\u001b[0m\u001b[0;34m.\u001b[0m\u001b[0msrc\u001b[0m \u001b[0;34m=\u001b[0m \u001b[0msrc\u001b[0m  \u001b[0;31m# Save for traceback display\u001b[0m\u001b[0;34m\u001b[0m\u001b[0;34m\u001b[0m\u001b[0m\n",
      "\u001b[0;31mValueError\u001b[0m: stmt is neither a string nor callable"
     ]
    }
   ],
   "source": [
    "for n in range(1,100):\n",
    "    l = np.random.random(n)\n",
    "    print(n, timeit.Timer(function_one(l), 'gc.enable()').timeit())"
   ]
  },
  {
   "cell_type": "code",
   "execution_count": 16,
   "metadata": {},
   "outputs": [
    {
     "name": "stdout",
     "output_type": "stream",
     "text": [
      "Populating the interactive namespace from numpy and matplotlib\n"
     ]
    }
   ],
   "source": [
    "%pylab inline\n",
    "from ttictoc import TicToc\n",
    "from tqdm import tqdm"
   ]
  },
  {
   "cell_type": "code",
   "execution_count": null,
   "metadata": {},
   "outputs": [
    {
     "name": "stderr",
     "output_type": "stream",
     "text": [
      "\n",
      "  0%|          | 0/499 [00:00<?, ?it/s]\u001b[A\n",
      " 18%|█▊        | 92/499 [00:00<00:00, 919.43it/s]\u001b[A\n",
      " 25%|██▍       | 123/499 [00:00<00:00, 577.79it/s]\u001b[A\n",
      " 30%|███       | 152/499 [00:00<00:00, 376.46it/s]\u001b[A\n",
      " 36%|███▌      | 179/499 [00:00<00:01, 255.13it/s]\u001b[A\n",
      " 40%|████      | 202/499 [00:00<00:01, 184.96it/s]\u001b[A\n",
      " 44%|████▍     | 222/499 [00:00<00:02, 136.62it/s]\u001b[A\n",
      " 48%|████▊     | 239/499 [00:01<00:02, 107.79it/s]\u001b[A\n",
      " 51%|█████     | 253/499 [00:01<00:02, 91.23it/s] \u001b[A\n",
      " 53%|█████▎    | 265/499 [00:01<00:03, 77.81it/s]\u001b[A\n",
      " 55%|█████▌    | 275/499 [00:01<00:03, 69.34it/s]\u001b[A\n",
      " 57%|█████▋    | 284/499 [00:01<00:03, 61.76it/s]\u001b[A\n",
      " 59%|█████▊    | 292/499 [00:02<00:03, 56.54it/s]\u001b[A\n",
      " 60%|█████▉    | 299/499 [00:02<00:03, 51.64it/s]\u001b[A\n",
      " 61%|██████    | 305/499 [00:02<00:04, 47.58it/s]\u001b[A\n",
      " 62%|██████▏   | 311/499 [00:02<00:04, 45.62it/s]\u001b[A\n",
      " 63%|██████▎   | 316/499 [00:02<00:04, 43.62it/s]\u001b[A\n",
      " 64%|██████▍   | 321/499 [00:02<00:04, 42.04it/s]\u001b[A\n",
      " 65%|██████▌   | 326/499 [00:03<00:04, 39.89it/s]\u001b[A\n",
      " 66%|██████▋   | 331/499 [00:03<00:04, 38.11it/s]\u001b[A\n",
      " 67%|██████▋   | 335/499 [00:03<00:04, 36.67it/s]\u001b[A\n",
      " 68%|██████▊   | 339/499 [00:03<00:04, 34.69it/s]\u001b[A\n",
      " 69%|██████▊   | 343/499 [00:03<00:04, 34.38it/s]\u001b[A\n",
      " 70%|██████▉   | 347/499 [00:03<00:04, 33.67it/s]\u001b[A\n",
      " 70%|███████   | 351/499 [00:03<00:04, 33.54it/s]\u001b[A\n",
      " 71%|███████   | 355/499 [00:03<00:04, 32.64it/s]\u001b[A\n",
      " 72%|███████▏  | 359/499 [00:04<00:04, 32.41it/s]\u001b[A\n",
      " 73%|███████▎  | 363/499 [00:04<00:04, 31.91it/s]\u001b[A\n",
      " 74%|███████▎  | 367/499 [00:04<00:04, 31.09it/s]\u001b[A\n",
      " 74%|███████▍  | 371/499 [00:04<00:04, 30.32it/s]\u001b[A\n",
      " 75%|███████▌  | 375/499 [00:04<00:04, 29.62it/s]\u001b[A\n",
      " 76%|███████▌  | 378/499 [00:04<00:04, 28.07it/s]\u001b[A\n",
      " 76%|███████▋  | 381/499 [00:04<00:04, 27.34it/s]\u001b[A\n",
      " 77%|███████▋  | 384/499 [00:04<00:04, 26.82it/s]\u001b[A\n",
      " 78%|███████▊  | 387/499 [00:05<00:04, 26.45it/s]\u001b[A\n",
      " 78%|███████▊  | 390/499 [00:05<00:04, 26.46it/s]\u001b[A\n",
      " 79%|███████▉  | 393/499 [00:05<00:04, 26.17it/s]\u001b[A\n",
      " 79%|███████▉  | 396/499 [00:05<00:04, 25.40it/s]\u001b[A\n",
      " 80%|███████▉  | 399/499 [00:05<00:04, 24.63it/s]\u001b[A\n",
      " 81%|████████  | 402/499 [00:05<00:04, 23.61it/s]\u001b[A\n",
      " 81%|████████  | 405/499 [00:05<00:04, 23.46it/s]\u001b[A\n",
      " 82%|████████▏ | 408/499 [00:05<00:03, 23.46it/s]\u001b[A\n",
      " 82%|████████▏ | 411/499 [00:06<00:03, 22.79it/s]\u001b[A\n",
      " 83%|████████▎ | 414/499 [00:06<00:03, 22.58it/s]\u001b[A\n",
      " 84%|████████▎ | 417/499 [00:06<00:03, 22.61it/s]\u001b[A\n",
      " 84%|████████▍ | 420/499 [00:06<00:03, 22.16it/s]\u001b[A\n",
      " 85%|████████▍ | 423/499 [00:06<00:03, 21.21it/s]\u001b[A\n",
      " 85%|████████▌ | 426/499 [00:06<00:03, 19.53it/s]\u001b[A\n",
      " 86%|████████▌ | 428/499 [00:06<00:03, 18.97it/s]\u001b[A\n",
      " 86%|████████▌ | 430/499 [00:07<00:03, 17.94it/s]\u001b[A\n",
      " 87%|████████▋ | 432/499 [00:07<00:03, 18.07it/s]\u001b[A\n",
      " 87%|████████▋ | 434/499 [00:07<00:03, 17.88it/s]\u001b[A\n",
      " 87%|████████▋ | 436/499 [00:07<00:03, 17.65it/s]\u001b[A\n",
      " 88%|████████▊ | 438/499 [00:07<00:03, 17.94it/s]\u001b[A\n",
      " 88%|████████▊ | 440/499 [00:07<00:03, 18.29it/s]\u001b[A\n",
      " 89%|████████▉ | 443/499 [00:07<00:02, 18.93it/s]\u001b[A\n",
      " 89%|████████▉ | 445/499 [00:07<00:02, 18.83it/s]\u001b[A\n",
      " 90%|████████▉ | 447/499 [00:07<00:02, 18.56it/s]\u001b[A\n",
      " 90%|████████▉ | 449/499 [00:08<00:02, 18.30it/s]\u001b[A\n",
      " 90%|█████████ | 451/499 [00:08<00:02, 18.18it/s]\u001b[A\n",
      " 91%|█████████ | 453/499 [00:08<00:02, 17.94it/s]\u001b[A\n",
      " 91%|█████████ | 455/499 [00:08<00:02, 17.86it/s]\u001b[A"
     ]
    }
   ],
   "source": [
    "\n",
    "\n",
    "rng = 500\n",
    "\n",
    "x = np.arange(1,rng)\n",
    "y = []\n",
    "for n in tqdm(range(1,rng)):\n",
    "    t = TicToc()\n",
    "    l = np.random.random(n)\n",
    "    t.tic()\n",
    "    function_one(l)\n",
    "    t.toc()\n",
    "    y.append(t.elapsed)\n",
    "y = np.array(y)\n",
    "\n",
    "plt.scatter(x, y)\n"
   ]
  },
  {
   "cell_type": "code",
   "execution_count": null,
   "metadata": {},
   "outputs": [],
   "source": []
  },
  {
   "cell_type": "code",
   "execution_count": null,
   "metadata": {},
   "outputs": [],
   "source": []
  },
  {
   "cell_type": "code",
   "execution_count": null,
   "metadata": {
    "deletable": false,
    "editable": false,
    "nbgrader": {
     "cell_type": "code",
     "checksum": "e24b0d0d7a545d021f4665d8f0151f80",
     "grade": true,
     "grade_id": "cell-db691e7cf24a237a",
     "locked": true,
     "points": 0.5,
     "schema_version": 3,
     "solution": false
    }
   },
   "outputs": [],
   "source": []
  },
  {
   "cell_type": "code",
   "execution_count": null,
   "metadata": {
    "deletable": false,
    "editable": false,
    "nbgrader": {
     "cell_type": "code",
     "checksum": "897bbedb5b0a97648da6cbca390c40f8",
     "grade": true,
     "grade_id": "cell-e42ebb8a50871384",
     "locked": true,
     "points": 0.5,
     "schema_version": 3,
     "solution": false
    }
   },
   "outputs": [],
   "source": []
  },
  {
   "cell_type": "code",
   "execution_count": null,
   "metadata": {
    "deletable": false,
    "editable": false,
    "nbgrader": {
     "cell_type": "code",
     "checksum": "739932633b0f3ca80064301eb528bcfe",
     "grade": true,
     "grade_id": "cell-5cfbbdefbb709bdb",
     "locked": true,
     "points": 0.5,
     "schema_version": 3,
     "solution": false
    }
   },
   "outputs": [],
   "source": []
  },
  {
   "cell_type": "code",
   "execution_count": null,
   "metadata": {
    "deletable": false,
    "editable": false,
    "nbgrader": {
     "cell_type": "code",
     "checksum": "22e07385ffa0fc6c20cabec14aea4d89",
     "grade": true,
     "grade_id": "cell-3ad938008543e65c",
     "locked": true,
     "points": 0.5,
     "schema_version": 3,
     "solution": false
    }
   },
   "outputs": [],
   "source": []
  }
 ],
 "metadata": {
  "kernelspec": {
   "display_name": "Python 3",
   "language": "python",
   "name": "python3"
  },
  "language_info": {
   "codemirror_mode": {
    "name": "ipython",
    "version": 3
   },
   "file_extension": ".py",
   "mimetype": "text/x-python",
   "name": "python",
   "nbconvert_exporter": "python",
   "pygments_lexer": "ipython3",
   "version": "3.6.7"
  }
 },
 "nbformat": 4,
 "nbformat_minor": 2
}
