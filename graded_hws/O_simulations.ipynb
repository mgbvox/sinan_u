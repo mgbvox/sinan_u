{
 "cells": [
  {
   "cell_type": "markdown",
   "metadata": {},
   "source": [
    "<subject>\n",
    "Assignment How-To\n",
    "</subject>\n",
    "\n",
    "<details>\n",
    "    \n",
    "**Do Not Talk During Quizzes or Exams**\n",
    "\n",
    "Do not talk at all once an exam has begun. You may talk again once you leave the room after the quiz or exam. The one exception to this rule is if you need to ask the exam proctor a question. Any talking during a quiz or exam qualifies the student for disciplinary action.\n",
    "\n",
    "**Naming Conventions**\n",
    "\n",
    "When naming your files for upload, you must follow the format below:\n",
    "\n",
    "    <uni>_<assignment>_<details [optional]>.<extension>\n",
    "\n",
    "For example, if I needed to hand in HW 0, any of the below formats would be sufficient for a file name:\n",
    "\n",
    "- pl2648_hw0.ipynb\n",
    "- pl2648_hw0.txt\n",
    "- pl2648_hw0.sh\n",
    "- pl2648_hw0_all_in_one.txt\n",
    "- Pl2648_hw0_bash_program.sh\n",
    "- Pl2648_quiz1.ipynb\n",
    "\n",
    "This naming format allows for autograding of all assignments. If your files are not named with this format, you should expect a grade of zero for the assignment.\n",
    "\n",
    "Courseworks may rename your file to something like `pl2648_hw0-1.ipynb` if you resubmit your assignment. This is perfectly fine.\n",
    "\n",
    "**What Format To Submit In**\n",
    "\n",
    "Most homework and quizzes are in Jupyter notebooks. Unless specified otherwise, please download your work as an `.ipynb` file from your local machine and upload it to courseworks.\n",
    "\n",
    "\n",
    "**Grading**\n",
    "\n",
    "Possible points on late assignments are deducted by 50% for each day they are late. For example, if you get 80% of the total possible credits on a homework but hand in that homework a day late, you would get 40%. Assignments two days late get zero points.\n",
    "\n",
    "Once solutions are posted and graded assignments are handed back, students have 1 week to bring their grading discrepancies to a CA for consideration of possible grading errors. \n",
    "\n",
    "Because grading is automated, please delete (or comment out) the `raise NotImplmeneted` code before attempting a problem. \n",
    "\n",
    "Empty un-editable cells in an assignment are there for a purpose. They will be filled with tests by the automatic grader. Please do not attempt to remove them.\n",
    "\n",
    "**Getting Help**\n",
    "\n",
    "Asking for help is a great way to increase your chance of success. However there are some rules. When asking for help (especially from a fellow student), *you can show your helper your code but you can not view theirs*. You work needs to be your own. You can not post screenshots of your current work to Piazza or other tools used for getting help.\n",
    "\n",
    "If you need to reach out to a CA for help, please do so via Piazza and not via email. Answers given via Piazza will help you as well as other students. Thus, emails will always have a lower priority for response than Piazza questions. If you do email the CA, please make a note of what section you are in. This helps us identify you in courseworks faster. \n",
    "\n",
    "Finally, if you do not get a repsonse from a CA within 48 hours, you may email the professor.\n",
    "\n",
    "**Multiple Choice**\n",
    "\n",
    "If the question is multiple choice, you will be given several options to choose from and your function will need to return **one** of those options **verbatim** as a string.\n",
    "\n",
    "For example: \n",
    "\n",
    "Which of the following animals bark?\n",
    "\n",
    "- dogs\n",
    "- cats\n",
    "- fish\n",
    "- trees\n",
    "\n",
    "A correct answer would be structured in the following way:\n",
    "\n",
    "```python\n",
    "def question_animals():\n",
    "    return 'dogs'\n",
    "```\n",
    "\n",
    "You answer will be stripped of left and right white space and lowercased before comparison to the correct answer during grading.\n",
    "</details>"
   ]
  },
  {
   "cell_type": "code",
   "execution_count": 1,
   "metadata": {},
   "outputs": [
    {
     "name": "stdout",
     "output_type": "stream",
     "text": [
      "Populating the interactive namespace from numpy and matplotlib\n"
     ]
    }
   ],
   "source": [
    "%pylab inline\n",
    "from ttictoc import TicToc\n",
    "from tqdm import tqdm\n",
    "\n",
    "\n",
    "def function_one(list_):\n",
    "    for pass_ in range(len(list_) - 1, 0, -1):\n",
    "        for i in range(pass_):\n",
    "            if list_[i] > list_[i+1]:\n",
    "                temp = list_[i]\n",
    "                list_[i] = list_[i+1]\n",
    "                list_[i+1] = temp\n",
    "\n",
    "\n",
    "def function_two(list_):\n",
    "    if len(list_) > 1:\n",
    "        midpoint_index = len(list_) // 2\n",
    "        left_half = list_[:midpoint_index]\n",
    "        right_half = list_[midpoint_index:]\n",
    "\n",
    "        function_two(left_half)\n",
    "        function_two(right_half)\n",
    "\n",
    "        left_half_pos = 0\n",
    "        right_half_pos = 0\n",
    "        new_position = 0\n",
    "        while left_half_pos < len(left_half) and right_half_pos < len(right_half):\n",
    "            if left_half[left_half_pos] < right_half[right_half_pos]:\n",
    "                list_[new_position] = left_half[left_half_pos]\n",
    "                left_half_pos += 1\n",
    "            else:\n",
    "                list_[new_position] = right_half[right_half_pos]\n",
    "                right_half_pos += 1\n",
    "\n",
    "            new_position += 1\n",
    "\n",
    "        # empty remaning items in left list\n",
    "        while left_half_pos < len(left_half):\n",
    "            list_[new_position] = left_half[left_half_pos]\n",
    "            left_half_pos += 1\n",
    "            new_position += 1\n",
    "\n",
    "        # empty remaning items in right list\n",
    "        while right_half_pos < len(right_half):\n",
    "            list_[new_position]=right_half[right_half_pos]\n",
    "            right_half_pos += 1\n",
    "            new_position += 1\n",
    "            \n",
    "\n",
    "def function_three(x, max_):\n",
    "    assert 0 < x < max_\n",
    "    while x < max_:\n",
    "        x *= 2\n",
    "\n",
    "\n",
    "def function_four(x):\n",
    "    for i in range(x):\n",
    "        for j in range(x - i):\n",
    "            for k in range(x - j):\n",
    "                if i + j + k == 0:\n",
    "                    break\n",
    "            if i + j == 0:\n",
    "                break\n",
    "        if i == 0:\n",
    "            break\n",
    "    return x + 1  "
   ]
  },
  {
   "cell_type": "markdown",
   "metadata": {
    "deletable": false,
    "editable": false,
    "nbgrader": {
     "cell_type": "markdown",
     "checksum": "56f0bf1b032450d675cff8db722a5b38",
     "grade": false,
     "grade_id": "cell-e3b7559ac6515cc1",
     "locked": true,
     "schema_version": 3,
     "solution": false
    }
   },
   "source": [
    "**Q**: Build a function named `get_answer` that returns a dictionary that maps function names (strings) to Big-O values (also strings) for those functions. The valid Big-O options are:\n",
    "\n",
    "- 'O(1)'\n",
    "- 'O(N)'\n",
    "- 'O(LOG2(N))'\n",
    "- 'O(N * LOG2(N))'\n",
    "- 'O(N^2)'\n",
    "- 'O(inf)'  # This is Big-O of infinity\n",
    "\n",
    "For example, if given the following function...\n",
    "\n",
    "```python\n",
    "def return_true(data):\n",
    "    return True\n",
    "```\n",
    "\n",
    "... the correct `get_answer` function would be ...\n",
    "\n",
    "```python\n",
    "def get_answer():\n",
    "    return {\n",
    "        'return_true': 'O(1)',\n",
    "    }\n",
    "```\n",
    "\n",
    "Determine the Big-O value for the following functions.\n",
    "\n",
    "```python\n",
    "def function_one(list_):\n",
    "    for pass_ in range(len(list_) - 1, 0, -1):\n",
    "        for i in range(pass_):\n",
    "            if list_[i] > list_[i+1]:\n",
    "                temp = list_[i]\n",
    "                list_[i] = list_[i+1]\n",
    "                list_[i+1] = temp\n",
    "\n",
    "\n",
    "def function_two(list_):\n",
    "    if len(list_) > 1:\n",
    "        midpoint_index = len(list_) // 2\n",
    "        left_half = list_[:midpoint_index]\n",
    "        right_half = list_[midpoint_index:]\n",
    "\n",
    "        function_two(left_half)\n",
    "        function_two(right_half)\n",
    "\n",
    "        left_half_pos = 0\n",
    "        right_half_pos = 0\n",
    "        new_position = 0\n",
    "        while left_half_pos < len(left_half) and right_half_pos < len(right_half):\n",
    "            if left_half[left_half_pos] < right_half[right_half_pos]:\n",
    "                list_[new_position] = left_half[left_half_pos]\n",
    "                left_half_pos += 1\n",
    "            else:\n",
    "                list_[new_position] = right_half[right_half_pos]\n",
    "                right_half_pos += 1\n",
    "\n",
    "            new_position += 1\n",
    "\n",
    "        # empty remaning items in left list\n",
    "        while left_half_pos < len(left_half):\n",
    "            list_[new_position] = left_half[left_half_pos]\n",
    "            left_half_pos += 1\n",
    "            new_position += 1\n",
    "\n",
    "        # empty remaning items in right list\n",
    "        while right_half_pos < len(right_half):\n",
    "            list_[new_position]=right_half[right_half_pos]\n",
    "            right_half_pos += 1\n",
    "            new_position += 1\n",
    "            \n",
    "\n",
    "def function_three(x, max_):\n",
    "    assert 0 < x < max_\n",
    "    while x < max_:\n",
    "        x *= 2\n",
    "\n",
    "\n",
    "def function_four(x):\n",
    "    for i in range(x):\n",
    "        for j in range(x - i):\n",
    "            for k in range(x - j):\n",
    "                if i + j + k == 0:\n",
    "                    break\n",
    "            if i + j == 0:\n",
    "                break\n",
    "        if i == 0:\n",
    "            break\n",
    "    return x + 1    \n",
    "```\n",
    "\n",
    "[2 points]"
   ]
  },
  {
   "cell_type": "markdown",
   "metadata": {},
   "source": [
    "**Q**: Build a function named `get_answer` that returns a dictionary that maps function names (strings) to Big-O values (also strings) for those functions. The valid Big-O options are:\n",
    "\n",
    "- 'O(1)'\n",
    "- 'O(N)'\n",
    "- 'O(LOG2(N))'\n",
    "- 'O(N * LOG2(N))'\n",
    "- 'O(N^2)'\n",
    "- 'O(inf)'  # This is Big-O of infinity"
   ]
  },
  {
   "cell_type": "code",
   "execution_count": 1,
   "metadata": {
    "deletable": false,
    "nbgrader": {
     "cell_type": "code",
     "checksum": "17104cf7049634816f78541446d018f8",
     "grade": false,
     "grade_id": "cell-f4d3188b8d4bbc53",
     "locked": false,
     "schema_version": 3,
     "solution": true
    }
   },
   "outputs": [],
   "source": [
    "def get_answer():\n",
    "    # YOUR CODE HERE\n",
    "    {\n",
    "        'function_one':'O(N^2)',\n",
    "        'function_two':'O(N*LOG2(N))',\n",
    "        'function_three':'O(LOG2(N))',\n",
    "        'function_four':'O(1)'\n",
    "    }\n",
    "    \n",
    "    # YOUR CODE HERE\n",
    "    #raise NotImplementedError()"
   ]
  },
  {
   "cell_type": "markdown",
   "metadata": {},
   "source": [
    "**Q**: Build a function named `get_answer` that returns a dictionary that maps function names (strings) to Big-O values (also strings) for those functions. The valid Big-O options are:\n",
    "\n",
    "- 'O(1)'\n",
    "- 'O(N)'\n",
    "- 'O(LOG2(N))'\n",
    "- 'O(N * LOG2(N))'\n",
    "- 'O(N^2)'\n",
    "- 'O(inf)'  # This is Big-O of infinity"
   ]
  },
  {
   "cell_type": "code",
   "execution_count": 12,
   "metadata": {},
   "outputs": [
    {
     "data": {
      "image/png": "[encoded data removed]",
      "text/plain": [
       "<Figure size 432x288 with 1 Axes>"
      ]
     },
     "metadata": {
      "needs_background": "light"
     },
     "output_type": "display_data"
    },
    {
     "data": {
      "image/png": "[encoded data removed]",
      "text/plain": [
       "<Figure size 432x288 with 1 Axes>"
      ]
     },
     "metadata": {
      "needs_background": "light"
     },
     "output_type": "display_data"
    },
    {
     "data": {
      "image/png": "[encoded data removed]",
      "text/plain": [
       "<Figure size 432x288 with 1 Axes>"
      ]
     },
     "metadata": {
      "needs_background": "light"
     },
     "output_type": "display_data"
    },
    {
     "data": {
      "image/png": "[encoded data removed]",
      "text/plain": [
       "<Figure size 432x288 with 1 Axes>"
      ]
     },
     "metadata": {
      "needs_background": "light"
     },
     "output_type": "display_data"
    },
    {
     "data": {
      "image/png": "[encoded data removed]",
      "text/plain": [
       "<Figure size 432x288 with 1 Axes>"
      ]
     },
     "metadata": {
      "needs_background": "light"
     },
     "output_type": "display_data"
    }
   ],
   "source": [
    "rng = 100\n",
    "x = np.arange(1, rng)\n",
    "y0 = np.array([1]*(rng-1))\n",
    "y1 = x\n",
    "y2 = np.log(x)\n",
    "y3 = x*np.log(x)\n",
    "y4 = x**2\n",
    "\n",
    "plt.scatter(x,y0)\n",
    "plt.title('O(1) curve')\n",
    "plt.show()\n",
    "\n",
    "plt.scatter(x,y1)\n",
    "plt.title('O(N) curve')\n",
    "plt.show()\n",
    "\n",
    "plt.scatter(x,y2)\n",
    "plt.title('O(log(N)) curve')\n",
    "plt.show()\n",
    "\n",
    "plt.scatter(x,y3)\n",
    "plt.title('O(N*log(N)) curve')\n",
    "plt.show()\n",
    "\n",
    "plt.scatter(x,y4)\n",
    "plt.title('O(N^2) curve')\n",
    "plt.show()"
   ]
  },
  {
   "cell_type": "code",
   "execution_count": 2,
   "metadata": {},
   "outputs": [
    {
     "name": "stderr",
     "output_type": "stream",
     "text": [
      "100%|██████████| 499/499 [00:10<00:00, 16.31it/s]\n"
     ]
    },
    {
     "data": {
      "text/plain": [
       "<matplotlib.collections.PathCollection at 0x1106cbfd0>"
      ]
     },
     "execution_count": 2,
     "metadata": {},
     "output_type": "execute_result"
    },
    {
     "data": {
      "image/png": "[encoded data removed]",
      "text/plain": [
       "<Figure size 432x288 with 1 Axes>"
      ]
     },
     "metadata": {
      "needs_background": "light"
     },
     "output_type": "display_data"
    }
   ],
   "source": [
    "#Simulation for F1:\n",
    "rng = 500\n",
    "\n",
    "x = np.arange(1,rng)\n",
    "y = []\n",
    "for n in tqdm(range(1,rng)):\n",
    "    t = TicToc()\n",
    "    l = np.random.random(n)\n",
    "    t.tic()\n",
    "    function_one(l)\n",
    "    t.toc()\n",
    "    y.append(t.elapsed)\n",
    "y = np.array(y)\n",
    "\n",
    "plt.scatter(x, y)\n"
   ]
  },
  {
   "cell_type": "code",
   "execution_count": 15,
   "metadata": {},
   "outputs": [
    {
     "name": "stderr",
     "output_type": "stream",
     "text": [
      "100%|██████████| 999/999 [00:03<00:00, 311.46it/s]\n"
     ]
    },
    {
     "data": {
      "text/plain": [
       "<matplotlib.collections.PathCollection at 0x119160128>"
      ]
     },
     "execution_count": 15,
     "metadata": {},
     "output_type": "execute_result"
    },
    {
     "data": {
      "image/png": "[encoded data removed]",
      "text/plain": [
       "<Figure size 432x288 with 1 Axes>"
      ]
     },
     "metadata": {
      "needs_background": "light"
     },
     "output_type": "display_data"
    }
   ],
   "source": [
    "#Simulation for F2:\n",
    "rng = 1000\n",
    "\n",
    "x = np.arange(1,rng)\n",
    "y = []\n",
    "for n in tqdm(range(1,rng)):\n",
    "    t = TicToc()\n",
    "    l = np.random.random(n)\n",
    "    t.tic()\n",
    "    function_two(l)\n",
    "    t.toc()\n",
    "    y.append(t.elapsed)\n",
    "y = np.array(y)\n",
    "\n",
    "plt.scatter(x, y)"
   ]
  },
  {
   "cell_type": "code",
   "execution_count": 21,
   "metadata": {},
   "outputs": [
    {
     "name": "stderr",
     "output_type": "stream",
     "text": [
      "100%|██████████| 999/999 [00:00<00:00, 34569.87it/s]\n"
     ]
    },
    {
     "data": {
      "text/plain": [
       "<matplotlib.collections.PathCollection at 0x1191134a8>"
      ]
     },
     "execution_count": 21,
     "metadata": {},
     "output_type": "execute_result"
    },
    {
     "data": {
      "image/png": "[encoded data removed]",
      "text/plain": [
       "<Figure size 432x288 with 1 Axes>"
      ]
     },
     "metadata": {
      "needs_background": "light"
     },
     "output_type": "display_data"
    }
   ],
   "source": [
    "#Simulation for F3:\n",
    "rng = 1000\n",
    "\n",
    "\n",
    "x = np.arange(1,rng)\n",
    "x_i = 1\n",
    "y = []\n",
    "for n in tqdm(range(1,rng)):\n",
    "    max_ = x_i*(n+1)\n",
    "    t = TicToc()\n",
    "    l = np.random.random(n)\n",
    "    t.tic()\n",
    "    function_three(x_i, max_)\n",
    "    t.toc()\n",
    "    y.append(t.elapsed)\n",
    "y = np.array(y)\n",
    "\n",
    "plt.scatter(x, y)"
   ]
  },
  {
   "cell_type": "code",
   "execution_count": 23,
   "metadata": {},
   "outputs": [
    {
     "name": "stderr",
     "output_type": "stream",
     "text": [
      "100%|██████████| 999/999 [00:00<00:00, 97854.03it/s]\n"
     ]
    },
    {
     "data": {
      "text/plain": [
       "<matplotlib.collections.PathCollection at 0x11996def0>"
      ]
     },
     "execution_count": 23,
     "metadata": {},
     "output_type": "execute_result"
    },
    {
     "data": {
      "image/png": "[encoded data removed]",
      "text/plain": [
       "<Figure size 432x288 with 1 Axes>"
      ]
     },
     "metadata": {
      "needs_background": "light"
     },
     "output_type": "display_data"
    }
   ],
   "source": [
    "#Simulation for F4:\n",
    "rng = 1000\n",
    "\n",
    "x = np.arange(1,rng)\n",
    "y = []\n",
    "for n in tqdm(range(1,rng)):\n",
    "    t = TicToc()\n",
    "    t.tic()\n",
    "    function_four(n)\n",
    "    t.toc()\n",
    "    y.append(t.elapsed)\n",
    "y = np.array(y)\n",
    "\n",
    "plt.scatter(x, y)"
   ]
  },
  {
   "cell_type": "markdown",
   "metadata": {},
   "source": [
    "Correct Answers:</br>\n",
    "1: O(N^2)</br>\n",
    "2: O(N)</br>\n",
    "3: O(1)</br>\n",
    "4: O(1)"
   ]
  },
  {
   "cell_type": "code",
   "execution_count": null,
   "metadata": {
    "deletable": false,
    "editable": false,
    "nbgrader": {
     "cell_type": "code",
     "checksum": "e24b0d0d7a545d021f4665d8f0151f80",
     "grade": true,
     "grade_id": "cell-db691e7cf24a237a",
     "locked": true,
     "points": 0.5,
     "schema_version": 3,
     "solution": false
    }
   },
   "outputs": [],
   "source": []
  },
  {
   "cell_type": "code",
   "execution_count": null,
   "metadata": {
    "deletable": false,
    "editable": false,
    "nbgrader": {
     "cell_type": "code",
     "checksum": "897bbedb5b0a97648da6cbca390c40f8",
     "grade": true,
     "grade_id": "cell-e42ebb8a50871384",
     "locked": true,
     "points": 0.5,
     "schema_version": 3,
     "solution": false
    }
   },
   "outputs": [],
   "source": []
  },
  {
   "cell_type": "code",
   "execution_count": null,
   "metadata": {
    "deletable": false,
    "editable": false,
    "nbgrader": {
     "cell_type": "code",
     "checksum": "739932633b0f3ca80064301eb528bcfe",
     "grade": true,
     "grade_id": "cell-5cfbbdefbb709bdb",
     "locked": true,
     "points": 0.5,
     "schema_version": 3,
     "solution": false
    }
   },
   "outputs": [],
   "source": []
  },
  {
   "cell_type": "code",
   "execution_count": null,
   "metadata": {
    "deletable": false,
    "editable": false,
    "nbgrader": {
     "cell_type": "code",
     "checksum": "22e07385ffa0fc6c20cabec14aea4d89",
     "grade": true,
     "grade_id": "cell-3ad938008543e65c",
     "locked": true,
     "points": 0.5,
     "schema_version": 3,
     "solution": false
    }
   },
   "outputs": [],
   "source": []
  }
 ],
 "metadata": {
  "kernelspec": {
   "display_name": "Python 3",
   "language": "python",
   "name": "python3"
  },
  "language_info": {
   "codemirror_mode": {
    "name": "ipython",
    "version": 3
   },
   "file_extension": ".py",
   "mimetype": "text/x-python",
   "name": "python",
   "nbconvert_exporter": "python",
   "pygments_lexer": "ipython3",
   "version": "3.6.7"
  }
 },
 "nbformat": 4,
 "nbformat_minor": 2
}
