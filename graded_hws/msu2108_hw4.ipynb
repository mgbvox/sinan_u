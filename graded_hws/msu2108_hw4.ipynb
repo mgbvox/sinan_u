{
 "cells": [
  {
   "cell_type": "markdown",
   "metadata": {},
   "source": [
    "<subject>\n",
    "Assignment How-To\n",
    "</subject>\n",
    "\n",
    "<details>\n",
    "\n",
    "**Naming Conventions**\n",
    "\n",
    "When naming your files for upload, you must follow the format below:\n",
    "\n",
    "    <uni>_<assignment>_<details [optional]>.<extension>\n",
    "\n",
    "For example, if I needed to hand in HW 0, any of the below formats would be sufficient for a file name:\n",
    "\n",
    "- pl2648_hw0.ipynb\n",
    "- pl2648_hw0.txt\n",
    "- pl2648_hw0.sh\n",
    "- pl2648_hw0_all_in_one.txt\n",
    "- Pl2648_hw0_bash_program.sh\n",
    "\n",
    "This naming format allows for autograding of all assignments. If your files are not named with this format, you should expect a grade of zero for the assignment.\n",
    "\n",
    "**Grading**\n",
    "\n",
    "Possible points on late homeworks are deducted by 50% for each day they are late. For example, if you get 80% of the total possible credits on a homework but hand in that homework a day late, you would get 40%. Assignments two days late get zero points.\n",
    "\n",
    "Once solutions are posted and graded assignments are handed back, students have 1 week to bring their grading discrepancies to a CA for consideration of possible grading errors. \n",
    "\n",
    "**Getting Help**\n",
    "\n",
    "Asking for help is a great way to increase your chance of success. However there are some rules. When asking for help (especially from a fellow student), *you can show your helper your code but you can not view theirs*. You work needs to be your own. \n",
    "\n",
    "If you need to reach out to a CA or the Professor for help, please do so via Piazza and not via email. Answers given via Piazza will help you as well as other students. Thus, emails will always have a lower priority for response than Piazza questions. If you do email the professor or TA, please make a note of what section you are in. This helps us identify you in courseworks faster.\n",
    "\n",
    "**Multiple Choice**\n",
    "\n",
    "If the question is multiple choice, you will be given several options to choose from and your function will need to return **one** of those options **verbatim** as a string.\n",
    "\n",
    "For example: \n",
    "\n",
    "Which of the following animals bark?\n",
    "\n",
    "- dogs\n",
    "- cats\n",
    "- fish\n",
    "- trees\n",
    "\n",
    "A correct answer would be structured in the following way:\n",
    "\n",
    "```python\n",
    "def question_animals():\n",
    "    return 'dogs'\n",
    "```\n",
    "\n",
    "You answer will be stripped of left and right white space and lowercased before comparison to the correct answer during grading.\n",
    "</details>"
   ]
  },
  {
   "cell_type": "markdown",
   "metadata": {
    "deletable": false,
    "editable": false,
    "nbgrader": {
     "cell_type": "markdown",
     "checksum": "18f016e72e28aa001ffb4558da41944f",
     "grade": false,
     "grade_id": "cell-b336681f25ead331",
     "locked": true,
     "schema_version": 3,
     "solution": false
    }
   },
   "source": [
    "**Q**: Write a function `verify` that takes a string as user input (via arguments! not via the built-in function `input`) and returns the string if it contains a number, an uppercase letter, and a lowercase letter. The function should raise a `ValueError` otherwise. The `ValueError` should have the exact message `'Must contain a number, an uppercase letter, and a lowercase letter'`.\n",
    "\n",
    "[1 point]"
   ]
  },
  {
   "cell_type": "code",
   "execution_count": 8,
   "metadata": {
    "deletable": false,
    "nbgrader": {
     "cell_type": "code",
     "checksum": "6704d165e01b29d46ad579dc202fc8fd",
     "grade": false,
     "grade_id": "cell-51ed750f23e67ce9",
     "locked": false,
     "schema_version": 3,
     "solution": true
    }
   },
   "outputs": [],
   "source": [
    "def verify(string: str) -> str:\n",
    "    bool_list = []\n",
    "    for char in string:\n",
    "        bool_list.append(char.isupper())\n",
    "    has_upper = (True in bool_list)\n",
    "    bool_list = []\n",
    "    for char in string:\n",
    "        bool_list.append(char.islower())\n",
    "    has_lower = (True in bool_list)\n",
    "    bool_list = []\n",
    "    for char in string:\n",
    "        bool_list.append(char.isdigit())\n",
    "    has_digit = (True in bool_list)\n",
    "    try:\n",
    "        assert(has_upper and has_lower and has_digit)\n",
    "        return string\n",
    "    \n",
    "    except:\n",
    "        raise ValueError('Must contain a number, an uppercase letter, and a lowercase letter')\n",
    "        \n",
    "    # YOUR CODE HERE\n",
    "    #raise NotImplementedError()"
   ]
  },
  {
   "cell_type": "code",
   "execution_count": 9,
   "metadata": {
    "deletable": false,
    "editable": false,
    "nbgrader": {
     "cell_type": "code",
     "checksum": "90fdbc49d6e67423d9801ae0b4c14fb2",
     "grade": true,
     "grade_id": "cell-8558a10afc63169f",
     "locked": true,
     "points": 0,
     "schema_version": 3,
     "solution": false
    }
   },
   "outputs": [],
   "source": [
    "### BEGIN HIDDEN TESTS\n",
    "msg = 'Must contain a number, an uppercase letter, and a lowercase letter'\n",
    "### END HIDDEN TESTS"
   ]
  },
  {
   "cell_type": "code",
   "execution_count": 10,
   "metadata": {
    "deletable": false,
    "editable": false,
    "nbgrader": {
     "cell_type": "code",
     "checksum": "ec41043dd41ec56d01e24b6553ef686b",
     "grade": true,
     "grade_id": "cell-43a9d60751a75846",
     "locked": true,
     "points": 0.25,
     "schema_version": 3,
     "solution": false
    }
   },
   "outputs": [],
   "source": [
    "### BEGIN HIDDEN TESTS\n",
    "try:\n",
    "    verify('ab1')\n",
    "    assert False, 'Should not pass'\n",
    "except ValueError as e:\n",
    "    assert str(e) == msg\n",
    "### END HIDDEN TESTS    "
   ]
  },
  {
   "cell_type": "code",
   "execution_count": 11,
   "metadata": {
    "deletable": false,
    "editable": false,
    "nbgrader": {
     "cell_type": "code",
     "checksum": "e7be2a0b7fd8069bad102e30ba65800f",
     "grade": true,
     "grade_id": "cell-286dd59ff59f783e",
     "locked": true,
     "points": 0.25,
     "schema_version": 3,
     "solution": false
    }
   },
   "outputs": [],
   "source": [
    "### BEGIN HIDDEN TESTS\n",
    "try:\n",
    "    verify('AB1')\n",
    "    assert False, 'Should not pass'\n",
    "except ValueError as e:\n",
    "    assert str(e) == msg\n",
    "### END HIDDEN TESTS   "
   ]
  },
  {
   "cell_type": "code",
   "execution_count": 12,
   "metadata": {
    "deletable": false,
    "editable": false,
    "nbgrader": {
     "cell_type": "code",
     "checksum": "f1922f8c475fb010a22834d9e24d3ec4",
     "grade": true,
     "grade_id": "cell-b5e1ec457b072396",
     "locked": true,
     "points": 0.25,
     "schema_version": 3,
     "solution": false
    }
   },
   "outputs": [],
   "source": [
    "### BEGIN HIDDEN TESTS\n",
    "try:\n",
    "    verify('Abc')\n",
    "    assert False, 'Should not pass'\n",
    "except ValueError as e:\n",
    "    assert str(e) == msg\n",
    "### END HIDDEN TESTS   "
   ]
  },
  {
   "cell_type": "code",
   "execution_count": 13,
   "metadata": {
    "deletable": false,
    "editable": false,
    "nbgrader": {
     "cell_type": "code",
     "checksum": "01cd1f267f2227ae5905d80812237a31",
     "grade": true,
     "grade_id": "cell-2b369f2e4501cc5b",
     "locked": true,
     "points": 0.25,
     "schema_version": 3,
     "solution": false
    }
   },
   "outputs": [],
   "source": [
    "### BEGIN HIDDEN TESTS\n",
    "try:\n",
    "    verify('Ab1')\n",
    "    assert True\n",
    "except ValueError as e:\n",
    "    assert False, 'Should pass'\n",
    "### END HIDDEN TESTS   "
   ]
  },
  {
   "cell_type": "markdown",
   "metadata": {
    "deletable": false,
    "editable": false,
    "nbgrader": {
     "cell_type": "markdown",
     "checksum": "ccda038cbe6d3f79e41fa1293b2f0515",
     "grade": false,
     "grade_id": "cell-5c8a19fd98bedb8f",
     "locked": true,
     "schema_version": 3,
     "solution": false
    }
   },
   "source": [
    "**Q**: Crearte a predicate function (aka. a function that returns `True` or `False` to qualify or categorize its arguments) named `is_valid_divisor`. \n",
    "\n",
    "Your function should return `True` if a value is a valid option as the divisor in a mathematical division operation. \n",
    "\n",
    "For example, `2` would be a valid divisor while `\"hi\"` would not.\n",
    "\n",
    "Your function will be passed to `filter` as its first argument to test an interable of values. \n",
    "\n",
    "[1 point]"
   ]
  },
  {
   "cell_type": "code",
   "execution_count": 17,
   "metadata": {},
   "outputs": [
    {
     "data": {
      "text/plain": [
       "type"
      ]
     },
     "execution_count": 17,
     "metadata": {},
     "output_type": "execute_result"
    }
   ],
   "source": [
    "type(int)"
   ]
  },
  {
   "cell_type": "code",
   "execution_count": 27,
   "metadata": {
    "deletable": false,
    "nbgrader": {
     "cell_type": "code",
     "checksum": "8fdd396f50dafd0344cba9ce207a9f3f",
     "grade": false,
     "grade_id": "cell-4feca3e1d1ef9168",
     "locked": false,
     "schema_version": 3,
     "solution": true
    }
   },
   "outputs": [],
   "source": [
    "def is_valid_divisor(value):\n",
    "    try:\n",
    "        test = 1/value\n",
    "        return True\n",
    "    except:\n",
    "        return False\n",
    "    \n",
    "    # YOUR CODE HERE\n",
    "    #raise NotImplementedError()"
   ]
  },
  {
   "cell_type": "code",
   "execution_count": 28,
   "metadata": {
    "deletable": false,
    "editable": false,
    "nbgrader": {
     "cell_type": "code",
     "checksum": "fe84aae89a5a3e1a24b35574408dc8cc",
     "grade": true,
     "grade_id": "cell-e2ba8fdb61141305",
     "locked": true,
     "points": 0.25,
     "schema_version": 3,
     "solution": false
    }
   },
   "outputs": [],
   "source": [
    "### BEGIN HIDDEN TESTS\n",
    "assert is_valid_divisor(1)\n",
    "### END HIDDEN TESTS"
   ]
  },
  {
   "cell_type": "code",
   "execution_count": 29,
   "metadata": {
    "deletable": false,
    "editable": false,
    "nbgrader": {
     "cell_type": "code",
     "checksum": "a13a4146e474464d81cf54bbbe0d4381",
     "grade": true,
     "grade_id": "cell-266f74082d64c1b5",
     "locked": true,
     "points": 0.25,
     "schema_version": 3,
     "solution": false
    }
   },
   "outputs": [],
   "source": [
    "### BEGIN HIDDEN TESTS\n",
    "assert is_valid_divisor('1') == False\n",
    "### END HIDDEN TESTS"
   ]
  },
  {
   "cell_type": "code",
   "execution_count": 30,
   "metadata": {
    "deletable": false,
    "editable": false,
    "nbgrader": {
     "cell_type": "code",
     "checksum": "34fde6a227a1e378e06c4e1f5ef6915e",
     "grade": true,
     "grade_id": "cell-a79d049474e317b1",
     "locked": true,
     "points": 0.25,
     "schema_version": 3,
     "solution": false
    }
   },
   "outputs": [],
   "source": [
    "### BEGIN HIDDEN TESTS\n",
    "assert is_valid_divisor(0) == False\n",
    "### END HIDDEN TESTS"
   ]
  },
  {
   "cell_type": "code",
   "execution_count": 31,
   "metadata": {
    "deletable": false,
    "editable": false,
    "nbgrader": {
     "cell_type": "code",
     "checksum": "8a5d787e47045c56533d75a341b71109",
     "grade": true,
     "grade_id": "cell-661d9daae76c9226",
     "locked": true,
     "points": 0.25,
     "schema_version": 3,
     "solution": false
    }
   },
   "outputs": [],
   "source": [
    "### BEGIN HIDDEN TESTS\n",
    "assert is_valid_divisor(None) == False\n",
    "### END HIDDEN TESTS"
   ]
  },
  {
   "cell_type": "code",
   "execution_count": null,
   "metadata": {},
   "outputs": [],
   "source": []
  }
 ],
 "metadata": {
  "kernelspec": {
   "display_name": "Python 3",
   "language": "python",
   "name": "python3"
  },
  "language_info": {
   "codemirror_mode": {
    "name": "ipython",
    "version": 3
   },
   "file_extension": ".py",
   "mimetype": "text/x-python",
   "name": "python",
   "nbconvert_exporter": "python",
   "pygments_lexer": "ipython3",
   "version": "3.6.7"
  }
 },
 "nbformat": 4,
 "nbformat_minor": 2
}
