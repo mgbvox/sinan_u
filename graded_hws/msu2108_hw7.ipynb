{
 "cells": [
  {
   "cell_type": "markdown",
   "metadata": {
    "deletable": false,
    "editable": false,
    "nbgrader": {
     "checksum": "cf30697aa6670bdd949e88cb8fd0eaab",
     "grade": false,
     "grade_id": "cell-bc9057e4592ec372",
     "locked": true,
     "schema_version": 1,
     "solution": false
    }
   },
   "source": [
    "**Q**: Build a function to return a regex expression. The expression, when passed to the appropriate `re` function, should find all of the dates of the format YYYY-MM-DD in the in following string.\n",
    "\n",
    "```python\n",
    ">>> string = \"\"\"\n",
    "2010-04-29 1984 ABC-123!\n",
    "Feb 18th, 2018. \n",
    "888-27-8949 2048-07-07\n",
    "\"\"\"\n",
    "\n",
    ">>> pattern = get_pattern()\n",
    ">>> func = get_function()\n",
    ">>> func(pattern, string)\n",
    "['2010-04-29', '2048-07-07']\n",
    "```\n",
    "\n",
    "[1 point]"
   ]
  },
  {
   "cell_type": "code",
   "execution_count": 1,
   "metadata": {
    "deletable": false,
    "nbgrader": {
     "checksum": "ebd9ff1237689a2d6c2df10dbf8085e7",
     "grade": false,
     "grade_id": "cell-191bb99330f39907",
     "locked": false,
     "schema_version": 1,
     "solution": true
    }
   },
   "outputs": [],
   "source": [
    "import re\n",
    "\n",
    "def get_pattern():\n",
    "    return re.compile(r'(?<!\\d)\\d{4}-\\d{2}-\\d{2}(?!\\d)')\n",
    "\n",
    "def get_function():\n",
    "    return re.findall"
   ]
  },
  {
   "cell_type": "code",
   "execution_count": 2,
   "metadata": {
    "deletable": false,
    "editable": false,
    "nbgrader": {
     "checksum": "02da38fd032a7af92bba3fd18a5c3d91",
     "grade": true,
     "grade_id": "cell-7c5fc12bf1bedd77",
     "locked": true,
     "points": 0.25,
     "schema_version": 1,
     "solution": false
    }
   },
   "outputs": [],
   "source": [
    "### BEGIN HIDDEN TESTS\n",
    "assert get_function() == re.findall\n",
    "### END HIDDEN TESTS"
   ]
  },
  {
   "cell_type": "code",
   "execution_count": 3,
   "metadata": {
    "deletable": false,
    "editable": false,
    "nbgrader": {
     "checksum": "a388a5b262b91e49b500115e7e19519e",
     "grade": true,
     "grade_id": "cell-37f7551c7035fb27",
     "locked": true,
     "points": 0.5,
     "schema_version": 1,
     "solution": false
    }
   },
   "outputs": [],
   "source": [
    "### BEGIN TESTS\n",
    "string = \"\"\"\n",
    "2010-04-29 1984 ABC-123!\n",
    "Feb 18th, 2018. \n",
    "888-27-8949 2048-07-07\n",
    "12048-07-074\n",
    "\"\"\"\n",
    "\n",
    "pattern = get_pattern()\n",
    "func = get_function()\n",
    "result = func(pattern, string)\n",
    "\n",
    "assert result == ['2010-04-29', '2048-07-07'], result\n",
    "### END TESTS"
   ]
  },
  {
   "cell_type": "code",
   "execution_count": 4,
   "metadata": {
    "deletable": false,
    "editable": false,
    "nbgrader": {
     "checksum": "fd5f967e8916183f369df440af1d9c62",
     "grade": true,
     "grade_id": "cell-7719cc19d23054ae",
     "locked": true,
     "points": 0.25,
     "schema_version": 1,
     "solution": false
    }
   },
   "outputs": [],
   "source": [
    "### BEGIN HIDDEN TESTS\n",
    "string = \"\"\"\n",
    "2-1-1\n",
    "00-00-00\n",
    "000-000-000\n",
    "0000-00-00\n",
    "12452-02-12\n",
    "12452-02-1\n",
    "\"\"\"\n",
    "\n",
    "pattern = get_pattern()\n",
    "func = get_function()\n",
    "result = func(pattern, string)\n",
    "\n",
    "assert result == ['0000-00-00'], result\n",
    "### END HIDDEN TESTS"
   ]
  },
  {
   "cell_type": "markdown",
   "metadata": {
    "deletable": false,
    "editable": false,
    "nbgrader": {
     "checksum": "8d0f4c102a2c3036e3f5ebfd0f4f1c0a",
     "grade": false,
     "grade_id": "cell-05d0a1b6701d4184",
     "locked": true,
     "schema_version": 1,
     "solution": false
    }
   },
   "source": [
    "**Q**: Write a function that takes a string like the following and returns a match object if a match is possible. \n",
    "\n",
    "    '2018 Mar 24 02:41:00 AM'\n",
    "\n",
    "The match object should have the following named groups:\n",
    "\n",
    "    - year\n",
    "    - month_name\n",
    "    - day\n",
    "    - hour\n",
    "    - minute\n",
    "    - second\n",
    "    - meridiem\n",
    "    \n",
    "For example, the output of ...\n",
    "\n",
    "```python\n",
    "match = pattern.match('2018 Mar 24 02:41:00 AM')\n",
    "print('MATCH', match, sep=': ')\n",
    "print('GROUPS', match.groups(), sep=': ')\n",
    "\n",
    "for name in ('year', 'month_name', 'day', 'hour', 'minute', 'second', 'meridiem'):\n",
    "    print(name.upper(), match.group(name), sep=': ')\n",
    " ```\n",
    "where `pattern` is the compiled regex expression should be:\n",
    "\n",
    "    MATCH: <_sre.SRE_Match object; span=(0, 23), match='2018 Mar 24 02:41:00 AM'>\n",
    "    GROUPS: ('2018', 'Mar', '24', '02', '41', '00', 'AM')\n",
    "    YEAR: 2018\n",
    "    MONTH_NAME: Mar\n",
    "    DAY: 24\n",
    "    HOUR: 02\n",
    "    MINUTE: 41\n",
    "    SECOND: 00\n",
    "    MERIDIEM: AM\n",
    "    \n",
    "\n",
    "[2 points]"
   ]
  },
  {
   "cell_type": "code",
   "execution_count": 5,
   "metadata": {
    "deletable": false,
    "nbgrader": {
     "checksum": "0a79bd5182cbb8d2da82f42ef9ef682a",
     "grade": false,
     "grade_id": "cell-be554692bfc729a9",
     "locked": false,
     "schema_version": 1,
     "solution": true
    }
   },
   "outputs": [],
   "source": [
    "import re\n",
    "\n",
    "def get_match_object(string):\n",
    "    pattern = re.compile(r'(?P<year>\\d{4})\\s(?P<month_name>[a-zA-Z]{3})\\s(?P<day>\\d{2})\\s'\\\n",
    "                        +r'(?P<hour>\\d{2}):(?P<minute>\\d{2}):(?P<second>\\d{2})\\s(?P<meridiem>[A-Z]{2})')\n",
    "    return re.match(pattern, string)\n",
    "\n",
    "    # YOUR CODE HERE\n",
    "    #raise NotImplementedError()"
   ]
  },
  {
   "cell_type": "code",
   "execution_count": 6,
   "metadata": {
    "deletable": false,
    "editable": false,
    "nbgrader": {
     "checksum": "9c1d669f3f9d52a53b9cb5d2d0a51eb3",
     "grade": true,
     "grade_id": "cell-20885ead6e5a1fac",
     "locked": true,
     "points": 0.25,
     "schema_version": 1,
     "solution": false
    }
   },
   "outputs": [],
   "source": [
    "### BEGIN TESTS\n",
    "match = get_match_object('2018 Mar 24 02:41:00 AM')\n",
    "assert match.group('year') == '2018'\n",
    "### END TESTS"
   ]
  },
  {
   "cell_type": "code",
   "execution_count": 7,
   "metadata": {
    "deletable": false,
    "editable": false,
    "nbgrader": {
     "checksum": "4894c8dbb299eab7deec8e36aaa091fd",
     "grade": true,
     "grade_id": "cell-d65adb32954b254a",
     "locked": true,
     "points": 0.25,
     "schema_version": 1,
     "solution": false
    }
   },
   "outputs": [],
   "source": [
    "### BEGIN TESTS\n",
    "match = get_match_object('2018 Mar 24 02:41:00 AM')\n",
    "assert match.group('month_name') == 'Mar'\n",
    "### END TESTS"
   ]
  },
  {
   "cell_type": "code",
   "execution_count": 8,
   "metadata": {
    "deletable": false,
    "editable": false,
    "nbgrader": {
     "checksum": "8cc6287a550b2b16420a3cd3360ed8c5",
     "grade": true,
     "grade_id": "cell-64860e1dd88fbc1d",
     "locked": true,
     "points": 0.25,
     "schema_version": 1,
     "solution": false
    }
   },
   "outputs": [],
   "source": [
    "### BEGIN TESTS\n",
    "match = get_match_object('2018 Mar 24 02:41:00 AM')\n",
    "assert match.group('day') == '24'\n",
    "### END TESTS"
   ]
  },
  {
   "cell_type": "code",
   "execution_count": 9,
   "metadata": {
    "deletable": false,
    "editable": false,
    "nbgrader": {
     "checksum": "f53a80f89d121b9391200df5ad97bd40",
     "grade": true,
     "grade_id": "cell-47661529f963e201",
     "locked": true,
     "points": 0.25,
     "schema_version": 1,
     "solution": false
    }
   },
   "outputs": [],
   "source": [
    "### BEGIN TESTS\n",
    "match = get_match_object('2018 Mar 24 02:41:00 AM')\n",
    "assert match.group('hour') == '02'\n",
    "### END TESTS"
   ]
  },
  {
   "cell_type": "code",
   "execution_count": 10,
   "metadata": {
    "deletable": false,
    "editable": false,
    "nbgrader": {
     "checksum": "9f38e2a8362bb64527efbbfe1f93a495",
     "grade": true,
     "grade_id": "cell-2e203308d6349075",
     "locked": true,
     "points": 0.25,
     "schema_version": 1,
     "solution": false
    }
   },
   "outputs": [],
   "source": [
    "### BEGIN TESTS\n",
    "match = get_match_object('2018 Mar 24 02:41:00 AM')\n",
    "assert match.group('minute') == '41'\n",
    "### END TESTS"
   ]
  },
  {
   "cell_type": "code",
   "execution_count": 11,
   "metadata": {
    "deletable": false,
    "editable": false,
    "nbgrader": {
     "checksum": "aa4c1d00b661e0104cc0c50484cb1b62",
     "grade": true,
     "grade_id": "cell-51337e5d0dacb4ad",
     "locked": true,
     "points": 0.25,
     "schema_version": 1,
     "solution": false
    }
   },
   "outputs": [],
   "source": [
    "### BEGIN TESTS\n",
    "match = get_match_object('2018 Mar 24 02:41:00 AM')\n",
    "assert match.group('second') == '00'\n",
    "### END TESTS"
   ]
  },
  {
   "cell_type": "code",
   "execution_count": 12,
   "metadata": {
    "deletable": false,
    "editable": false,
    "nbgrader": {
     "checksum": "ed3002d32c01e5982adc390952650724",
     "grade": true,
     "grade_id": "cell-d49f5d2076486460",
     "locked": true,
     "points": 0.25,
     "schema_version": 1,
     "solution": false
    }
   },
   "outputs": [],
   "source": [
    "### BEGIN TESTS\n",
    "match = get_match_object('2018 Mar 24 02:41:00 AM')\n",
    "assert match.group('meridiem') == 'AM'\n",
    "### END TESTS"
   ]
  },
  {
   "cell_type": "code",
   "execution_count": 13,
   "metadata": {
    "deletable": false,
    "editable": false,
    "nbgrader": {
     "checksum": "6c1627955bcfbca3b4bdf0ce6fcbbdc6",
     "grade": true,
     "grade_id": "cell-d5f2c2c1e38f1be6",
     "locked": true,
     "points": 0.25,
     "schema_version": 1,
     "solution": false
    }
   },
   "outputs": [],
   "source": [
    "### BEGIN HIDDEN TESTS\n",
    "match = get_match_object('1999 Dec 31 11:59:59 PM')\n",
    "groups = ('year', 'month_name', 'day', 'hour', 'minute', 'second', 'meridiem')\n",
    "assert [match.group(name) for name in groups] == ['1999', 'Dec', '31', '11', '59', '59', 'PM']\n",
    "### END HIDDEN TESTS"
   ]
  },
  {
   "cell_type": "markdown",
   "metadata": {
    "deletable": false,
    "editable": false,
    "nbgrader": {
     "checksum": "a719f05183deba118d01f4f072316e05",
     "grade": false,
     "grade_id": "cell-488aa823ff6e1d28",
     "locked": true,
     "schema_version": 1,
     "solution": false
    }
   },
   "source": [
    "**Q**: NYC publishes 311 call reports for public review. An example slice of that data has been made available at the following link:\n",
    "\n",
    "https://data.cityofnewyork.us/Social-Services/311-11-19-2018-/6ir3-7kwf/data\n",
    "\n",
    "BUT ... please download a conditioned CSV of this data from courseworks. It will be named \"311__11_19_2018.csv\".\n",
    "\n",
    "Using the `re` module, find the number at the beginning of each \"Incident Address\". \n",
    "\n",
    "For \"17 WEST 74 STREET\" the number would be 17, for \"88-28 74 PLACE\" the number would be 88-28. Ignore addresses that are empty strings. If the street number is 123A, consider the number to be 123. An address must start with a number to be considered; so addresses like \"-123\" should not be considered. \n",
    "\n",
    "If the number is a hyphenated number, peform the subtraction (ie. 88-28 = 60). Sum up all of the results of the hyphenated addresses. (ie. 60 + (24-11) + ...). \n",
    "\n",
    "Sum up all the un-hyphenated addresses.\n",
    "\n",
    "Return the pair as a tuple from the function provided. The function should take the absolute path to the CSV file.\n",
    "\n",
    "[2 points]"
   ]
  },
  {
   "cell_type": "code",
   "execution_count": 15,
   "metadata": {},
   "outputs": [
    {
     "data": {
      "text/plain": [
       "(5527, 288085)"
      ]
     },
     "execution_count": 15,
     "metadata": {},
     "output_type": "execute_result"
    }
   ],
   "source": [
    "\n",
    "uh = 0\n",
    "h = 0 \n",
    "with open('311__11_19_2018_.csv', 'r') as f:\n",
    "        pattern = re.compile(r'^\\d[\\d-]*')\n",
    "        #hyph = []\n",
    "        #unhyph = []\n",
    "\n",
    "        \n",
    "        for line in f.readlines():\n",
    "            address = re.split(r',', line)[9]\n",
    "            if address:\n",
    "                res = re.search(pattern, address) \n",
    "                if res:\n",
    "                    number = res.group(0)\n",
    "                    if '-' in number:\n",
    "                        sp = [int(v) for v in number.split('-')]\n",
    "                        uh += (sp[0]-sp[1])\n",
    "                    else:\n",
    "                        h += int(number)\n",
    "                        \n",
    "uh, h"
   ]
  },
  {
   "cell_type": "code",
   "execution_count": 16,
   "metadata": {
    "deletable": false,
    "nbgrader": {
     "checksum": "6b7a79cb01f7f2b13c31cc341dea807c",
     "grade": false,
     "grade_id": "cell-0b8c920f2ed2ebfc",
     "locked": false,
     "schema_version": 1,
     "solution": true
    }
   },
   "outputs": [],
   "source": [
    "def get_address_sums(path: str) -> (int, int):\n",
    "    with open(path) as f:\n",
    "        pattern = re.compile(r'^\\d[\\d-]*')\n",
    "        hyph = []\n",
    "        unhyph = []\n",
    "\n",
    "\n",
    "        for line in f.readlines():\n",
    "            address = re.split(r',', line)[9]\n",
    "\n",
    "            #For case tests:\n",
    "            #address = '123A'\n",
    "            if address:\n",
    "                res = re.search(pattern, address) \n",
    "                if res:\n",
    "                    number = res.group(0)\n",
    "                    if '-' in number:\n",
    "                        sp = [int(v) for v in number.split('-')]\n",
    "                        \n",
    "                        #subtract all\n",
    "                        first = sp[0]\n",
    "                        rest = sp[1:]\n",
    "                        for v in rest:\n",
    "                            first -= v\n",
    "                        hyph.append(first)\n",
    "                    else:\n",
    "                        unhyph.append(int(number))\n",
    "\n",
    "\n",
    "                    #print(address, ' | ', number)\n",
    "    result = (sum(hyph), sum(unhyph))\n",
    "    return result"
   ]
  },
  {
   "cell_type": "code",
   "execution_count": 17,
   "metadata": {
    "deletable": false,
    "editable": false,
    "nbgrader": {
     "checksum": "bc947aabe410fcc1d8aa03b70e641ce6",
     "grade": true,
     "grade_id": "cell-695afe2438cf8f12",
     "locked": true,
     "points": 0,
     "schema_version": 1,
     "solution": false
    }
   },
   "outputs": [],
   "source": [
    "### BEGIN HIDDEN TESTS\n",
    "unhyphenated, hyphenated = get_address_sums('311__11_19_2018_.csv')\n",
    "### END HIDDEN TESTS"
   ]
  },
  {
   "cell_type": "code",
   "execution_count": 18,
   "metadata": {
    "deletable": false,
    "editable": false,
    "nbgrader": {
     "checksum": "8dc5547646e0f4f8241c4dd2e19c58cd",
     "grade": true,
     "grade_id": "cell-7ab2046a0323a2a7",
     "locked": true,
     "points": 1,
     "schema_version": 1,
     "solution": false
    }
   },
   "outputs": [
    {
     "ename": "AssertionError",
     "evalue": "",
     "output_type": "error",
     "traceback": [
      "\u001b[0;31m---------------------------------------------------------------------------\u001b[0m",
      "\u001b[0;31mAssertionError\u001b[0m                            Traceback (most recent call last)",
      "\u001b[0;32m<ipython-input-18-5dfcfa7ec178>\u001b[0m in \u001b[0;36m<module>\u001b[0;34m\u001b[0m\n\u001b[1;32m      1\u001b[0m \u001b[0;31m### BEGIN HIDDEN TESTS\u001b[0m\u001b[0;34m\u001b[0m\u001b[0;34m\u001b[0m\u001b[0;34m\u001b[0m\u001b[0m\n\u001b[0;32m----> 2\u001b[0;31m \u001b[0;32massert\u001b[0m \u001b[0munhyphenated\u001b[0m \u001b[0;34m==\u001b[0m \u001b[0;36m278084\u001b[0m\u001b[0;34m\u001b[0m\u001b[0;34m\u001b[0m\u001b[0m\n\u001b[0m\u001b[1;32m      3\u001b[0m \u001b[0;31m### END HIDDEN TESTS\u001b[0m\u001b[0;34m\u001b[0m\u001b[0;34m\u001b[0m\u001b[0;34m\u001b[0m\u001b[0m\n",
      "\u001b[0;31mAssertionError\u001b[0m: "
     ]
    }
   ],
   "source": [
    "### BEGIN HIDDEN TESTS\n",
    "assert unhyphenated == 278084\n",
    "### END HIDDEN TESTS"
   ]
  },
  {
   "cell_type": "code",
   "execution_count": 19,
   "metadata": {
    "deletable": false,
    "editable": false,
    "nbgrader": {
     "checksum": "df1e988f60f991b4f7adec834c0dda5e",
     "grade": true,
     "grade_id": "cell-3d7a0349af2c6f3f",
     "locked": true,
     "points": 1,
     "schema_version": 1,
     "solution": false
    }
   },
   "outputs": [
    {
     "ename": "AssertionError",
     "evalue": "",
     "output_type": "error",
     "traceback": [
      "\u001b[0;31m---------------------------------------------------------------------------\u001b[0m",
      "\u001b[0;31mAssertionError\u001b[0m                            Traceback (most recent call last)",
      "\u001b[0;32m<ipython-input-19-a38d64d0d800>\u001b[0m in \u001b[0;36m<module>\u001b[0;34m\u001b[0m\n\u001b[1;32m      1\u001b[0m \u001b[0;31m### BEGIN HIDDEN TESTS\u001b[0m\u001b[0;34m\u001b[0m\u001b[0;34m\u001b[0m\u001b[0;34m\u001b[0m\u001b[0m\n\u001b[0;32m----> 2\u001b[0;31m \u001b[0;32massert\u001b[0m \u001b[0mhyphenated\u001b[0m \u001b[0;34m==\u001b[0m \u001b[0;36m5527\u001b[0m\u001b[0;34m\u001b[0m\u001b[0;34m\u001b[0m\u001b[0m\n\u001b[0m\u001b[1;32m      3\u001b[0m \u001b[0;31m### END HIDDEN TESTS\u001b[0m\u001b[0;34m\u001b[0m\u001b[0;34m\u001b[0m\u001b[0;34m\u001b[0m\u001b[0m\n",
      "\u001b[0;31mAssertionError\u001b[0m: "
     ]
    }
   ],
   "source": [
    "### BEGIN HIDDEN TESTS\n",
    "assert hyphenated == 5527\n",
    "### END HIDDEN TESTS"
   ]
  },
  {
   "cell_type": "code",
   "execution_count": 22,
   "metadata": {},
   "outputs": [
    {
     "data": {
      "text/plain": [
       "288085"
      ]
     },
     "execution_count": 22,
     "metadata": {},
     "output_type": "execute_result"
    }
   ],
   "source": [
    "hyphenated"
   ]
  },
  {
   "cell_type": "code",
   "execution_count": null,
   "metadata": {},
   "outputs": [],
   "source": []
  }
 ],
 "metadata": {
  "kernelspec": {
   "display_name": "Python 3",
   "language": "python",
   "name": "python3"
  },
  "language_info": {
   "codemirror_mode": {
    "name": "ipython",
    "version": 3
   },
   "file_extension": ".py",
   "mimetype": "text/x-python",
   "name": "python",
   "nbconvert_exporter": "python",
   "pygments_lexer": "ipython3",
   "version": "3.6.7"
  }
 },
 "nbformat": 4,
 "nbformat_minor": 2
}
